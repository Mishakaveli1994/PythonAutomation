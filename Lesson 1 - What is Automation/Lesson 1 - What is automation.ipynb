{
 "cells": [
  {
   "cell_type": "markdown",
   "metadata": {
    "editable": true,
    "slideshow": {
     "slide_type": "slide"
    },
    "tags": []
   },
   "source": [
    "# <div style=\"padding: 0 10%\"><center>Automation intro</center></div>"
   ]
  },
  {
   "cell_type": "markdown",
   "metadata": {
    "editable": true,
    "slideshow": {
     "slide_type": "slide"
    },
    "tags": []
   },
   "source": [
    "<center><img src=\"../images/automation.jpg\" width=\"600\" height=\"600\"></center>"
   ]
  },
  {
   "cell_type": "markdown",
   "metadata": {
    "editable": true,
    "slideshow": {
     "slide_type": "fragment"
    },
    "tags": []
   },
   "source": [
    "<div style=\"padding: 0 10%\"><p>Automation is the use of technology to perform tasks with minimal or no human intervention. It involves creating systems or processes that can operate independently, following predefined rules and instructions.</p></div>"
   ]
  },
  {
   "cell_type": "markdown",
   "metadata": {
    "editable": true,
    "slideshow": {
     "slide_type": "slide"
    },
    "tags": []
   },
   "source": [
    "## <div style=\"padding: 0 10%\">Key Aspects of Automation</div>"
   ]
  },
  {
   "cell_type": "markdown",
   "metadata": {
    "editable": true,
    "slideshow": {
     "slide_type": "fragment"
    },
    "tags": []
   },
   "source": [
    "<div style=\"padding: 0 10%\"><p>1. <b>Reducing Human Involvement</b>: Automation replaces manual, repetitive tasks with machine execution.</p></div>"
   ]
  },
  {
   "cell_type": "markdown",
   "metadata": {
    "editable": true,
    "slideshow": {
     "slide_type": "fragment"
    },
    "tags": []
   },
   "source": [
    "<div style=\"padding: 0 10%\"><p>2. <b>Process Control</b>: It involves orchestrating a sequence of steps or actions according to a set of rules or logic.</p></div>"
   ]
  },
  {
   "cell_type": "markdown",
   "metadata": {
    "editable": true,
    "slideshow": {
     "slide_type": "fragment"
    },
    "tags": []
   },
   "source": [
    "<div style=\"padding: 0 10%\"><p>3. <b>Decision-making</b>: Automation can incorporate decision-making capabilities based on data input and pre-programmed criteria.</p></div>"
   ]
  },
  {
   "cell_type": "markdown",
   "metadata": {
    "editable": true,
    "slideshow": {
     "slide_type": "fragment"
    },
    "tags": []
   },
   "source": [
    "<div style=\"padding: 0 10%\"><p>4. <b>Feedback Loops</b>: Automated systems often use sensors or other feedback mechanisms to monitor performance and adjust their actions dynamically.</p></div>"
   ]
  },
  {
   "cell_type": "markdown",
   "metadata": {
    "editable": true,
    "slideshow": {
     "slide_type": "slide"
    },
    "tags": []
   },
   "source": [
    "## <div style=\"padding: 0 10%\">Types of Automation</div>"
   ]
  },
  {
   "cell_type": "markdown",
   "metadata": {
    "editable": true,
    "slideshow": {
     "slide_type": "fragment"
    },
    "tags": []
   },
   "source": [
    "<div style=\"padding: 0 10%\"><p>1. <b>Basic Automation</b>: Simple tasks or sequences of actions.</p></div>"
   ]
  },
  {
   "cell_type": "markdown",
   "metadata": {
    "editable": true,
    "slideshow": {
     "slide_type": "fragment"
    },
    "tags": []
   },
   "source": [
    "<div style=\"padding: 0 10%\"><p>2. <b>Process Automation</b>: Workflows and business processes that involve multiple steps or systems.</p></div>"
   ]
  },
  {
   "cell_type": "markdown",
   "metadata": {
    "editable": true,
    "slideshow": {
     "slide_type": "fragment"
    },
    "tags": []
   },
   "source": [
    "<div style=\"padding: 0 10%\"><p>3. <b>Robotic Process Automation (RPA)</b>: Software \"bots\" that mimic human actions on a computer to automate repetitive rule-based tasks.</p></div>"
   ]
  },
  {
   "cell_type": "markdown",
   "metadata": {
    "editable": true,
    "slideshow": {
     "slide_type": "fragment"
    },
    "tags": []
   },
   "source": [
    "<div style=\"padding: 0 10%\"><p>4. <b>Intelligent Automation</b>: Combines automation with technologies like artificial intelligence (AI) and machine learning for more complex decision-making.</p></div>"
   ]
  },
  {
   "cell_type": "markdown",
   "metadata": {
    "editable": true,
    "slideshow": {
     "slide_type": "slide"
    },
    "tags": []
   },
   "source": [
    "## <div style=\"padding: 0 10%\">Benefits of Automation</div>"
   ]
  },
  {
   "cell_type": "markdown",
   "metadata": {
    "editable": true,
    "slideshow": {
     "slide_type": "fragment"
    },
    "tags": []
   },
   "source": [
    "<div style=\"padding: 0 10%\"><p>1. <b>Increased Efficiency</b>: Faster task completion and reduced errors.</p></div>"
   ]
  },
  {
   "cell_type": "markdown",
   "metadata": {
    "editable": true,
    "slideshow": {
     "slide_type": "fragment"
    },
    "tags": []
   },
   "source": [
    "<div style=\"padding: 0 10%\"><p>2. <b>Cost Savings</b>: Reduced labor costs and waste.</p></div>"
   ]
  },
  {
   "cell_type": "markdown",
   "metadata": {
    "editable": true,
    "slideshow": {
     "slide_type": "fragment"
    },
    "tags": []
   },
   "source": [
    "<div style=\"padding: 0 10%\"><p>3. <b>Improved Consistency</b>: Reliable and repeatable outcomes.</p></div>"
   ]
  },
  {
   "cell_type": "markdown",
   "metadata": {
    "editable": true,
    "slideshow": {
     "slide_type": "fragment"
    },
    "tags": []
   },
   "source": [
    "<div style=\"padding: 0 10%\"><p>4. <b>Enhanced Scalability</b>: Systems can handle larger volumes of work.</p></div>"
   ]
  },
  {
   "cell_type": "markdown",
   "metadata": {
    "editable": true,
    "slideshow": {
     "slide_type": "fragment"
    },
    "tags": []
   },
   "source": [
    "<div style=\"padding: 0 10%\"><p>5. <b>Frees Up Human Resources</b>: Allows for focusing on higher-level, more strategic tasks.</p></div>"
   ]
  },
  {
   "cell_type": "markdown",
   "metadata": {
    "editable": true,
    "slideshow": {
     "slide_type": "slide"
    },
    "tags": []
   },
   "source": [
    "## <div style=\"padding: 0 10%\">Core Principles</div>"
   ]
  },
  {
   "cell_type": "markdown",
   "metadata": {
    "editable": true,
    "slideshow": {
     "slide_type": "fragment"
    },
    "tags": []
   },
   "source": [
    "<div style=\"padding: 0 10%\"><p>1. <b>Identify Repetitive Tasks</b>: Automation shines when applied to mundane, repetitive tasks that follow a clear set of rules. Analyze workflows and pinpoint suitable candidates.</p></div>"
   ]
  },
  {
   "cell_type": "markdown",
   "metadata": {
    "editable": true,
    "slideshow": {
     "slide_type": "fragment"
    },
    "tags": []
   },
   "source": [
    "<div style=\"padding: 0 10%\"><p>2. <b>Simplify Processes</b>: Before automating, review and streamline existing processes. Eliminate unnecessary steps or redundancies. A well-optimized process leads to a smoother automation implementation.</p></div>"
   ]
  },
  {
   "cell_type": "markdown",
   "metadata": {
    "editable": true,
    "slideshow": {
     "slide_type": "fragment"
    },
    "tags": []
   },
   "source": [
    "<div style=\"padding: 0 10%\"><p>3. <b>Define Success Criteria</b>: Establish clear goals and measurable outcomes for your automation project. What are you trying to improve – efficiency, accuracy, cost reduction, or something else?</p></div>"
   ]
  },
  {
   "cell_type": "markdown",
   "metadata": {
    "editable": true,
    "slideshow": {
     "slide_type": "fragment"
    },
    "tags": []
   },
   "source": [
    "<div style=\"padding: 0 10%\"><p>4. <b>Choose the Right Tools</b>: Select automation tools or technologies that align with the tasks being automated, the skills of your team, and your budget. Consider options like task-specific apps, RPA (Robotic Process Automation), or custom scripts.</p></div>"
   ]
  },
  {
   "cell_type": "markdown",
   "metadata": {
    "editable": true,
    "slideshow": {
     "slide_type": "slide"
    },
    "tags": []
   },
   "source": [
    "<div style=\"padding: 0 10%\"><p>5. <b>Test Thoroughly</b>: Rigorous testing is essential before full-scale deployment. Test various scenarios, including edge cases, to ensure the automation works as intended and doesn't produce unexpected results.</p></div>"
   ]
  },
  {
   "cell_type": "markdown",
   "metadata": {
    "editable": true,
    "slideshow": {
     "slide_type": "fragment"
    },
    "tags": []
   },
   "source": [
    "<div style=\"padding: 0 10%\"><p>6. <b>Monitor and Maintain</b>: Automation isn't a \"set it and forget it\" solution. Monitor performance, handle exceptions, maintain your automation system and update it as processes or requirements change.</p></div>"
   ]
  },
  {
   "cell_type": "markdown",
   "metadata": {
    "editable": true,
    "slideshow": {
     "slide_type": "fragment"
    },
    "tags": []
   },
   "source": [
    "<div style=\"padding: 0 10%\"><p>7. <b>Start Small, Iterate</b>: Begin with automating relatively simple tasks, gathering feedback, and then gradually expand your automation initiative.</p></div>"
   ]
  },
  {
   "cell_type": "markdown",
   "metadata": {
    "editable": true,
    "slideshow": {
     "slide_type": "fragment"
    },
    "tags": []
   },
   "source": [
    "<div style=\"padding: 0 10%\"><p>8. <b>Involve Users</b>: Get input from the people who perform the tasks you intend to automate. Their insights will be valuable in designing a solution that meets their needs.</p></div>"
   ]
  },
  {
   "cell_type": "markdown",
   "metadata": {
    "editable": true,
    "slideshow": {
     "slide_type": "slide"
    },
    "tags": []
   },
   "source": [
    "<div style=\"padding: 0 10%\"><p>9. <b>Human-Centered Design</b>: Remember that automation should augment human capabilities, not replace them completely. Consider how humans and automation will interact most effectively.</p></div>"
   ]
  },
  {
   "cell_type": "markdown",
   "metadata": {
    "editable": true,
    "slideshow": {
     "slide_type": "fragment"
    },
    "tags": []
   },
   "source": [
    "<div style=\"padding: 0 10%\"><p>10. <b>Data-Driven Approach</b>: Use data to track the impact of automation on efficiency, quality, and other key metrics. This helps to justify the investment and identify areas for continuous improvement.</p></div>"
   ]
  },
  {
   "cell_type": "markdown",
   "metadata": {
    "editable": true,
    "slideshow": {
     "slide_type": "slide"
    },
    "tags": []
   },
   "source": [
    "### <div style=\"padding: 0 10%\">Proper Mindset</div>"
   ]
  },
  {
   "cell_type": "markdown",
   "metadata": {
    "editable": true,
    "slideshow": {
     "slide_type": "slide"
    },
    "tags": []
   },
   "source": [
    "<div style=\"padding: 0 10%\"><p style=\"text-align:center\">You are usually presented with a big task that you need to undertake:</p></div>"
   ]
  },
  {
   "cell_type": "markdown",
   "metadata": {
    "editable": true,
    "slideshow": {
     "slide_type": "fragment"
    },
    "tags": []
   },
   "source": [
    "<center><img src=\"../images/Initial_task.png\"></center>"
   ]
  },
  {
   "cell_type": "markdown",
   "metadata": {
    "editable": true,
    "slideshow": {
     "slide_type": "skip"
    },
    "tags": []
   },
   "source": [
    "<center>\n",
    "    \n",
    "```mermaid\n",
    "\n",
    "flowchart LR\n",
    "    id1(There is a new parameter that needs to be added to a number of automated tests)\n",
    "```\n",
    "</center>"
   ]
  },
  {
   "cell_type": "markdown",
   "metadata": {
    "editable": true,
    "slideshow": {
     "slide_type": "slide"
    },
    "tags": []
   },
   "source": [
    "### <div style=\"padding: 0 10%\">How should you tackle it?</div>"
   ]
  },
  {
   "cell_type": "markdown",
   "metadata": {
    "editable": true,
    "slideshow": {
     "slide_type": "fragment"
    },
    "tags": []
   },
   "source": [
    "<center><img src=\"../images/Split_task.png\"></center>"
   ]
  },
  {
   "cell_type": "markdown",
   "metadata": {
    "editable": true,
    "slideshow": {
     "slide_type": "skip"
    },
    "tags": []
   },
   "source": [
    "```mermaid\n",
    "\n",
    "flowchart TD\n",
    "    id2(Is the time task critical? Plan your resources!) \n",
    "    id2---|If time critical, should/can we onboard more people?|id3\n",
    "    id2---|If not time critical, provide a reasonable timeframe for competion|id3\n",
    "    id3(Find out which tests are affected)---|Document your investigation!|id4\n",
    "    id4(What kind of software can you use? Do you have any constraints?)\n",
    "    id4---|If you have constraints, what you can use?|id5\n",
    "    id4---|If you don't have constraints, what will be most \n",
    "    cost-effective/easiest to maintain?|id5\n",
    "    id5(What software are you or your team proficient with? \n",
    "    Will it perform acceptably or can you use an already existing solution?)\n",
    "    id5---|Is is there a ready solution you can use?|id6\n",
    "    id5---|Which are your team's specialties?|id6\n",
    "    id6(How are parameters added to your current tests?)\n",
    "    --> id7(Create a function that can insert the needed parameter in their definition)\n",
    "    --> id8(Test implementation of a small subset of tests)\n",
    "    id8---|If they succed, \n",
    "    document your test results!|id9\n",
    "    id8---|If they fail, iteratively fix them|id9\n",
    "    id9(Confirm successful implementation)\n",
    "    --> id10(Execute solution for all tests)\n",
    "    --> id11(Monitor end result and resolve any issues)\n",
    "    \n",
    "```"
   ]
  },
  {
   "cell_type": "code",
   "execution_count": null,
   "metadata": {},
   "outputs": [],
   "source": []
  }
 ],
 "metadata": {
  "kernelspec": {
   "display_name": "Python 3 (ipykernel)",
   "language": "python",
   "name": "python3"
  },
  "language_info": {
   "codemirror_mode": {
    "name": "ipython",
    "version": 3
   },
   "file_extension": ".py",
   "mimetype": "text/x-python",
   "name": "python",
   "nbconvert_exporter": "python",
   "pygments_lexer": "ipython3",
   "version": "3.9.7"
  },
  "toc": {
   "base_numbering": 1,
   "nav_menu": {},
   "number_sections": false,
   "sideBar": true,
   "skip_h1_title": false,
   "title_cell": "Table of Contents",
   "title_sidebar": "Contents",
   "toc_cell": false,
   "toc_position": {},
   "toc_section_display": true,
   "toc_window_display": false
  }
 },
 "nbformat": 4,
 "nbformat_minor": 4
}

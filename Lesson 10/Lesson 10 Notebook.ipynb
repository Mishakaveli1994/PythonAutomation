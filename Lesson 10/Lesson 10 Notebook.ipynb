{
 "cells": [
  {
   "cell_type": "code",
   "execution_count": null,
   "metadata": {
    "editable": true,
    "slideshow": {
     "slide_type": "skip"
    },
    "tags": []
   },
   "outputs": [],
   "source": [
    "%%HTML\n",
    "<style>\n",
    "div.heading{\n",
    "    padding: 0 10%;\n",
    "    text-align:center;\n",
    "    }\n",
    "\n",
    "p.text{\n",
    "    text-align:center;\n",
    "    padding: 0 10%;\n",
    "\n",
    "}\n",
    "</style>"
   ]
  },
  {
   "cell_type": "markdown",
   "metadata": {
    "editable": true,
    "slideshow": {
     "slide_type": "slide"
    },
    "tags": []
   },
   "source": [
    "# <p class=\"text\">Python for Automation - Lesson 10</p> "
   ]
  },
  {
   "cell_type": "markdown",
   "metadata": {
    "editable": true,
    "slideshow": {
     "slide_type": "slide"
    },
    "tags": []
   },
   "source": [
    "<div class=\"heading\">\n",
    "    <ul style=\"list-style-type:none\">\n",
    "        <li><b>Lesson 10 Structure:</b></li>\n",
    "        <li>Object-Oriented Programming (OOP) in Python 3</li>\n",
    "    </ul>\n",
    "</div>"
   ]
  },
  {
   "cell_type": "markdown",
   "metadata": {},
   "source": [
    "## <p class=\"text\">What Is Object-Oriented Programming in Python?</p>\n",
    "\n",
    "Object-oriented programming is a programming paradigm that provides a means of structuring programs so that properties and behaviors are bundled into individual objects.\n",
    "\n",
    "For example, an object could represent a person with properties like a name, age, and address and behaviors such as walking, talking, breathing, and running. Or it could represent an email with properties like a recipient list, subject, and body and behaviors like adding attachments and sending.\n",
    "\n",
    "Put another way, object-oriented programming is an approach for modeling concrete, real-world things, like cars, as well as relations between things, like companies and employees or students and teachers. OOP models real-world entities as software objects that have some data associated with them and can perform certain operations."
   ]
  },
  {
   "cell_type": "markdown",
   "metadata": {},
   "source": [
    "## <p class=\"text\">How do we define a class in Python?</p>\n",
    "\n",
    "<p class=\"text\">In Python, you define a class by using the class keyword followed by a name and a colon. Then you use .__init__() to declare which attributes each instance of the class should have:</p> "
   ]
  },
  {
   "cell_type": "code",
   "execution_count": null,
   "metadata": {},
   "outputs": [],
   "source": [
    "# Define a simple class in Python\n",
    "class Person:\n",
    "    def __init__(self, name, age):\n",
    "        self.name = name\n",
    "        self.age = age"
   ]
  },
  {
   "cell_type": "markdown",
   "metadata": {},
   "source": [
    "But why do we need classes, if we can use basic structures ? \n",
    "    The answer is that it makes the code a lot harder to read and understand due to the nature of the data structures being abstract. Classes also make the code a lot easier to maintain in the long run and can check for data consistency, preventing you from doing mistakes. Below I will use a basic structure and a class to represent the same collections of data."
   ]
  },
  {
   "cell_type": "code",
   "execution_count": null,
   "metadata": {},
   "outputs": [],
   "source": [
    "# Data Structure implementation\n",
    "kirk = [\"James Kirk\", 34, \"Captain\", 2265]\n",
    "spock = [\"Spock\", 35, \"Science Officer\", 2254]\n",
    "mccoy = [\"Leonard McCoy\", \"Chief Medical Officer\", 2266]\n",
    "\n",
    "crew = [kirk, spock, mccoy] # Create a object to contain the whole crew\n",
    "\n",
    "def find_crew_member(name:str, crew_list: list) -> list[str]:\n",
    "    \"\"\"\n",
    "    Function to retrieve a reference to a specific crew member\n",
    "    \"\"\"\n",
    "    crew_member = [member for member in crew_list if member[0] == name]\n",
    "    if crew_member:\n",
    "        return crew_member\n",
    "\n",
    "# For example we want to find how Captain Kirk would introduce himself\n",
    "member = find_crew_member('James Kirk', crew)\n",
    "if member:\n",
    "    print(f'Hello! My name is {member[0][2]} {member[0][0]}. I\\'m {member[0][1]} years old and my StarFleet ID is {member[0][3]}.')\n",
    "else:\n",
    "    print('No crewmember with that name!')\n",
    "\n",
    "# But what happens if we try to do the same with Leonard McCoy ?\n",
    "member = find_crew_member('Leonard McCoy', crew)\n",
    "if member:\n",
    "    print(f'Hello! My name is {member[0][2]} {member[0][0]}. I\\'m {member[0][1]} years old and my StarFleet ID is {member[0][3]}.')"
   ]
  },
  {
   "cell_type": "code",
   "execution_count": null,
   "metadata": {},
   "outputs": [],
   "source": [
    "# Class implementation\n",
    "class CrewMember():\n",
    "    def __init__(self, name:str, title:str, fleet_id:int, age:[str|int]):\n",
    "        self.name = name\n",
    "        self.age = age\n",
    "        self.title = title\n",
    "        self.fleet_id = fleet_id\n",
    "\n",
    "class StarFleet:\n",
    "    def __init__(self):\n",
    "        self.crew_members = []\n",
    "\n",
    "    def add_crew_member(self, name:str, title:str, fleet_id:int, age:int='(title unknown)'):\n",
    "        \"\"\"\n",
    "        Method to add a crew member to StarFleet\n",
    "        \"\"\"\n",
    "        self.crew_members.append(CrewMember(name, age, title, fleet_id))\n",
    "\n",
    "    def find_crew_member(self, name:str):\n",
    "        \"\"\"\n",
    "        Method to find a member of StarFleet\n",
    "        \"\"\"\n",
    "        crew_member = [member for member in self.crew_members if member.name == name]\n",
    "        if crew_member:\n",
    "            return crew_member\n",
    "\n",
    "    def present_member(self, name:str):\n",
    "        \"\"\"\n",
    "        Method to present a crew member\n",
    "        \"\"\"\n",
    "        member = self.find_crew_member(name)\n",
    "        if member:\n",
    "            member = member[0]\n",
    "            return f'Hello! My name is {member.title} {member.name}. I\\'m {member.age} years old and my StarFleet ID is {member.fleet_id}.'\n",
    "        else:\n",
    "            return 'No crewmember with that name!'\n",
    "\n",
    "sf = StarFleet()\n",
    "sf.add_crew_member(name=\"James Kirk\", age=34, title=\"Captain\", fleet_id=2265)\n",
    "sf.add_crew_member(name=\"Spock\", age=35, title=\"Science Officer\", fleet_id=2254)\n",
    "sf.add_crew_member(name=\"Leonard McCoy\", title=\"Chief Medical Officer\", fleet_id=2266)\n",
    "\n",
    "print(sf.present_member(\"James Kirk\"))\n",
    "print(sf.present_member(\"Leonard McCoy\"))"
   ]
  },
  {
   "cell_type": "markdown",
   "metadata": {},
   "source": [
    "## <p class=\"text\">Classes vs Instances</p>"
   ]
  },
  {
   "cell_type": "markdown",
   "metadata": {},
   "source": [
    "Classes allow you to create user-defined data structures. Classes define functions called methods, which identify the behaviors and actions that an object created from the class can perform with its data.\n",
    "\n",
    "Here we will create a example Person class, that will store some information about the characteristics and behaviours a person can have.\n",
    "\n",
    "A class is a blueprint for how to define something. It doesn’t actually contain any data. The Person class specifies that a name and an age are necessary for defining a person, but it doesn’t contain the name or age of any specific person.\n",
    "\n",
    "While the class is the blueprint, an instance is an object that’s built from a class and contains real data. An instance of the Person class is not a blueprint anymore. It’s an actual person with a name, like Miles, who’s four years old.\n",
    "\n",
    "Put another way, a class is like a form or questionnaire. An instance is like a form that you’ve filled out with information. Just like many people can fill out the same form with their own unique information, you can create many instances from a single class."
   ]
  },
  {
   "cell_type": "markdown",
   "metadata": {},
   "source": [
    "### <p class=\"text\">Class definition</p>"
   ]
  },
  {
   "cell_type": "markdown",
   "metadata": {},
   "source": [
    "You start all class definitions with the class keyword, then add the name of the class and a colon. Python will consider any code that you indent below the class definition as part of the class’s body:"
   ]
  },
  {
   "cell_type": "code",
   "execution_count": null,
   "metadata": {},
   "outputs": [],
   "source": [
    "# person.py\n",
    "\n",
    "class Person:\n",
    "    pass"
   ]
  },
  {
   "cell_type": "markdown",
   "metadata": {},
   "source": [
    "The body of the Person class consists of a single statement: the pass keyword. Python programmers often use pass as a placeholder indicating where code will eventually go. It allows you to run this code without Python throwing an error.\n",
    "\n",
    "<b>Note</b>: Python class names are written in CapitalizedWords notation by convention! For example if we have a class for a factory worker, the class name will be something like FactoryWorker"
   ]
  },
  {
   "cell_type": "markdown",
   "metadata": {},
   "source": [
    "The Person class isn’t very interesting right now, so you’ll spruce it up a bit by defining some properties that all Person objects should have. There are several properties that you can choose from, including name, age, occupation, and country of origin.\n",
    "\n",
    "You define the properties that all Person objects must have in a method called .__init__(). Every time you create a new Person object, .__init__() sets the initial state of the object by assigning the values of the object’s properties. That is, .__init__() initializes each new instance of the class.\n",
    "\n",
    "You can give .__init__() any number of parameters, but the first parameter will always be a variable called self. When you create a new class instance, then Python automatically passes the instance to the self parameter in .__init__() so that Python can define the new attributes on the object.\n",
    "\n",
    "Update the Person class with an .__init__() method that creates .name, .age, .occupation and .country_of_origin attributes:"
   ]
  },
  {
   "cell_type": "code",
   "execution_count": null,
   "metadata": {},
   "outputs": [],
   "source": [
    "# Person.py\n",
    "\n",
    "class Person:\n",
    "    def __init__(self, name, age, occupation, country_of_origin):\n",
    "        self.name = name\n",
    "        self.age = age\n",
    "        self.occupation = occupation\n",
    "        self.country_of_origin = country_of_origin"
   ]
  },
  {
   "cell_type": "markdown",
   "metadata": {},
   "source": [
    "Make sure that you indent the .__init__() method’s signature by four spaces, and the body of the method by eight spaces. This indentation is vitally important. It tells Python that the .__init__() method belongs to the Person class.\n",
    "\n",
    "In the body of .__init__(), there are four statements using the self variable:\n",
    "\n",
    "* self.name = name creates an attribute called name and assigns the value of the name parameter to it.\n",
    "* self.age = age creates an attribute called age and assigns the value of the age parameter to it.\n",
    "* self.occupation = occupation creates an attribute called age and assigns the value of the age parameter to it.\n",
    "* self.country_of_origin = country_of_origin creates an attribute called age and assigns the value of the age parameter to it.\n",
    " \n",
    "Attributes created in .__init__() are called instance attributes. An instance attribute’s value is specific to a particular instance of the class. All Person objects have a name, age, occupation and a country of origin,  but the values for the attributes will vary depending on the Person instance.\n",
    "\n",
    "On the other hand, class attributes are attributes that have the same value for all class instances. You can define a class attribute by assigning a value to a variable name outside of .__init__()."
   ]
  },
  {
   "cell_type": "code",
   "execution_count": null,
   "metadata": {},
   "outputs": [],
   "source": [
    "# person.py\n",
    "\n",
    "class Person:\n",
    "    company = 'Strypes'\n",
    "    \n",
    "    def __init__(self, name, age, occupation, country_of_origin):\n",
    "        self.name = name\n",
    "        self.age = age\n",
    "        self.occupation = occupation\n",
    "        self.country_of_origin = country_of_origin"
   ]
  },
  {
   "cell_type": "markdown",
   "metadata": {},
   "source": [
    "You define class attributes directly beneath the first line of the class name and indent them by four spaces. You always need to assign them an initial value. When you create an instance of the class, then Python automatically creates and assigns class attributes to their initial values.\n",
    "\n",
    "Use class attributes to define properties that should have the same value for every class instance. Use instance attributes for properties that vary from one instance to another.\n",
    "\n",
    "Now that you have a Person class, it’s time to create some people!"
   ]
  },
  {
   "cell_type": "markdown",
   "metadata": {},
   "source": [
    "## <p class=\"text\">How Do You Instantiate a Class in Python?</p>\n",
    "\n",
    "Creating a new object from a class is called instantiating a class. You can create a new object by typing the name of the class, followed by opening and closing parentheses:"
   ]
  },
  {
   "cell_type": "code",
   "execution_count": null,
   "metadata": {},
   "outputs": [],
   "source": [
    "person1 = Person('Peter', 32, 'IT Worker', 'Bulgaria')\n",
    "person1"
   ]
  },
  {
   "cell_type": "markdown",
   "metadata": {},
   "source": [
    "In the output above, you can see that you now have a new Person object at (address). This funny-looking string of letters and numbers is a memory address that indicates where Python stores the Person object in your computer’s memory. Note that the address on your screen will be different.\n",
    "\n",
    "Now instantiate the Person class a second time to create another Person object:"
   ]
  },
  {
   "cell_type": "code",
   "execution_count": null,
   "metadata": {},
   "outputs": [],
   "source": [
    "person2 = Person('George', 22, 'Door Opener', 'Bulgaria')\n",
    "person2"
   ]
  },
  {
   "cell_type": "markdown",
   "metadata": {},
   "source": [
    "The new Person instance is located at a different memory address. That’s because it’s an entirely new instance and is completely unique from the first Person object that you created."
   ]
  },
  {
   "cell_type": "code",
   "execution_count": null,
   "metadata": {},
   "outputs": [],
   "source": [
    "# Compare 2 instances, created with the same attributes\n",
    "\n",
    "person1 = Person('Peter', 32, 'IT Worker', 'Bulgaria')\n",
    "person2 = Person('Peter', 32, 'IT Worker', 'Bulgaria')\n",
    "person1 == person2"
   ]
  },
  {
   "cell_type": "code",
   "execution_count": null,
   "metadata": {},
   "outputs": [],
   "source": [
    "# It's important to pass the needed attributes to instantiate a class, or create them with a default value\n",
    "\n",
    "person3 = Person('Peter', 32, 'IT Worker') # This fails as we didn't provide the country_of_origin parameter"
   ]
  },
  {
   "cell_type": "code",
   "execution_count": null,
   "metadata": {},
   "outputs": [],
   "source": [
    "# We can give a default value, the same way we do it in functions\n",
    "\n",
    "class Person:\n",
    "    company = 'Strypes'\n",
    "    \n",
    "    def __init__(self, name, age, occupation, country_of_origin = 'Unknown'):\n",
    "        self.name = name\n",
    "        self.age = age\n",
    "        self.occupation = occupation\n",
    "        self.country_of_origin = country_of_origin\n",
    "\n",
    "person3 = Person('Peter', 32, 'IT Worker') # Now it passes, even if the value is not passed"
   ]
  },
  {
   "cell_type": "code",
   "execution_count": null,
   "metadata": {},
   "outputs": [],
   "source": [
    "# You can access class parameters with the following syntax\n",
    "person1 = Person('Peter', 32, 'IT Worker', 'Bulgaria')\n",
    "person2 = Person('George', 22, 'Door Opener', 'Bulgaria')\n",
    "\n",
    "print(person1.name)\n",
    "print(person2.name)\n",
    "print(person2.occupation)"
   ]
  },
  {
   "cell_type": "code",
   "execution_count": null,
   "metadata": {},
   "outputs": [],
   "source": [
    "# You can also change those attributes in the following manner\n",
    "\n",
    "print(person1.age)\n",
    "person1.age = 33\n",
    "print(person1.age)\n",
    "\n",
    "# Advanced note: If you have getters and setters, this might not always work, as there might be value checks ! "
   ]
  },
  {
   "cell_type": "markdown",
   "metadata": {},
   "source": [
    "## <p class=\"text\">Instance Methods</p>\n",
    "\n",
    "Instance methods are functions that you define inside a class and can only call on an instance of that class. Just like .__init__(), an instance method always takes self as its first parameter."
   ]
  },
  {
   "cell_type": "code",
   "execution_count": null,
   "metadata": {},
   "outputs": [],
   "source": [
    "class Person:\n",
    "    company = 'Strypes'\n",
    "    \n",
    "    def __init__(self, name, age, occupation, country_of_origin = 'Unknown'):\n",
    "        self.name = name\n",
    "        self.age = age\n",
    "        self.occupation = occupation\n",
    "        self.country_of_origin = country_of_origin\n",
    "\n",
    "    # Instance method\n",
    "    def speak(self):\n",
    "        print(f'Hello friend! My name is {self.name}')\n",
    "\n",
    "    # Another instance method\n",
    "    def have_birthday(self):\n",
    "        print('Is it that time of the year again?')\n",
    "        print(f'I just got a year older - my age changed from {self.age} to {self.age + 1}!')\n",
    "        self.age += 1\n",
    "\n",
    "person = Person('Peter', 32, 'IT Worker', 'Bulgaria')"
   ]
  },
  {
   "cell_type": "code",
   "execution_count": null,
   "metadata": {},
   "outputs": [],
   "source": [
    "person.speak()"
   ]
  },
  {
   "cell_type": "code",
   "execution_count": null,
   "metadata": {},
   "outputs": [],
   "source": [
    "person.have_birthday()"
   ]
  },
  {
   "cell_type": "code",
   "execution_count": null,
   "metadata": {},
   "outputs": [],
   "source": [
    "# There might be times that you don't need to use any value from the class itself, so a function can be used without the 'self' parameter by using @staticmethod\n",
    "\n",
    "class Person:\n",
    "    company = 'Strypes'\n",
    "    \n",
    "    def __init__(self, name, age, occupation, country_of_origin = 'Unknown'):\n",
    "        self.name = name\n",
    "        self.age = age\n",
    "        self.occupation = occupation\n",
    "        self.country_of_origin = country_of_origin\n",
    "\n",
    "    # Static method\n",
    "    @staticmethod\n",
    "    def speak(phrase):\n",
    "        print(f'Hello friend! {phrase}')\n",
    "        \n",
    "person = Person('Peter', 32, 'IT Worker', 'Bulgaria')\n",
    "person.speak('How are you doing?')"
   ]
  },
  {
   "cell_type": "markdown",
   "metadata": {},
   "source": [
    "## Homework\n",
    "\n",
    "Create a Car class with at least 4 attributes and 3 instance methods."
   ]
  },
  {
   "cell_type": "markdown",
   "metadata": {
    "editable": true,
    "slideshow": {
     "slide_type": "slide"
    },
    "tags": []
   },
   "source": [
    "# <p class=\"text\">Thank you for your time!</p>"
   ]
  },
  {
   "cell_type": "code",
   "execution_count": null,
   "metadata": {},
   "outputs": [],
   "source": []
  }
 ],
 "metadata": {
  "kernelspec": {
   "display_name": "Python 3 (ipykernel)",
   "language": "python",
   "name": "python3"
  },
  "language_info": {
   "codemirror_mode": {
    "name": "ipython",
    "version": 3
   },
   "file_extension": ".py",
   "mimetype": "text/x-python",
   "name": "python",
   "nbconvert_exporter": "python",
   "pygments_lexer": "ipython3",
   "version": "3.11.9"
  }
 },
 "nbformat": 4,
 "nbformat_minor": 4
}

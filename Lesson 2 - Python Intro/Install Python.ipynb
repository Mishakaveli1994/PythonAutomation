{
 "cells": [
  {
   "cell_type": "markdown",
   "metadata": {},
   "source": [
    "\n",
    "## Install VSCode & Python\n",
    "\n",
    "1. Download [VSCode](https://code.visualstudio.com/) and install it \n",
    "\n",
    "2. Download and install [Python](https://www.python.org/downloads/) \n",
    "\n",
    "Tip: \n",
    "    Don't install Python in the default installation path, as it's `C:\\users\\<username>\\Appdata\\Local\\Programs\\Python\\Python<XY>\\` and our usernames have spaces in the middle, which can be problematic down the line. Use something like `C:/Python3` or any directory without a space in it.\n",
    "\n",
    "3. In VSCode install extensions - Python, Pylance & Python Debugger\n",
    "\n",
    "4. In VSCode click `Ctrl + Shift + P` to open the command palette, find `Python: Create Environment` and select `Venv` (virtual environment). This way a new `.venv` folder will be created in your workspace that will contain an independent Python installation. That way you can use this environment to install any modules/packages without affecting your main Python interpreter.\n",
    "\n",
    "5. Create a file with a `.py` extension and write some code, for example:\n",
    "\n",
    "```\n",
    "print('Hello World!')\n",
    "```\n",
    "\n",
    "Afterwards open your terminal (Shortcut `Ctrl` + \\`) and type `python filename.py` - if you see `Hello World!` in your terminal - congratiolations, you have successfully installed Python.\n",
    "\n",
    "Тo install Jupyter lab, to run the course notebooks by yourself, run `python -m pip install notebook` in your terminal, this will install Jupyter notebooks and the supplied Jupyter Lab server. \n",
    "\n",
    "You can start it via `python -m jupyter notebook`. This will start the server in your current directory and you can review and run any Jupyter notebook."
   ]
  }
 ],
 "metadata": {
  "kernelspec": {
   "display_name": "Python 3 (ipykernel)",
   "language": "python",
   "name": "python3"
  },
  "language_info": {
   "codemirror_mode": {
    "name": "ipython",
    "version": 3
   },
   "file_extension": ".py",
   "mimetype": "text/x-python",
   "name": "python",
   "nbconvert_exporter": "python",
   "pygments_lexer": "ipython3",
   "version": "3.9.7"
  }
 },
 "nbformat": 4,
 "nbformat_minor": 4
}

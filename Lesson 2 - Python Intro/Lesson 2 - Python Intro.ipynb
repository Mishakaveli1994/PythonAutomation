{
 "cells": [
  {
   "cell_type": "markdown",
   "metadata": {},
   "source": [
    "<img src=\"../images/Python-logo.png\" width=\"200\" height=\"200\">\n",
    "\n",
    "## What is Python ? \n",
    "\n",
    "Python is a high-level, interpreted, general-purpose programming language known for its emphasis on code readability and elegant syntax. It's widely used in fields like web development, data science, scientific computing, system administration, and most importantly in our case -  automation.\n",
    "\n",
    "### Pros\n",
    "\n",
    "`Beginner-friendly`: Easy to learn and understand, even for those without prior programming experience.\n",
    "\n",
    "`Extensive libraries`: Offers a vast collection of prewritten code modules for various tasks, saving development time.\n",
    "\n",
    "`Large community`: Strong online community provides ample support, tutorials, and resources.\n",
    "\n",
    "`Versatility`: Suitable for a diverse range of projects, from simple scripts to large-scale applications.\n",
    "\n",
    "`Cross-platform`: Python code can run on different operating systems (Windows, macOS, Linux) without major changes.\n",
    "\n",
    "### Cons\n",
    "\n",
    "`Speed`: Can be slower than compiled languages like C++ or Java, especially for computationally intensive tasks.\n",
    "\n",
    "`Mobile development limitations`: Not the primary choice for native mobile app development.\n",
    "\n",
    "`Global Interpreter Lock (GIL)`: GIL can limit performance in certain multi-threaded applications.\n",
    "\n",
    "`Runtime errors`: As an interpreted language, type-related errors might appear only during program execution."
   ]
  },
  {
   "cell_type": "markdown",
   "metadata": {},
   "source": []
  }
 ],
 "metadata": {
  "kernelspec": {
   "display_name": "Python 3 (ipykernel)",
   "language": "python",
   "name": "python3"
  },
  "language_info": {
   "codemirror_mode": {
    "name": "ipython",
    "version": 3
   },
   "file_extension": ".py",
   "mimetype": "text/x-python",
   "name": "python",
   "nbconvert_exporter": "python",
   "pygments_lexer": "ipython3",
   "version": "3.11.8"
  }
 },
 "nbformat": 4,
 "nbformat_minor": 4
}

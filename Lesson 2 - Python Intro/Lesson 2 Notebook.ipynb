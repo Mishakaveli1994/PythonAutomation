{
 "cells": [
  {
   "cell_type": "markdown",
   "metadata": {},
   "source": [
    "## Python Variables and Data Types\n",
    "Python has 3 main basic types of data:"
   ]
  },
  {
   "cell_type": "markdown",
   "metadata": {},
   "source": [
    "### Numbers"
   ]
  },
  {
   "cell_type": "code",
   "execution_count": 52,
   "metadata": {},
   "outputs": [
    {
     "name": "stdout",
     "output_type": "stream",
     "text": [
      "3 is of type: <class 'int'>\n",
      "3.0 is of type: <class 'float'>\n"
     ]
    }
   ],
   "source": [
    "# Numbers\n",
    "\n",
    "integer_example = 3 # Integers (whole numbers, e.g., 5, 200, -10)\n",
    "float_example = 3.0 # Floating-point numbers (numbers with decimals, e.g., 3.14, -25.87)\n",
    "\n",
    "print(\"%s is of type: %s\" % (integer_example, type(integer_example)))\n",
    "print(\"%s is of type: %s\" % (float_example, type(float_example)))"
   ]
  },
  {
   "cell_type": "markdown",
   "metadata": {},
   "source": [
    "### Strings"
   ]
  },
  {
   "cell_type": "code",
   "execution_count": 81,
   "metadata": {},
   "outputs": [
    {
     "name": "stdout",
     "output_type": "stream",
     "text": [
      "Python is one of the most versitile languages ever is of type: <class 'str'>\n"
     ]
    }
   ],
   "source": [
    "# Strings\n",
    "\n",
    "string_example = \"Python is one of the most versitile languages ever\" # Strings (str): Sequences of characters (text), enclosed in quotes. (\"Hello World\", 'I am learning Python')\n",
    "print(f\"{string_example} is of type: {type(string_example)}\")"
   ]
  },
  {
   "cell_type": "markdown",
   "metadata": {
    "jp-MarkdownHeadingCollapsed": true
   },
   "source": [
    "#### Question"
   ]
  },
  {
   "cell_type": "code",
   "execution_count": 63,
   "metadata": {},
   "outputs": [
    {
     "name": "stdout",
     "output_type": "stream",
     "text": [
      "True\n",
      "False\n"
     ]
    }
   ],
   "source": [
    "# Is 3 equial to 3.0 or '3'\n",
    "\n",
    "print(3 == 3.0)\n",
    "print(3 == '3')"
   ]
  },
  {
   "cell_type": "markdown",
   "metadata": {
    "jp-MarkdownHeadingCollapsed": true
   },
   "source": [
    "#### Answer"
   ]
  },
  {
   "cell_type": "markdown",
   "metadata": {},
   "source": [
    "3 == 3.0 works, as python tried to convert similar value types, so in this case, it converts int to float, as float is the more versitile one\n",
    "\n",
    "3 == '3' does not work, as str and int are completely different types and it would be dangerous to compare them"
   ]
  },
  {
   "cell_type": "markdown",
   "metadata": {},
   "source": [
    "#### Interpolation"
   ]
  },
  {
   "cell_type": "code",
   "execution_count": 31,
   "metadata": {},
   "outputs": [
    {
     "name": "stdout",
     "output_type": "stream",
     "text": [
      "Hello, World!\n",
      "Hello, World!\n",
      "Hello, World!\n"
     ]
    }
   ],
   "source": [
    "# Interpolation\n",
    "\n",
    "# f-strings\n",
    "first = 'Hello'\n",
    "second = 'World'\n",
    "\n",
    "print(f'{first}, {second}!')\n",
    "\n",
    "# % formatting\n",
    "print(\"%s, %s!\" % (first, second))\n",
    "\n",
    "# Str.format()\n",
    "print('{}, {}!'.format(first, second))"
   ]
  },
  {
   "cell_type": "code",
   "execution_count": 32,
   "metadata": {},
   "outputs": [
    {
     "name": "stdout",
     "output_type": "stream",
     "text": [
      "→ →\n"
     ]
    }
   ],
   "source": [
    "# Example of UNICODE characters\n",
    "print('\\u2192 \\N{rightwards arrow}')"
   ]
  },
  {
   "cell_type": "code",
   "execution_count": 85,
   "metadata": {},
   "outputs": [
    {
     "name": "stdout",
     "output_type": "stream",
     "text": [
      "It's a me, Mario\n"
     ]
    }
   ],
   "source": [
    "# Escape special characters\n",
    "print('It\\'s a me, Mario')"
   ]
  },
  {
   "cell_type": "code",
   "execution_count": 34,
   "metadata": {},
   "outputs": [
    {
     "name": "stdout",
     "output_type": "stream",
     "text": [
      "\\n\\n\\n\\n\\n\\n\n"
     ]
    }
   ],
   "source": [
    "# This is an example or a raw string, special characters are escaped automatically\n",
    "print(r'\\n\\n\\n\\n\\n\\n')"
   ]
  },
  {
   "cell_type": "code",
   "execution_count": 35,
   "metadata": {},
   "outputs": [
    {
     "name": "stdout",
     "output_type": "stream",
     "text": [
      "\n",
      "This string\n",
      "contains multiple\n",
      "lines\n",
      "\n"
     ]
    }
   ],
   "source": [
    "# Multiline String\n",
    "\n",
    "print(\"\"\"\n",
    "This string\n",
    "contains multiple\n",
    "lines\n",
    "\"\"\")"
   ]
  },
  {
   "cell_type": "markdown",
   "metadata": {},
   "source": [
    "### Booleans"
   ]
  },
  {
   "cell_type": "code",
   "execution_count": 36,
   "metadata": {},
   "outputs": [
    {
     "name": "stdout",
     "output_type": "stream",
     "text": [
      "True is of type: <class 'bool'>\n"
     ]
    }
   ],
   "source": [
    "# Booleans\n",
    "\n",
    "boolean_example = True # Booleans (bool): True or False\n",
    "print(f\"{boolean_example} is of type: {type(boolean_example)}\")"
   ]
  },
  {
   "cell_type": "markdown",
   "metadata": {
    "jp-MarkdownHeadingCollapsed": true
   },
   "source": [
    "#### Question"
   ]
  },
  {
   "cell_type": "code",
   "execution_count": 68,
   "metadata": {},
   "outputs": [],
   "source": [
    "# Booleans can be considered as bits, they can have one of two states - True or False\n",
    "# Can they be represented by integers ?"
   ]
  },
  {
   "cell_type": "markdown",
   "metadata": {
    "jp-MarkdownHeadingCollapsed": true
   },
   "source": [
    "#### Answer"
   ]
  },
  {
   "cell_type": "code",
   "execution_count": 69,
   "metadata": {},
   "outputs": [
    {
     "name": "stdout",
     "output_type": "stream",
     "text": [
      "True\n",
      "True\n"
     ]
    }
   ],
   "source": [
    "# Yes, they can. True is can be represented as 1 and False can be represented as 0\n",
    "\n",
    "print(1 == True)\n",
    "print(0 == False)"
   ]
  },
  {
   "cell_type": "markdown",
   "metadata": {},
   "source": [
    "## Cast values\n",
    "\n",
    "With the methods str(), int() and float() you can cast values to different types. Important note - the target type should be able to contain the source. For example:"
   ]
  },
  {
   "cell_type": "code",
   "execution_count": 37,
   "metadata": {},
   "outputs": [
    {
     "name": "stdout",
     "output_type": "stream",
     "text": [
      "3 is of type <class 'int'>\n",
      "3 is of type <class 'str'>\n",
      "3.0 is of type <class 'float'>\n"
     ]
    }
   ],
   "source": [
    "x = 3\n",
    "print(f\"{x} is of type {type(x)}\")\n",
    "x = str(3)\n",
    "print(f\"{x} is of type {type(x)}\")\n",
    "x = float(3)\n",
    "print(f\"{x} is of type {type(x)}\")"
   ]
  },
  {
   "cell_type": "code",
   "execution_count": 39,
   "metadata": {},
   "outputs": [
    {
     "name": "stdout",
     "output_type": "stream",
     "text": [
      "s is not a valid number\n"
     ]
    }
   ],
   "source": [
    "# But this will not work\n",
    "try:\n",
    "    print(int('s')) # As 's' is not a value that can be converted to a integer\n",
    "except ValueError as e:\n",
    "    print('s is not a valid number')"
   ]
  },
  {
   "cell_type": "code",
   "execution_count": null,
   "metadata": {},
   "outputs": [],
   "source": [
    "# But for example\n",
    "\n",
    "print(int('5')) # This will work, as 5 can be converted"
   ]
  },
  {
   "cell_type": "markdown",
   "metadata": {},
   "source": [
    "## Modules"
   ]
  },
  {
   "cell_type": "code",
   "execution_count": null,
   "metadata": {},
   "outputs": [],
   "source": [
    "# Modules are imported via the import keyword. This will import all current functions in a module\n",
    "import datetime\n",
    "\n",
    "now = datetime.datetime.now()\n",
    "\n",
    "current_time = now.strftime(\"%H:%M:%S\")\n",
    "print(\"Current Time =\", current_time)"
   ]
  },
  {
   "cell_type": "code",
   "execution_count": null,
   "metadata": {},
   "outputs": [],
   "source": [
    "# You can also import only specific objects from any module, via the from <module> import <object> \n",
    "\n",
    "from datetime import datetime\n",
    "\n",
    "now = datetime.now()\n",
    "\n",
    "current_time = now.strftime(\"%H:%M:%S\")\n",
    "print(\"Current Time =\", current_time)"
   ]
  },
  {
   "cell_type": "code",
   "execution_count": null,
   "metadata": {},
   "outputs": [],
   "source": [
    "'''Import from custom module - NOTE: A empty __init__.py file is required to \n",
    "be in the module directory before Python version 3.3'''\n",
    "\n",
    "from test_module.test_module import * # DO NOT DO THIS\n",
    "from test_module.test_module import random_variable, main\n",
    "\n",
    "print(random_variable) # Variable example\n",
    "main() # Function example"
   ]
  },
  {
   "cell_type": "markdown",
   "metadata": {},
   "source": [
    "### Console input"
   ]
  },
  {
   "cell_type": "code",
   "execution_count": 78,
   "metadata": {},
   "outputs": [
    {
     "name": "stdin",
     "output_type": "stream",
     "text": [
      " hehe\n"
     ]
    },
    {
     "name": "stdout",
     "output_type": "stream",
     "text": [
      "My input was: hehe\n"
     ]
    }
   ],
   "source": [
    "# With input, you can receive parameters from your console\n",
    "x = input()\n",
    "\n",
    "print(f\"My input was: {x}\")"
   ]
  },
  {
   "cell_type": "markdown",
   "metadata": {},
   "source": [
    "### Console output"
   ]
  },
  {
   "cell_type": "code",
   "execution_count": 83,
   "metadata": {},
   "outputs": [
    {
     "name": "stdout",
     "output_type": "stream",
     "text": [
      "Better late than never.\n"
     ]
    }
   ],
   "source": [
    "# The print() function is used to produce output in the console\n",
    "\n",
    "print('Better late than never.')"
   ]
  },
  {
   "cell_type": "markdown",
   "metadata": {},
   "source": [
    "## Comments"
   ]
  },
  {
   "cell_type": "markdown",
   "metadata": {},
   "source": [
    "Comments are pieces of text, that the Python interpreter will not execute"
   ]
  },
  {
   "cell_type": "code",
   "execution_count": null,
   "metadata": {},
   "outputs": [],
   "source": [
    "print(\"I will run\")\n",
    "# print(\"But I will not\")"
   ]
  },
  {
   "cell_type": "code",
   "execution_count": null,
   "metadata": {},
   "outputs": [],
   "source": [
    "# Single line comment\n",
    "\n",
    "# Multiline comment\n",
    "\"\"\"\n",
    "print(16)\n",
    "print(\"I'm a multiline comment\")\n",
    "\"\"\""
   ]
  },
  {
   "cell_type": "markdown",
   "metadata": {},
   "source": [
    "## Mathematical operators"
   ]
  },
  {
   "cell_type": "code",
   "execution_count": 82,
   "metadata": {},
   "outputs": [
    {
     "name": "stdout",
     "output_type": "stream",
     "text": [
      "If x is 15 and y is 6\n",
      "Addition: x + y = 21\n",
      "Subraction: x - y = 9\n",
      "Multiplication: x * y = 90\n",
      "Division: x / y = 2.5\n",
      "Modulus: x % y = 3\n",
      "Exponentiation: x ** y = 11390625\n",
      "Floor division: x // y = 2\n"
     ]
    }
   ],
   "source": [
    "# Mathematical operators\n",
    "\n",
    "x = 15\n",
    "y = 6\n",
    "\n",
    "print(f\"If x is {x} and y is {y}\")\n",
    "\n",
    "# +\tAddition (shorthand x += y)\t\n",
    "print(f\"Addition: x + y = {x + y}\")\n",
    "# -\tSubtraction (shorthand x -= y)\t\n",
    "print(f\"Subraction: x - y = {x - y}\")\n",
    "# *\tMultiplication (shorthand x *= y)\t\n",
    "print(f\"Multiplication: x * y = {x * y}\")\n",
    "# /\tDivision (shorthand x /= y)\t\t \n",
    "print(f\"Division: x / y = {x / y}\")\n",
    "# %\tModulus (shorthand x %= y)\t\n",
    "print(f\"Modulus: x % y = {x % y}\")\n",
    "# ** Exponentiation (shorthand x **= y)\t\n",
    "print(f\"Exponentiation: x ** y = {x ** y}\")\n",
    "# // Floor division (shorthand x //= y)\t\n",
    "print(f\"Floor division: x // y = {x // y}\")"
   ]
  },
  {
   "cell_type": "markdown",
   "metadata": {},
   "source": [
    "### PEP8 - Python Style guide for Python code - [Link](https://peps.python.org/pep-0008/)"
   ]
  },
  {
   "cell_type": "markdown",
   "metadata": {},
   "source": [
    "## The Zen of Python"
   ]
  },
  {
   "cell_type": "markdown",
   "metadata": {},
   "source": [
    "#### Beautiful is better than ugly.\n",
    "Programmers often write code quickly without concern for readability. While code doesn’t have to be readable, the code of the Python language itself must be thought out, consistent, and a joy to use. Of course, not every script needs to be beautiful, and beauty is subjective, but much of Python’s popularity is a result of being so easy to work with.\n",
    "\n",
    "#### Explicit is better than implicit.\n",
    "“This aphorism is self-explanatory,” that would be a terrible explanation for any aphorism. Similarly, it’s better for code to be verbose and explicit. You should avoid hiding code’s functionality behind obscure language features that require familiarity to fully understand.\n",
    "\n",
    "#### Simple is better than complex. Complex is better than complicated.\n",
    "These two aphorisms remind us that building anything can be done using simple or complex techniques. With a simple problem, such as building a birdhouse, a simple solution is better. Building a diesel train engine, on the other hand, is a complex problem that requires complex techniques. Even if you could technically make a diesel train engine using birdhouse techniques, you probably would end up with a complicated, Rube Goldberg arrangement of birdhouse parts that wouldn’t be an ideal solution. Prefer simplicity to complexity, but know the limits of simplicity.\n",
    "\n",
    "#### Flat is better than nested.\n",
    "Programmers love to organize things into categories, especially categories that contain subcategories which contain other sub-subcategories. These hierarchies often don’t add organization so much as they add bureaucracy. It’s okay to have code in just one top-layer module or class instead of split up across multiple submodules or subclasses. If you make packages and modules that require code like import spam.eggs.bacon.ham.foo.bar, then you’re making your code too complicated.\n",
    "\n",
    "#### Sparse is better than dense.\n",
    "Programmers often like to cram as much functionality into as little code as possible, such as one-liners like the following: print('\\n'.join(\"%i bytes = %i bits which has %i possible values.\" % (j, j*8, 256**j-1) for j in (1 << i for i in range(8)))). While code like this may impress their friends, it’ll infuriate their coworkers who have to try to understand it. Code that is spread out over multiple lines is often easier to read than dense one-liners.\n",
    "\n",
    "#### Readability counts.\n",
    "While strcmp() may obviously mean the “string compare” function to someone who has been programming in C since the 1970s, modern computers have enough memory to write out the full function name. Don’t drop vowels from your names or write overly terse code. Code is read more often than it’s written, so explicit, readable code is more important than terse, undocumented code.\n",
    "\n",
    "#### Special cases aren’t special enough to break the rules. Although practicality beats purity.\n",
    "These two aphorisms, which come as a set, contradict each other. Programming is full of “best practices” that programmers should strive for in their code. Skirting these practices for a quick hack may be tempting, but can lead to a rat’s nest of inconsistent, unreadable code. However, bending over backwards to adhere to rules can result in highly-abstract, unreadable code. The Java programming language’s attempt to fit all code to its object-oriented paradigm often results in lots of boilerplate code for even the smallest program. Walking the line between these two aphorisms becomes easier with experience. And in time, you’ll not only learn the rules, but also learn when to break them.\n",
    "\n",
    "#### Errors should never pass silently. Unless explicitly silenced.\n",
    "Just because programmers often ignore error messages doesn’t mean the program should stop emitting them. Silent errors can happen when functions return error codes or None instead of raising exceptions. These two aphorisms tell us that it’s better for a program to fail fast and crash than to silence the error and continue running the program. The bugs that inevitably happen later on will be harder to debug since they are far removed from the original cause. Though you can always choose to explicitly ignore the errors your programs cause, just be sure you are making the conscious choice to do so.\n",
    "\n",
    "#### In the face of ambiguity, refuse the temptation to guess.\n",
    "Computers have made humans superstitious: To exorcise the demons in our computers we perform the sacred ritual of turning them off and then on. Supposedly this will fix any mysterious problem. However, computers are not magic. If your code isn’t working, there is a reason and only careful, critical thinking will solve it. Refuse the temptation to blindly try solutions until something seems to work; often you have merely masked the problem rather than solved it.\n",
    "\n",
    "#### There should be one—and preferably only one—obvious way to do it.\n",
    "This is a broadside against the Perl programming language’s motto, “There’s more than one way to do it!” It turns out that having three or four different ways to write code that does the same thing is a double-edged sword: you have flexibility in how you write code, but now you have to learn every possible way it could have been written in order to read it. This flexibility isn’t worth the 3x or 4x effort needed to learn a programming language.\n",
    "\n",
    "#### Although that way may not be obvious at first unless you’re Dutch.\n",
    "This line is a joke. Guido van Rossum, the creator and BDFL (Benevolent Dictator for Life) of Python, is Dutch. However, not even this aphorism prevented Python from incorporating three different ways of formatting strings.\n",
    "\n",
    "#### Now is better than never. Although never is often better than *right* now.\n",
    "These two aphorisms tell us that code that hangs or gets caught in infinite loops is obviously worse than code that doesn’t. However, it’s almost certainly better to wait for your program to finish than to have it finish too early with incorrect results.\n",
    "\n",
    "#### If the implementation is hard to explain, it’s a bad idea. If the implementation is easy to explain, it may be a good idea.\n",
    "Python strives to make the programmer’s job easier rather than accommodate the computer so a program runs faster. And programs need to be understandable not just by the programmer who wrote it, but also by other programmers who maintain the code. These two aphorisms remind us that if “high-performance” code is so complicated as to be impossible for programmers to understand and debug, then it’s bad code. But alas, just because it’s easy to explain a program’s code to someone else doesn’t mean it isn’t bad code. Programming is hard.\n",
    "\n",
    "#### Namespaces are one honking great idea—let’s do more of those!\n",
    "Namespaces (and also global and local scopes) are key for preventing names in one module or scope from conflicting with names in another. But also remember that flat is better than nested: As great as they are, namespaces should be made only to prevent naming conflicts, and not to add needless categorization."
   ]
  },
  {
   "cell_type": "markdown",
   "metadata": {},
   "source": [
    "#### Question: Use google drive or set up personal git ?"
   ]
  },
  {
   "cell_type": "markdown",
   "metadata": {},
   "source": [
    "### Homework"
   ]
  },
  {
   "cell_type": "markdown",
   "metadata": {},
   "source": [
    "#### Task 1\n",
    "\n",
    "Calculate rectangle area:\n",
    "\n",
    "Take 2 console inputs (width and height) then calculate and print the area of the resulting rectangle. Hint: When taking the values from the console, they are always considered strings. Cast them to int or float before performing the calculation.\n",
    "\n",
    "Input:\n",
    "1. width: int\n",
    "2. height: int\n",
    "\n",
    "Output:\n",
    "1. area: int"
   ]
  },
  {
   "cell_type": "markdown",
   "metadata": {
    "jp-MarkdownHeadingCollapsed": true
   },
   "source": [
    "#### Example solution"
   ]
  },
  {
   "cell_type": "code",
   "execution_count": 80,
   "metadata": {},
   "outputs": [
    {
     "name": "stdin",
     "output_type": "stream",
     "text": [
      " 5\n",
      " 7\n"
     ]
    },
    {
     "name": "stdout",
     "output_type": "stream",
     "text": [
      "35.0\n"
     ]
    }
   ],
   "source": [
    "height = int(input())\n",
    "width = int(input())\n",
    "\n",
    "print(height * width)"
   ]
  },
  {
   "cell_type": "markdown",
   "metadata": {},
   "source": [
    "#### Task 2\n",
    "\n",
    "Greeting by name:\n",
    "\n",
    "Create a program, that takes your name as input and prints out the string 'Hello, {name}'\n",
    "\n",
    "Input:\n",
    "1. name: str\n",
    "\n",
    "Output:\n",
    "1. 'Hello, {name}' : str"
   ]
  },
  {
   "cell_type": "markdown",
   "metadata": {},
   "source": [
    "#### Task 3\n",
    "\n",
    "Print out strings and numbers:\n",
    "\n",
    "Create a program that takes 4 input parameters: first_name, last_name, age and town and prints out the message 'You are {first_name} {last_name}, a {age}-years old person from {town}.'\n",
    "\n",
    "Input:\n",
    "1. first_name: str\n",
    "2. last_name: str\n",
    "3. age: int\n",
    "4. town: str\n",
    "\n",
    "Output:\n",
    "1. 'You are {first_name} {last_name}, a {age}-years old person from {town}.': str"
   ]
  },
  {
   "cell_type": "markdown",
   "metadata": {},
   "source": [
    "#### Task 4\n",
    "\n",
    "Yard greening:\n",
    "\n",
    "Create a program that calculates the sum needed to pay a company to landscape a yard.  The price per square meter is 7.61 lv. and there is a discount of 18% of the final price.\n",
    "\n",
    "Input:\n",
    "1. yard_size: float\n",
    "\n",
    "Output:\n",
    "1. The final price is: {end_price} lv.\n",
    "2. The discount is: {discount} lv.\n",
    "\n",
    "Hint:\n",
    "For example with input 550.00:\n",
    "\n",
    "Calculate the price for landscaping : 550 * 7.61 = 4185.5\n",
    "\n",
    "Calculate the discount: 4185.5 * 0.18 = 753.39\n",
    "\n",
    "Calculate the final price: 4185.5 - 753.39 = 3432.11\n",
    "\n",
    "Print out:\n",
    "\n",
    "    The final price is: 3432.11 lv.\n",
    "    \n",
    "    The discount is: 753.39 lv.\n",
    "\n",
    "##### Test input:\n",
    "\n",
    "Input: 150\n",
    "\n",
    "Output: \n",
    "\n",
    "The final price is: 936.03 lv. \n",
    "\n",
    "The discount is: 205.47 lv."
   ]
  },
  {
   "cell_type": "code",
   "execution_count": null,
   "metadata": {},
   "outputs": [],
   "source": []
  }
 ],
 "metadata": {
  "kernelspec": {
   "display_name": "Python 3 (ipykernel)",
   "language": "python",
   "name": "python3"
  },
  "language_info": {
   "codemirror_mode": {
    "name": "ipython",
    "version": 3
   },
   "file_extension": ".py",
   "mimetype": "text/x-python",
   "name": "python",
   "nbconvert_exporter": "python",
   "pygments_lexer": "ipython3",
   "version": "3.11.8"
  }
 },
 "nbformat": 4,
 "nbformat_minor": 4
}

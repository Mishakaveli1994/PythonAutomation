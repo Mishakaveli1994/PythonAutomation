{
 "cells": [
  {
   "cell_type": "markdown",
   "metadata": {},
   "source": [
    "## Python Variables and Data Types\n",
    "Python has 7 basic types of data:"
   ]
  },
  {
   "cell_type": "markdown",
   "metadata": {
    "jp-MarkdownHeadingCollapsed": true
   },
   "source": [
    "### Numbers"
   ]
  },
  {
   "cell_type": "code",
   "execution_count": 20,
   "metadata": {},
   "outputs": [
    {
     "name": "stdout",
     "output_type": "stream",
     "text": [
      "3 is of type: <class 'int'>\n",
      "3.0 is of type: <class 'float'>\n"
     ]
    }
   ],
   "source": [
    "# Numbers\n",
    "\n",
    "integer_example = 3 # Integers (whole numbers, e.g., 5, 200, -10)\n",
    "float_example = 3.0 # Floating-point numbers (numbers with decimals, e.g., 3.14, -25.87)\n",
    "\n",
    "print(f\"{integer_example} is of type: {type(integer_example)}\")\n",
    "print(f\"{float_example} is of type: {type(float_example)}\")"
   ]
  },
  {
   "cell_type": "markdown",
   "metadata": {
    "jp-MarkdownHeadingCollapsed": true
   },
   "source": [
    "### Strings"
   ]
  },
  {
   "cell_type": "code",
   "execution_count": 21,
   "metadata": {},
   "outputs": [
    {
     "name": "stdout",
     "output_type": "stream",
     "text": [
      "Python is one of the most versitile languages ever is of type: <class 'str'>\n"
     ]
    }
   ],
   "source": [
    "# Strings\n",
    "\n",
    "string_example = \"Python is one of the most versitile languages ever\" # Strings (str): Sequences of characters (text), enclosed in quotes. (\"Hello World\", 'I am learning Python')\n",
    "print(f\"{string_example} is of type: {type(string_example)}\")"
   ]
  },
  {
   "cell_type": "markdown",
   "metadata": {
    "jp-MarkdownHeadingCollapsed": true
   },
   "source": [
    "### Booleans"
   ]
  },
  {
   "cell_type": "code",
   "execution_count": 22,
   "metadata": {},
   "outputs": [
    {
     "name": "stdout",
     "output_type": "stream",
     "text": [
      "True is of type: <class 'bool'>\n"
     ]
    }
   ],
   "source": [
    "# Booleans\n",
    "\n",
    "boolean_example = True # Booleans (bool): True or False\n",
    "print(f\"{boolean_example} is of type: {type(boolean_example)}\")"
   ]
  },
  {
   "cell_type": "markdown",
   "metadata": {
    "jp-MarkdownHeadingCollapsed": true
   },
   "source": [
    "### Lists"
   ]
  },
  {
   "cell_type": "code",
   "execution_count": 23,
   "metadata": {},
   "outputs": [
    {
     "name": "stdout",
     "output_type": "stream",
     "text": [
      "[1, 2.5, 'hello', True] is of type: <class 'list'>\n"
     ]
    }
   ],
   "source": [
    "# Lists\n",
    "\n",
    "list_example = [1, 2.5, \"hello\", True] # Lists (list): Ordered collections of items, can contain different data types. [1, 2.5, \"hello\", True]\n",
    "print(f\"{list_example} is of type: {type(list_example)}\")"
   ]
  },
  {
   "cell_type": "markdown",
   "metadata": {
    "jp-MarkdownHeadingCollapsed": true
   },
   "source": [
    "### Tuples"
   ]
  },
  {
   "cell_type": "code",
   "execution_count": 24,
   "metadata": {},
   "outputs": [
    {
     "name": "stdout",
     "output_type": "stream",
     "text": [
      "(1, 2.5, 'hello', True) is of type: <class 'tuple'>\n"
     ]
    }
   ],
   "source": [
    "# Tuples\n",
    "\n",
    "tuple_example = (1, 2.5, \"hello\", True) # Tuples (tuple): Immutable collections of items, can contain different data types. (1, 2.5, \"hello\", True)\n",
    "print(f\"{tuple_example} is of type: {type(tuple_example)}\")"
   ]
  },
  {
   "cell_type": "code",
   "execution_count": 25,
   "metadata": {},
   "outputs": [
    {
     "name": "stdout",
     "output_type": "stream",
     "text": [
      "Tuples cannot be modified\n",
      "Tuples cannot be modified\n"
     ]
    }
   ],
   "source": [
    "# Tuples are immutable by definition\n",
    "\n",
    "tuple_example = (1, 2.5, \"hello\", True)\n",
    "\n",
    "# This will not work\n",
    "try:\n",
    "    tuple_example += ['asd']\n",
    "except TypeError as e:\n",
    "    print('Tuples cannot be modified')\n",
    "\n",
    "# Neither will this\n",
    "try:\n",
    "    tuple_example[4] = 'asd'\n",
    "except TypeError as e:\n",
    "    print('Tuples cannot be modified')"
   ]
  },
  {
   "cell_type": "code",
   "execution_count": 26,
   "metadata": {},
   "outputs": [
    {
     "name": "stdout",
     "output_type": "stream",
     "text": [
      "{'name': 'John', 'age': 30, 'city': 'New York'} is of type: <class 'dict'>\n"
     ]
    }
   ],
   "source": [
    "# Dictionaries\n",
    "\n",
    "dictionary = {\"name\": \"John\", \"age\": 30, \"city\": \"New York\"} # Dictionaries (dict): Associative collections of items, can contain different data types. {\"name\": \"John\", \"age\": 30, \"city\": \"New York\"}\n",
    "print(f\"{dictionary} is of type: {type(dictionary)}\")"
   ]
  },
  {
   "cell_type": "code",
   "execution_count": 5,
   "metadata": {},
   "outputs": [
    {
     "name": "stdout",
     "output_type": "stream",
     "text": [
      "{1, 2.5, 'hello'} is of type: <class 'set'>\n",
      "{1, 2, 3, 4, 5, 6, 7, 8, 9}\n",
      "Difference between two sets: {1, 2, 3, 4}\n",
      "Intersection between two sets: {5, 6}\n"
     ]
    }
   ],
   "source": [
    "# Set\n",
    "\n",
    "set_example = {1, 2.5, \"hello\", True} # Sets (set): Unordered collections of items, can contain different data types. {1, 2.5, \"hello\", True}\n",
    "print(f\"{set_example} is of type: {type(set_example)}\")\n",
    "\n",
    "# They automatically remove duplicate values\n",
    "\n",
    "l = [1, 2, 3, 3, 3, 4, 4, 5, 6, 7, 8, 9]\n",
    "s = set(l)\n",
    "print(s)\n",
    "\n",
    "# They are useful if you want to check the collison betweeen two unique sets of values\n",
    "left = {1, 2, 3, 4, 5, 6}\n",
    "right = {5, 6, 7, 8, 9, 10}\n",
    "\n",
    "# Difference between two sets\n",
    "print(f\"Difference between two sets: {left.difference(right)}\")\n",
    "\n",
    "# Intersection between two sets\n",
    "print(f\"Intersection between two sets: {left.intersection(right)}\")"
   ]
  },
  {
   "cell_type": "markdown",
   "metadata": {},
   "source": [
    "### Questions"
   ]
  },
  {
   "cell_type": "markdown",
   "metadata": {},
   "source": [
    "#### Will updating variable y, change variable x ?"
   ]
  },
  {
   "cell_type": "code",
   "execution_count": 1,
   "metadata": {},
   "outputs": [
    {
     "name": "stdout",
     "output_type": "stream",
     "text": [
      "[1, 2, 3, 4, 5, 6]\n",
      "[1, 2, 3, 4, 5, 6]\n"
     ]
    }
   ],
   "source": [
    "x = [1, 2, 3, 4, 5]\n",
    "y = x\n",
    "\n",
    "y.append(6)\n",
    "\n",
    "print(x)\n",
    "print(y)"
   ]
  },
  {
   "cell_type": "markdown",
   "metadata": {},
   "source": [
    "#### Answer"
   ]
  },
  {
   "cell_type": "code",
   "execution_count": 2,
   "metadata": {},
   "outputs": [
    {
     "name": "stdout",
     "output_type": "stream",
     "text": [
      "Memory address of x: 0x767be4710780\n",
      "Memory address of x: 0x767be4710780\n"
     ]
    }
   ],
   "source": [
    "print(f\"Memory address of x: {hex(id(x))}\")\n",
    "print(f\"Memory address of x: {hex(id(y))}\")"
   ]
  },
  {
   "cell_type": "code",
   "execution_count": 3,
   "metadata": {},
   "outputs": [
    {
     "name": "stdout",
     "output_type": "stream",
     "text": [
      "[1, 2, 3, 4, 5]\n",
      "[1, 2, 3, 4, 5, 6]\n",
      "Memory address of x: 0x767be4712140\n",
      "Memory address of x: 0x767be47122c0\n"
     ]
    }
   ],
   "source": [
    "# Proper way to do it\n",
    "import copy\n",
    "x = [1, 2, 3, 4, 5]\n",
    "y = copy.deepcopy(x)\n",
    "y.append(6)\n",
    "\n",
    "print(x)\n",
    "print(y)\n",
    "\n",
    "print(f\"Memory address of x: {hex(id(x))}\")\n",
    "print(f\"Memory address of x: {hex(id(y))}\")"
   ]
  },
  {
   "cell_type": "markdown",
   "metadata": {},
   "source": [
    "#### Which will be the fastest to finding an element ?"
   ]
  },
  {
   "cell_type": "code",
   "execution_count": 40,
   "metadata": {
    "editable": true,
    "slideshow": {
     "slide_type": ""
    },
    "tags": []
   },
   "outputs": [],
   "source": [
    "list_runner = [i for i in range(10000000)]\n",
    "dict_runner = {i:i for i in range(10000000)}\n",
    "tuple_runner = tuple(list_runner)"
   ]
  },
  {
   "cell_type": "code",
   "execution_count": 48,
   "metadata": {},
   "outputs": [],
   "source": [
    "from functools import wraps\n",
    "import time\n",
    "\n",
    "def timeit(func):\n",
    "    @wraps(func)\n",
    "    def timeit_wrapper(*args, **kwargs):\n",
    "        start_time = time.perf_counter()\n",
    "        result = func(*args, **kwargs)\n",
    "        end_time = time.perf_counter()\n",
    "        total_time = end_time - start_time\n",
    "        print(f'Function {func.__name__} took {total_time:.4f} seconds')\n",
    "        return result\n",
    "    return timeit_wrapper"
   ]
  },
  {
   "cell_type": "code",
   "execution_count": 49,
   "metadata": {},
   "outputs": [],
   "source": [
    "@timeit\n",
    "def find_in_list(list_runner:list, number:int):\n",
    "    return print(f\"Found in list: {number in list_runner}\")\n",
    "\n",
    "@timeit\n",
    "def find_in_dict(dict_runner:dict, number:int):\n",
    "    return print(f\"Found in dict: {number in dict_runner}\")\n",
    "\n",
    "@timeit\n",
    "def find_in_tuple(tuple_runner:tuple, number:int):\n",
    "    return print(f\"Found in tuple: {number in tuple_runner}\")"
   ]
  },
  {
   "cell_type": "markdown",
   "metadata": {},
   "source": [
    "#### Answer"
   ]
  },
  {
   "cell_type": "code",
   "execution_count": 51,
   "metadata": {},
   "outputs": [
    {
     "name": "stdout",
     "output_type": "stream",
     "text": [
      "Found in list: True\n",
      "Function find_in_list took 0.0001 seconds\n",
      "Found in dict: True\n",
      "Function find_in_dict took 0.0000 seconds\n",
      "Found in tuple: True\n",
      "Function find_in_tuple took 0.0000 seconds\n"
     ]
    }
   ],
   "source": [
    "find_in_list(list_runner, 10)\n",
    "find_in_dict(dict_runner, 10)\n",
    "find_in_tuple(tuple_runner, 10)"
   ]
  },
  {
   "cell_type": "code",
   "execution_count": 52,
   "metadata": {},
   "outputs": [
    {
     "name": "stdout",
     "output_type": "stream",
     "text": [
      "Found in list: True\n",
      "Function find_in_list took 0.0005 seconds\n",
      "Found in dict: True\n",
      "Function find_in_dict took 0.0000 seconds\n",
      "Found in tuple: True\n",
      "Function find_in_tuple took 0.0005 seconds\n"
     ]
    }
   ],
   "source": [
    "find_in_list(list_runner, 50000)\n",
    "find_in_dict(dict_runner, 50000)\n",
    "find_in_tuple(tuple_runner, 50000)"
   ]
  },
  {
   "cell_type": "code",
   "execution_count": 53,
   "metadata": {},
   "outputs": [
    {
     "name": "stdout",
     "output_type": "stream",
     "text": [
      "Found in list: True\n",
      "Function find_in_list took 0.0268 seconds\n",
      "Found in dict: True\n",
      "Function find_in_dict took 0.0000 seconds\n",
      "Found in tuple: True\n",
      "Function find_in_tuple took 0.0340 seconds\n"
     ]
    }
   ],
   "source": [
    "find_in_list(list_runner, 5450324)\n",
    "find_in_dict(dict_runner, 5450324)\n",
    "find_in_tuple(tuple_runner, 5450324)"
   ]
  },
  {
   "cell_type": "code",
   "execution_count": null,
   "metadata": {},
   "outputs": [],
   "source": []
  }
 ],
 "metadata": {
  "kernelspec": {
   "display_name": "Python 3 (ipykernel)",
   "language": "python",
   "name": "python3"
  },
  "language_info": {
   "codemirror_mode": {
    "name": "ipython",
    "version": 3
   },
   "file_extension": ".py",
   "mimetype": "text/x-python",
   "name": "python",
   "nbconvert_exporter": "python",
   "pygments_lexer": "ipython3",
   "version": "3.11.8"
  }
 },
 "nbformat": 4,
 "nbformat_minor": 4
}

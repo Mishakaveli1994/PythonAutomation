{
 "cells": [
  {
   "cell_type": "code",
   "execution_count": null,
   "metadata": {
    "editable": true,
    "slideshow": {
     "slide_type": "skip"
    },
    "tags": []
   },
   "outputs": [],
   "source": [
    "%%HTML\n",
    "<style>\n",
    "div.heading{\n",
    "    padding: 0 10%;\n",
    "    text-align:center;\n",
    "    }\n",
    "\n",
    "p.text{\n",
    "    text-align:center;\n",
    "    padding: 0 10%;\n",
    "\n",
    "}\n",
    "</style>"
   ]
  },
  {
   "cell_type": "markdown",
   "metadata": {
    "editable": true,
    "slideshow": {
     "slide_type": "slide"
    },
    "tags": []
   },
   "source": [
    "# <p class=\"text\">Python for Automation - Lesson 3</p> "
   ]
  },
  {
   "cell_type": "markdown",
   "metadata": {
    "editable": true,
    "slideshow": {
     "slide_type": "slide"
    },
    "tags": []
   },
   "source": [
    "<div class=\"heading\">\n",
    "    <ul style=\"list-style-type:none\">\n",
    "        <li><b>Lesson 3 Structure:</b></li>\n",
    "        <li>Data Structures</li>\n",
    "        <li>Functions</li>\n",
    "        <li>Scopes</li>\n",
    "    </ul>\n",
    "</div>"
   ]
  },
  {
   "cell_type": "markdown",
   "metadata": {
    "editable": true,
    "slideshow": {
     "slide_type": "slide"
    },
    "tags": []
   },
   "source": [
    "## <p class=\"text\">Python Basic collection types</p>"
   ]
  },
  {
   "cell_type": "markdown",
   "metadata": {
    "editable": true,
    "slideshow": {
     "slide_type": "subslide"
    },
    "tags": []
   },
   "source": [
    "<p class=\"text\">Python has 4 basic data structure (collection) types:</p>"
   ]
  },
  {
   "cell_type": "markdown",
   "metadata": {
    "editable": true,
    "slideshow": {
     "slide_type": "slide"
    },
    "tags": []
   },
   "source": [
    "### <p class=\"text\">Lists</p>"
   ]
  },
  {
   "cell_type": "code",
   "execution_count": null,
   "metadata": {
    "editable": true,
    "scrolled": true,
    "slideshow": {
     "slide_type": "fragment"
    },
    "tags": []
   },
   "outputs": [],
   "source": [
    "# Lists - Declared with either shorthand [] or the list() function - use the shorthand, it's faster! \n",
    "list_example = [1, 2.5, \"hello\", True] # Lists (list): Ordered collections of items, can contain different data types. [1, 2.5, \"hello\", True]\n",
    "print(f\"{list_example} is of type: {type(list_example)}\")"
   ]
  },
  {
   "cell_type": "markdown",
   "metadata": {
    "editable": true,
    "slideshow": {
     "slide_type": "slide"
    },
    "tags": []
   },
   "source": [
    "#### <p class=\"text\">Basic List methods</p>"
   ]
  },
  {
   "cell_type": "code",
   "execution_count": null,
   "metadata": {
    "editable": true,
    "slideshow": {
     "slide_type": "subslide"
    },
    "tags": []
   },
   "outputs": [],
   "source": [
    "# append()\tAdds an element at the end of the list\n",
    "initial_list = [1, 2, 3, 4]\n",
    "print(f\"Original list: {initial_list}\")\n",
    "initial_list.append(5)\n",
    "print(f\"List with appended value: {initial_list}\")"
   ]
  },
  {
   "cell_type": "code",
   "execution_count": null,
   "metadata": {
    "editable": true,
    "slideshow": {
     "slide_type": "subslide"
    },
    "tags": []
   },
   "outputs": [],
   "source": [
    "# clear()\tRemoves all the elements from the list\n",
    "initial_list = [1, 2, 3, 4]\n",
    "print(f\"Original list: {initial_list}\")\n",
    "initial_list.clear()\n",
    "print(f\"List with cleared values: {initial_list}\")"
   ]
  },
  {
   "cell_type": "code",
   "execution_count": null,
   "metadata": {
    "editable": true,
    "slideshow": {
     "slide_type": "subslide"
    },
    "tags": []
   },
   "outputs": [],
   "source": [
    "# count()\tReturns the number of elements with the specified value\n",
    "initial_list = [1, 2, 3, 4]\n",
    "print(f\"Original value count: {initial_list.count(4)}\")\n",
    "initial_list.append(4)\n",
    "print(f\"Appended value count: {initial_list.count(4)}\")"
   ]
  },
  {
   "cell_type": "code",
   "execution_count": null,
   "metadata": {
    "editable": true,
    "slideshow": {
     "slide_type": "subslide"
    },
    "tags": []
   },
   "outputs": [],
   "source": [
    "# extend()\tAdd the elements of a list (or any iterable), to the end of the current list\n",
    "initial_list = [1, 2, 3, 4]\n",
    "append_list = [5, 6, 7, 8]\n",
    "print(f\"Original list: {initial_list}\")\n",
    "initial_list.extend(append_list) # Notice how it extends it in-place\n",
    "print(f\"Extended list: {initial_list}\")"
   ]
  },
  {
   "cell_type": "code",
   "execution_count": null,
   "metadata": {
    "editable": true,
    "slideshow": {
     "slide_type": "subslide"
    },
    "tags": []
   },
   "outputs": [],
   "source": [
    "# index()\tReturns the index of the first element with the specified value\n",
    "initial_list = [1, 2, 3, 4]\n",
    "print(f\"Original index: {initial_list.index(4)}\")\n",
    "initial_list = [5, 4, 3, 2]\n",
    "print(f\"Rearranged index: {initial_list.index(4)}\")"
   ]
  },
  {
   "cell_type": "code",
   "execution_count": null,
   "metadata": {
    "editable": true,
    "slideshow": {
     "slide_type": "subslide"
    },
    "tags": []
   },
   "outputs": [],
   "source": [
    "# insert()\tAdds an element at the specified position\n",
    "initial_list = [1, 2, 3, 4]\n",
    "print(f\"Original list: {initial_list}\")\n",
    "initial_list.insert(1, 6)\n",
    "print(f\"Inserted into list: {initial_list}\")"
   ]
  },
  {
   "cell_type": "code",
   "execution_count": null,
   "metadata": {
    "editable": true,
    "slideshow": {
     "slide_type": "subslide"
    },
    "tags": []
   },
   "outputs": [],
   "source": [
    "# pop()\tRemoves the element at the specified position\n",
    "initial_list = [1, 2, 3, 4]\n",
    "print(f\"Original list: {initial_list}\")\n",
    "initial_list.pop(1)\n",
    "print(f\"Popped value list: {initial_list}\")\n",
    "\n",
    "# If pop argument is left empty, the last value is popped by default"
   ]
  },
  {
   "cell_type": "code",
   "execution_count": null,
   "metadata": {
    "editable": true,
    "slideshow": {
     "slide_type": "subslide"
    },
    "tags": []
   },
   "outputs": [],
   "source": [
    "# remove()\tRemoves the first item with the specified value\n",
    "initial_list = [1, 2, 3, 4, 5, 6, 4]\n",
    "print(f\"Original list: {initial_list}\")\n",
    "initial_list.remove(4)\n",
    "print(f\"Remove first value list: {initial_list}\")"
   ]
  },
  {
   "cell_type": "code",
   "execution_count": null,
   "metadata": {
    "editable": true,
    "slideshow": {
     "slide_type": "subslide"
    },
    "tags": []
   },
   "outputs": [],
   "source": [
    "# reverse()\tReverses the order of the list\n",
    "initial_list = [1, 2, 3, 4]\n",
    "print(f\"Original list: {initial_list}\")\n",
    "initial_list.reverse()\n",
    "print(f\"Reversed list: {initial_list}\")"
   ]
  },
  {
   "cell_type": "code",
   "execution_count": null,
   "metadata": {
    "editable": true,
    "slideshow": {
     "slide_type": "subslide"
    },
    "tags": []
   },
   "outputs": [],
   "source": [
    "# sort()\tSorts the list\n",
    "initial_list = [5, 2, 1, 3, 6, 5, 7]\n",
    "print(f\"Original list: {initial_list}\")\n",
    "initial_list.sort()\n",
    "print(f\"Sorted list: {initial_list}\")\n",
    "initial_list.sort(reverse=True)\n",
    "print(f\"Reverse sorted list: {initial_list}\")\n",
    "\n",
    "# Can also be used for strings\n",
    "string_list = ['Abra', 'abra', 'Cadabra']\n",
    "string_list.sort()\n",
    "print(f\"Sorted string list: {string_list}\")"
   ]
  },
  {
   "cell_type": "markdown",
   "metadata": {
    "editable": true,
    "slideshow": {
     "slide_type": "slide"
    },
    "tags": []
   },
   "source": [
    "#### <p class=\"text\">Question</p>"
   ]
  },
  {
   "cell_type": "markdown",
   "metadata": {
    "editable": true,
    "slideshow": {
     "slide_type": "slide"
    },
    "tags": []
   },
   "source": [
    "#### <p class=\"text\">Will updating variable y, change variable x ?</p>"
   ]
  },
  {
   "cell_type": "code",
   "execution_count": null,
   "metadata": {
    "editable": true,
    "slideshow": {
     "slide_type": "subslide"
    },
    "tags": []
   },
   "outputs": [],
   "source": [
    "x = [1, 2, 3, 4, 5]\n",
    "y = x\n",
    "\n",
    "y.append(6)\n",
    "\n",
    "print(x)\n",
    "print(y)"
   ]
  },
  {
   "cell_type": "code",
   "execution_count": null,
   "metadata": {
    "editable": true,
    "slideshow": {
     "slide_type": "subslide"
    },
    "tags": []
   },
   "outputs": [],
   "source": [
    "print(f\"Memory address of x: {hex(id(x))}\")\n",
    "print(f\"Memory address of x: {hex(id(y))}\")"
   ]
  },
  {
   "cell_type": "markdown",
   "metadata": {
    "editable": true,
    "slideshow": {
     "slide_type": "slide"
    },
    "tags": []
   },
   "source": [
    "#### <p class=\"text\">Answer</p>"
   ]
  },
  {
   "cell_type": "code",
   "execution_count": null,
   "metadata": {
    "editable": true,
    "slideshow": {
     "slide_type": "subslide"
    },
    "tags": []
   },
   "outputs": [],
   "source": [
    "# Lists are passed by reference. If you want to change a list, but not to modify the original, use copy or deepcopy\n",
    "import copy\n",
    "x = [1, 2, 3, 4, 5]\n",
    "y = copy.copy(x) #  Or deepcopy if there are nested structures inside, like [1, 2, 3, [4, 5, 6]]\n",
    "y.append(6)\n",
    "\n",
    "print(x)\n",
    "print(y)\n",
    "\n",
    "print(f\"Memory address of x: {hex(id(x))}\")\n",
    "print(f\"Memory address of x: {hex(id(y))}\")"
   ]
  },
  {
   "cell_type": "markdown",
   "metadata": {
    "editable": true,
    "slideshow": {
     "slide_type": "subslide"
    },
    "tags": []
   },
   "source": [
    "<p class=\"text\">Internal Implementation - Double Linked List</p>\n",
    "\n",
    "<center><img style=\"float:center\" src=\"../images/DoubleLinkedList.png\"></center>"
   ]
  },
  {
   "cell_type": "markdown",
   "metadata": {
    "editable": true,
    "slideshow": {
     "slide_type": "slide"
    },
    "tags": []
   },
   "source": [
    "### <p class=\"text\">Tuples</p>"
   ]
  },
  {
   "cell_type": "code",
   "execution_count": null,
   "metadata": {
    "editable": true,
    "scrolled": true,
    "slideshow": {
     "slide_type": "fragment"
    },
    "tags": []
   },
   "outputs": [],
   "source": [
    "# Tuples - Declared with either shorthand () or the tuple() function - use the shorthand, it's faster! \n",
    "\n",
    "tuple_example = (1, 2.5, \"hello\", True) # Tuples (tuple): Immutable collections of items, can contain different data types. (1, 2.5, \"hello\", True)\n",
    "print(f\"{tuple_example} is of type: {type(tuple_example)}\")"
   ]
  },
  {
   "cell_type": "markdown",
   "metadata": {
    "editable": true,
    "slideshow": {
     "slide_type": "fragment"
    },
    "tags": []
   },
   "source": [
    "<p class=\"text\">Python has only 2 built in methods, specifically for tuples - <b>count</b> and <b>index</b>. They work the same as with lists.</p>"
   ]
  },
  {
   "cell_type": "code",
   "execution_count": null,
   "metadata": {
    "editable": true,
    "scrolled": true,
    "slideshow": {
     "slide_type": "slide"
    },
    "tags": []
   },
   "outputs": [],
   "source": [
    "# Tuples are immutable by definition and have a fixed size\n",
    "\n",
    "tuple_example = (1, 2.5, \"hello\", True)\n",
    "\n",
    "# This will not work\n",
    "try:\n",
    "    tuple_example += ['asd']\n",
    "except TypeError as e:\n",
    "    print('Tuples cannot be modified')\n",
    "\n",
    "# Neither will this\n",
    "try:\n",
    "    tuple_example[4] = 'asd'\n",
    "except TypeError as e:\n",
    "    print('Tuples cannot be modified')"
   ]
  },
  {
   "cell_type": "markdown",
   "metadata": {},
   "source": [
    "<p class=\"text\">Tuples can never be extended, the proper way you extend a tuple is to rebuild it</p>"
   ]
  },
  {
   "cell_type": "code",
   "execution_count": null,
   "metadata": {
    "editable": true,
    "slideshow": {
     "slide_type": "slide"
    },
    "tags": []
   },
   "outputs": [],
   "source": [
    "t = (1, 2, 3)\n",
    "t += (4, 5, 6) # This clears out the old tuple reference and creates a new one with the added values\n",
    "print(t)"
   ]
  },
  {
   "cell_type": "markdown",
   "metadata": {
    "editable": true,
    "slideshow": {
     "slide_type": "slide"
    },
    "tags": []
   },
   "source": [
    "### <p class=\"text\">Dictionary</p>"
   ]
  },
  {
   "cell_type": "code",
   "execution_count": null,
   "metadata": {
    "editable": true,
    "slideshow": {
     "slide_type": "fragment"
    },
    "tags": []
   },
   "outputs": [],
   "source": [
    "# Dictionaries - Declared with either shorthand {} or the dict() function - use the shorthand, it's faster! \n",
    "\n",
    "dictionary = {\"name\": \"John\", \"age\": 30, \"city\": \"New York\"} # Dictionaries (dict): Associative collections of items, can contain different data types. {\"name\": \"John\", \"age\": 30, \"city\": \"New York\"}\n",
    "print(f\"{dictionary} is of type: {type(dictionary)}\")"
   ]
  },
  {
   "cell_type": "markdown",
   "metadata": {
    "editable": true,
    "slideshow": {
     "slide_type": "slide"
    },
    "tags": []
   },
   "source": [
    "#### <p class=\"text\">Basic Dictionary methods</p>"
   ]
  },
  {
   "cell_type": "code",
   "execution_count": null,
   "metadata": {
    "editable": true,
    "slideshow": {
     "slide_type": "subslide"
    },
    "tags": []
   },
   "outputs": [],
   "source": [
    "# clear()\tRemoves all the elements from the dictionary\n",
    "initial_dict = {\"name\": \"Petar\", \"age\": 16}\n",
    "print(f\"Initial dict: {initial_dict}\")\n",
    "initial_dict.clear()\n",
    "print(f\"Cleared dict: {initial_dict}\")\n",
    "#! Show shorthands"
   ]
  },
  {
   "cell_type": "code",
   "execution_count": null,
   "metadata": {
    "editable": true,
    "slideshow": {
     "slide_type": "subslide"
    },
    "tags": []
   },
   "outputs": [],
   "source": [
    "# copy()\tReturns a copy of the dictionary - same as list"
   ]
  },
  {
   "cell_type": "code",
   "execution_count": null,
   "metadata": {
    "editable": true,
    "slideshow": {
     "slide_type": "subslide"
    },
    "tags": []
   },
   "outputs": [],
   "source": [
    "# fromkeys()\tReturns a dictionary with the specified keys and value\n",
    "keys = [\"name\", \"age\"]\n",
    "values = [\"Petar\", 16]\n",
    "dictionary = dict.fromkeys(keys, values)\n",
    "print(f\"Created dict: {dictionary}\")"
   ]
  },
  {
   "cell_type": "code",
   "execution_count": null,
   "metadata": {
    "editable": true,
    "slideshow": {
     "slide_type": "subslide"
    },
    "tags": []
   },
   "outputs": [],
   "source": [
    "# get()\tReturns the value of the specified key\n",
    "initial_dict = {\"name\": \"Petar\", \"age\": 16}\n",
    "name = initial_dict.get(\"name\")\n",
    "print(f\"Name (get): {name}\")\n",
    "\n",
    "# Shorthand syntax\n",
    "name = initial_dict[\"name\"]\n",
    "print(f\"Name (shorthand): {name}\")\n",
    "\n",
    "# Warning - always use .get(), as it returns None when the key is not found, the shorthand throws an error\n",
    "\n",
    "year = initial_dict.get(\"years\")\n",
    "print(f\"Years (get): {year}\")\n",
    "\n",
    "try:\n",
    "    year = initial_dict[\"year\"]\n",
    "    print(f\"Years (shorthand): {year}\")\n",
    "except KeyError:\n",
    "    print(\"Key year not found!\")"
   ]
  },
  {
   "cell_type": "code",
   "execution_count": null,
   "metadata": {
    "editable": true,
    "slideshow": {
     "slide_type": "subslide"
    },
    "tags": []
   },
   "outputs": [],
   "source": [
    "# items()\tReturns a list containing a tuple for each key value pair\n",
    "initial_dict = {\"name\": \"Petar\", \"age\": 16}\n",
    "print(f\"Dictionary items: {initial_dict.items()}\")"
   ]
  },
  {
   "cell_type": "code",
   "execution_count": null,
   "metadata": {
    "editable": true,
    "slideshow": {
     "slide_type": "subslide"
    },
    "tags": []
   },
   "outputs": [],
   "source": [
    "#keys()\tReturns a list containing the dictionary's keys\n",
    "initial_dict = {\"name\": \"Petar\", \"age\": 16}\n",
    "print(f\"Dictionary keys: {initial_dict.keys()}\")"
   ]
  },
  {
   "cell_type": "code",
   "execution_count": null,
   "metadata": {
    "editable": true,
    "slideshow": {
     "slide_type": "subslide"
    },
    "tags": []
   },
   "outputs": [],
   "source": [
    "# values()\tReturns a list of all the values in the dictionary\n",
    "initial_dict = {\"name\": \"Petar\", \"age\": 16}\n",
    "print(f\"Dictionary values: {initial_dict.values()}\")"
   ]
  },
  {
   "cell_type": "code",
   "execution_count": null,
   "metadata": {
    "editable": true,
    "slideshow": {
     "slide_type": "subslide"
    },
    "tags": []
   },
   "outputs": [],
   "source": [
    "# pop()\tRemoves the element with the specified key\n",
    "initial_dict = {\"name\": \"Petar\", \"age\": 16}\n",
    "print(f\"Initial dict: {initial_dict}\")\n",
    "initial_dict.pop('name')\n",
    "print(f\"Popped dict: {initial_dict}\")"
   ]
  },
  {
   "cell_type": "code",
   "execution_count": null,
   "metadata": {
    "editable": true,
    "slideshow": {
     "slide_type": "subslide"
    },
    "tags": []
   },
   "outputs": [],
   "source": [
    "# popitem()\tRemoves the last inserted key-value pair\n",
    "initial_dict = {\"name\": \"Petar\", \"age\": 16}\n",
    "print(f\"Initial dict: {initial_dict}\")\n",
    "initial_dict.popitem()\n",
    "print(f\"PoppedItem dict: {initial_dict}\")"
   ]
  },
  {
   "cell_type": "code",
   "execution_count": null,
   "metadata": {
    "editable": true,
    "slideshow": {
     "slide_type": "subslide"
    },
    "tags": []
   },
   "outputs": [],
   "source": [
    "# setdefault()\tReturns the value of the specified key. If the key does not exist: insert the key, with the specified value\n",
    "initial_dict = {\"name\": \"Petar\", \"age\": 16}\n",
    "print(f\"Initial dict: {initial_dict}\")\n",
    "initial_dict.setdefault('year', 1996)\n",
    "print(f\"Default value dict: {initial_dict}\")"
   ]
  },
  {
   "cell_type": "code",
   "execution_count": null,
   "metadata": {
    "editable": true,
    "scrolled": true,
    "slideshow": {
     "slide_type": "subslide"
    },
    "tags": []
   },
   "outputs": [],
   "source": [
    "# update()\tUpdates the dictionary with the specified key-value pairs\n",
    "initial_dict = {\"name\": \"Petar\", \"age\": 16}\n",
    "print(f\"Initial dict: {initial_dict}\")\n",
    "initial_dict.update({'year': 1996, 'pet': 'dog'})\n",
    "print(f\"Default value dict: {initial_dict}\")"
   ]
  },
  {
   "cell_type": "markdown",
   "metadata": {
    "editable": true,
    "slideshow": {
     "slide_type": "slide"
    },
    "tags": []
   },
   "source": [
    "<p class=\"text\">Internal Implementation - Hash Table</p>\n",
    "<center><img style=\"float:center\" src=\"../images/HashList.png\"></center>"
   ]
  },
  {
   "cell_type": "markdown",
   "metadata": {
    "editable": true,
    "slideshow": {
     "slide_type": "slide"
    },
    "tags": []
   },
   "source": [
    "### <p class=\"text\">Set</p>"
   ]
  },
  {
   "cell_type": "code",
   "execution_count": null,
   "metadata": {
    "editable": true,
    "slideshow": {
     "slide_type": "subslide"
    },
    "tags": []
   },
   "outputs": [],
   "source": [
    "# Set - Declared with either shorthand {,} or the set() function - use the shorthand, it's faster! \n",
    "\n",
    "set_example = {1, 2.5, \"hello\", True} # Sets (set): Unordered collections of items, can contain different data types. {1, 2.5, \"hello\", True}\n",
    "print(f\"{set_example} is of type: {type(set_example)}\")\n",
    "\n",
    "# They automatically remove duplicate values\n",
    "\n",
    "l = [1, 2, 3, 3, 3, 4, 4, 5, 6, 7, 8, 9]\n",
    "s = set(l)\n",
    "print(s)\n",
    "\n",
    "# They are useful if you want to check the collison betweeen two unique sets of values\n",
    "left = {1, 2, 3, 4, 5, 6}\n",
    "right = {5, 6, 7, 8, 9, 10}\n",
    "\n",
    "# Difference between two sets\n",
    "print(f\"Difference between two sets: {left.difference(right)}\")\n",
    "\n",
    "# Intersection between two sets\n",
    "print(f\"Intersection between two sets: {left.intersection(right)}\")"
   ]
  },
  {
   "cell_type": "markdown",
   "metadata": {
    "editable": true,
    "slideshow": {
     "slide_type": "slide"
    },
    "tags": []
   },
   "source": [
    "#### <p class=\"text\">Question</p>"
   ]
  },
  {
   "cell_type": "markdown",
   "metadata": {
    "editable": true,
    "slideshow": {
     "slide_type": "slide"
    },
    "tags": []
   },
   "source": [
    "#### <p class=\"text\">Which will be the fastest to finding an element ?</p>"
   ]
  },
  {
   "cell_type": "code",
   "execution_count": null,
   "metadata": {
    "editable": true,
    "slideshow": {
     "slide_type": "fragment"
    },
    "tags": []
   },
   "outputs": [],
   "source": [
    "list_runner = [i for i in range(10000000)]\n",
    "dict_runner = {i:i for i in range(10000000)}\n",
    "tuple_runner = tuple(list_runner)"
   ]
  },
  {
   "cell_type": "code",
   "execution_count": null,
   "metadata": {
    "editable": true,
    "slideshow": {
     "slide_type": "fragment"
    },
    "tags": []
   },
   "outputs": [],
   "source": [
    "from functools import wraps\n",
    "import time\n",
    "\n",
    "def timeit(func):\n",
    "    @wraps(func)\n",
    "    def timeit_wrapper(*args, **kwargs):\n",
    "        start_time = time.perf_counter()\n",
    "        result = func(*args, **kwargs)\n",
    "        end_time = time.perf_counter()\n",
    "        total_time = end_time - start_time\n",
    "        print(f'Function {func.__name__} took {total_time:.4f} seconds')\n",
    "        return result\n",
    "    return timeit_wrapper"
   ]
  },
  {
   "cell_type": "code",
   "execution_count": null,
   "metadata": {
    "editable": true,
    "slideshow": {
     "slide_type": "fragment"
    },
    "tags": []
   },
   "outputs": [],
   "source": [
    "@timeit\n",
    "def find_in_list(list_runner:list, number:int):\n",
    "    return print(f\"Found in list: {number in list_runner}\")\n",
    "\n",
    "@timeit\n",
    "def find_in_dict(dict_runner:dict, number:int):\n",
    "    return print(f\"Found in dict: {number in dict_runner}\")\n",
    "\n",
    "@timeit\n",
    "def find_in_tuple(tuple_runner:tuple, number:int):\n",
    "    return print(f\"Found in tuple: {number in tuple_runner}\")"
   ]
  },
  {
   "cell_type": "markdown",
   "metadata": {
    "editable": true,
    "slideshow": {
     "slide_type": "slide"
    },
    "tags": []
   },
   "source": [
    "#### <p class=\"text\">Answer</p>"
   ]
  },
  {
   "cell_type": "code",
   "execution_count": null,
   "metadata": {
    "editable": true,
    "slideshow": {
     "slide_type": "subslide"
    },
    "tags": []
   },
   "outputs": [],
   "source": [
    "find_in_list(list_runner, 10)\n",
    "find_in_dict(dict_runner, 10)\n",
    "find_in_tuple(tuple_runner, 10)"
   ]
  },
  {
   "cell_type": "code",
   "execution_count": null,
   "metadata": {
    "editable": true,
    "slideshow": {
     "slide_type": "subslide"
    },
    "tags": []
   },
   "outputs": [],
   "source": [
    "find_in_list(list_runner, 50000)\n",
    "find_in_dict(dict_runner, 50000)\n",
    "find_in_tuple(tuple_runner, 50000)"
   ]
  },
  {
   "cell_type": "code",
   "execution_count": null,
   "metadata": {
    "editable": true,
    "slideshow": {
     "slide_type": "subslide"
    },
    "tags": []
   },
   "outputs": [],
   "source": [
    "find_in_list(list_runner, 5450324)\n",
    "find_in_dict(dict_runner, 5450324)\n",
    "find_in_tuple(tuple_runner, 5450324)"
   ]
  },
  {
   "cell_type": "markdown",
   "metadata": {
    "editable": true,
    "slideshow": {
     "slide_type": "slide"
    },
    "tags": []
   },
   "source": [
    "### <p class=\"text\">Common methods and notes</p>"
   ]
  },
  {
   "cell_type": "code",
   "execution_count": null,
   "metadata": {
    "editable": true,
    "slideshow": {
     "slide_type": "subslide"
    },
    "tags": []
   },
   "outputs": [],
   "source": [
    "# len - get the data structure current length (how many objects does it contain)\n",
    "\n",
    "initial_list = [1, 2, 3, 4]\n",
    "initial_tuple = (4, 5, 6, 7, 8, 9, 10)\n",
    "initial_dict = {\"key1\": \"value1\", \"key2\": \"value2\"}\n",
    "initial_set = {1, 2, 3, 4, 5, 6}\n",
    "\n",
    "print(f\"Initial list length: {len(initial_list)}\")\n",
    "print(f\"Initial tuple length: {len(initial_tuple)}\")\n",
    "print(f\"Initial dict length: {len(initial_dict)}\")\n",
    "print(f\"Initial set length: {len(initial_set)}\")"
   ]
  },
  {
   "cell_type": "code",
   "execution_count": null,
   "metadata": {
    "editable": true,
    "slideshow": {
     "slide_type": "subslide"
    },
    "tags": []
   },
   "outputs": [],
   "source": [
    "# Lists and tuples are accessed via Index - in Python, the first index is 0\n",
    "\n",
    "initial_list = [1, 2, 3, 4]\n",
    "print(f\"Access first element in list: {initial_list[0]}\")\n",
    "\n",
    "initial_tuple = (4, 5, 6, 7, 8, 9, 10)\n",
    "print(f\"Access first element in tuple: {initial_tuple[0]}\")\n",
    "\n",
    "# Dictionaries are accessed via key\n",
    "initial_dict = {\"key1\": \"value1\", \"key2\": \"value2\"}\n",
    "print(f\"Access key1 in dictionary: {initial_dict.get('key1')}\")"
   ]
  },
  {
   "cell_type": "markdown",
   "metadata": {
    "editable": true,
    "slideshow": {
     "slide_type": "slide"
    },
    "tags": []
   },
   "source": [
    "## <p class=\"text\">Functions</p>"
   ]
  },
  {
   "cell_type": "markdown",
   "metadata": {
    "editable": true,
    "slideshow": {
     "slide_type": "fragment"
    },
    "tags": []
   },
   "source": [
    "<p class=\"text\">Functions are blocks of reusable and organised code that usually perform a single, related action. They are a crucial part of programming because they save you a lot of time and make your code cleaner.</p>"
   ]
  },
  {
   "cell_type": "markdown",
   "metadata": {
    "editable": true,
    "slideshow": {
     "slide_type": "slide"
    },
    "tags": []
   },
   "source": [
    "### <p class=\"text\">Anatomy of a function in Python</p>"
   ]
  },
  {
   "cell_type": "code",
   "execution_count": null,
   "metadata": {
    "editable": true,
    "slideshow": {
     "slide_type": "fragment"
    },
    "tags": []
   },
   "outputs": [],
   "source": [
    "def calculate_sum(first_number: int, second_number: int) -> int:\n",
    "    \"\"\"\n",
    "    This function calculates the sum of two numbers\n",
    "    \n",
    "    :param first_number: first number to sum\n",
    "    :param second_number: second number to sum\n",
    "    :return: sum of two numbers\"\"\"\n",
    "    numbers_sum = first_number + second_number\n",
    "    return numbers_sum"
   ]
  },
  {
   "cell_type": "code",
   "execution_count": null,
   "metadata": {
    "editable": true,
    "slideshow": {
     "slide_type": "fragment"
    },
    "tags": []
   },
   "outputs": [],
   "source": [
    "calculate_sum(10, 15)"
   ]
  },
  {
   "cell_type": "markdown",
   "metadata": {
    "editable": true,
    "slideshow": {
     "slide_type": "slide"
    },
    "tags": []
   },
   "source": [
    "<center><img style=\"float:center\" src=\"../images/AnatomyOfAFunction.png\"></center>"
   ]
  },
  {
   "cell_type": "markdown",
   "metadata": {
    "editable": true,
    "slideshow": {
     "slide_type": "slide"
    },
    "tags": []
   },
   "source": [
    "<p class=\"text\">A function can have default parameters, meaning that if no parameter is passed, there is a placeholder value. It's implemented as following:</p>"
   ]
  },
  {
   "cell_type": "code",
   "execution_count": null,
   "metadata": {
    "editable": true,
    "slideshow": {
     "slide_type": "subslide"
    },
    "tags": []
   },
   "outputs": [],
   "source": [
    "def calculate_sum_with_default(first_number: int, second_number: int = 10) -> int:\n",
    "    \"\"\"\n",
    "    This function calculates the sum of two numbers\n",
    "    \n",
    "    :param first_number: first number to sum\n",
    "    :param second_number: second number to sum\n",
    "    :return: sum of two numbers\"\"\"\n",
    "    numbers_sum = first_number + second_number\n",
    "    return numbers_sum\n",
    "\n",
    "## Values passed like this are called positional arguments, you need to pass them as they are defined in the function\n",
    "print(f\"Passing with positional arguments: calculate_sum_with_default(10) = {calculate_sum_with_default(10)}\")\n",
    "\n",
    "## Another way to do it is by passing them with the respective parameter name, that way, you can do it out of order\n",
    "\n",
    "print(f\"Passing with keyword arguments: calculate_sum_with_default(second_number=45, first_number=70) = {calculate_sum_with_default(second_number=45, first_number=70)}\")"
   ]
  },
  {
   "cell_type": "markdown",
   "metadata": {
    "editable": true,
    "slideshow": {
     "slide_type": "slide"
    },
    "tags": []
   },
   "source": [
    "### <p class=\"text\">Passing arguments to functions</p>"
   ]
  },
  {
   "cell_type": "markdown",
   "metadata": {
    "editable": true,
    "slideshow": {
     "slide_type": "fragment"
    },
    "tags": []
   },
   "source": [
    "<p class=\"text\">When passing simple types (int, float, string, bit), they are passed by value"
   ]
  },
  {
   "cell_type": "code",
   "execution_count": null,
   "metadata": {
    "editable": true,
    "slideshow": {
     "slide_type": "slide"
    },
    "tags": []
   },
   "outputs": [],
   "source": [
    "def simple_types_function(number:int, string_value:str) -> None: # Pass none, when the functions doesn't return anything\n",
    "    number += 1\n",
    "    string_value += ' Added'\n",
    "\n",
    "n = 12\n",
    "st = \"Values\"\n",
    "\n",
    "simple_types_function(n, st)\n",
    "print(f\"Number value: {n}\")\n",
    "print(f\"String value: {st}\")"
   ]
  },
  {
   "cell_type": "markdown",
   "metadata": {
    "editable": true,
    "slideshow": {
     "slide_type": "slide"
    },
    "tags": []
   },
   "source": [
    "#### <p class=\"text\">Question</p>\n",
    "\n",
    "<p class=\"text\">If we pass a data structure to a function, do we expect it to change the original one, if we change it inside said function?</p>"
   ]
  },
  {
   "cell_type": "code",
   "execution_count": null,
   "metadata": {
    "editable": true,
    "slideshow": {
     "slide_type": "fragment"
    },
    "tags": []
   },
   "outputs": [],
   "source": [
    "def function_using_list(l: list) -> None:\n",
    "    l.append(12)\n",
    "\n",
    "l1 = [1, 2, 3]\n",
    "function_using_list(l1)\n",
    "print(f\"List after function: {l1}\")"
   ]
  },
  {
   "cell_type": "markdown",
   "metadata": {
    "editable": true,
    "slideshow": {
     "slide_type": "slide"
    },
    "tags": []
   },
   "source": [
    "#### <p class=\"text\">Answer</p>\n",
    "\n",
    "<p class=\"text\">YES! Data types are passed as references, meaning a pointer to them is passed and inside you actually deal with the collection that is outside the function.</p>"
   ]
  },
  {
   "cell_type": "markdown",
   "metadata": {
    "editable": true,
    "slideshow": {
     "slide_type": "slide"
    },
    "tags": []
   },
   "source": [
    "#### <p class=\"text\">Question</p>\n",
    "\n",
    "<p class=\"text\">How about if we have a collection as a default parameter in a function, will it persist after subsequent runs?</p>"
   ]
  },
  {
   "cell_type": "code",
   "execution_count": null,
   "metadata": {
    "editable": true,
    "slideshow": {
     "slide_type": "fragment"
    },
    "tags": []
   },
   "outputs": [],
   "source": [
    "def function_using_list(num = int, l: list = []) -> None:\n",
    "    l.append(num)\n",
    "    print(l)\n",
    "\n",
    "function_using_list(1)\n",
    "function_using_list(2)\n",
    "function_using_list(3)"
   ]
  },
  {
   "cell_type": "markdown",
   "metadata": {
    "editable": true,
    "slideshow": {
     "slide_type": "slide"
    },
    "tags": []
   },
   "source": [
    "#### <p class=\"text\">Answer</p>\n",
    "\n",
    "<p class=\"text\">YES! Python will keep track of that object and will use it in subsequent runs, so be careful when using them as default parameters.</p>"
   ]
  },
  {
   "cell_type": "markdown",
   "metadata": {
    "editable": true,
    "slideshow": {
     "slide_type": "slide"
    },
    "tags": []
   },
   "source": [
    "### <p class=\"text\">Scopes</p>\n",
    "\n",
    "<p class=\"text\">A variable is only available from inside the region it is created. This is called <b>scope</b>. Python has 4 separate scopes:</p>"
   ]
  },
  {
   "cell_type": "markdown",
   "metadata": {
    "editable": true,
    "slideshow": {
     "slide_type": "slide"
    },
    "tags": []
   },
   "source": [
    "#### <p class=\"text\">Local Scope</p>\n",
    "\n",
    "<p class=\"text\">Whenever you define a variable within a function, its scope lies ONLY within the function. It is accessible from the point at which it is defined until the end of the function and exists for as long as the function is executing. Which means its value cannot be changed or even accessed from outside the function.</p>"
   ]
  },
  {
   "cell_type": "code",
   "execution_count": null,
   "metadata": {
    "editable": true,
    "slideshow": {
     "slide_type": "fragment"
    },
    "tags": []
   },
   "outputs": [],
   "source": [
    "def print_number():\n",
    "    first_num = 1\n",
    "    # Print statement 1\n",
    "    print(\"The first number defined is: \", first_num)\n",
    "\n",
    "print_number()\n",
    "\n",
    "try:\n",
    "    print(\"The first number defined is: \", first_num)\n",
    "except NameError:\n",
    "    print(\"The first number is not defined!\")"
   ]
  },
  {
   "cell_type": "markdown",
   "metadata": {
    "editable": true,
    "slideshow": {
     "slide_type": "slide"
    },
    "tags": []
   },
   "source": [
    "#### <p class=\"text\">Enclosing Scope</p>\n",
    "\n",
    "<p class=\"text\">If we define a function, inside another function, we say that the nested one is using the enclosing scope - meaning it can access the variables declared in it's parent function.</p>"
   ]
  },
  {
   "cell_type": "code",
   "execution_count": null,
   "metadata": {
    "editable": true,
    "slideshow": {
     "slide_type": "fragment"
    },
    "tags": []
   },
   "outputs": [],
   "source": [
    "def outer():\n",
    "    first_num = 1\n",
    "    def inner():\n",
    "        second_num = 2\n",
    "        # Print statement 1 - Scope: Inner\n",
    "        print(\"first_num from outer: \", first_num)\n",
    "        # Print statement 2 - Scope: Inner\n",
    "        print(\"second_num from inner: \", second_num)\n",
    "    inner()\n",
    "    # Print statement 3 - Scope: Outer\n",
    "    try:\n",
    "        print(\"second_num from inner: \", second_num)\n",
    "    except NameError:\n",
    "        print(\"second_num cannot be accessed from the outer function!\")\n",
    "\n",
    "outer()"
   ]
  },
  {
   "cell_type": "markdown",
   "metadata": {
    "editable": true,
    "slideshow": {
     "slide_type": "slide"
    },
    "tags": []
   },
   "source": [
    "#### <p class=\"text\">Global Scope</p>\n",
    "\n",
    "<p class=\"text\">This is the easiest scope to understand. Whenever a variable is defined outside any function, it becomes a global variable, and its scope is anywhere within the program. Which means it can be used by any function.</p>"
   ]
  },
  {
   "cell_type": "code",
   "execution_count": null,
   "metadata": {
    "editable": true,
    "slideshow": {
     "slide_type": "fragment"
    },
    "tags": []
   },
   "outputs": [],
   "source": [
    "greeting = \"Hello\"\n",
    "\n",
    "def greeting_world():\n",
    "    world = \"World\"\n",
    "    print(greeting, world)\n",
    "\n",
    "def greeting_name(name):\n",
    "    print(greeting, name)\n",
    "\n",
    "greeting_world()\n",
    "greeting_name(\"Samuel\")"
   ]
  },
  {
   "cell_type": "code",
   "execution_count": null,
   "metadata": {
    "editable": true,
    "slideshow": {
     "slide_type": "subslide"
    },
    "tags": []
   },
   "outputs": [],
   "source": [
    "# Another way that is to be avoided\n",
    "def greeting_world():\n",
    "    global world\n",
    "    world = \"Hello\"\n",
    "\n",
    "greeting_world()\n",
    "print(world)\n",
    "\n",
    "# Avoid using this as it's confusing and overcomplicates the code !"
   ]
  },
  {
   "cell_type": "markdown",
   "metadata": {
    "editable": true,
    "slideshow": {
     "slide_type": "slide"
    },
    "tags": []
   },
   "source": [
    "#### <p class=\"text\">Built-In Scope</p>\n",
    "\n",
    "<p class=\"text\">This is the widest scope that exists! All the special reserved keywords fall under this scope. We can call the keywords anywhere within our program without having to define them before use.\n",
    "\n",
    "Keywords are simply special reserved words. They are kept for specific purposes and cannot be used for any other purpose in the program.\n",
    "These are the keywords in Python:\n",
    "<code>False</code> / <code>class</code> / <code>finally</code> / <code>is</code> / <code>return</code> / <code>None</code> / <code>continue</code> / <code>for</code> / <code>lambda</code> / <code>try</code> / <code>True</code> / <code>def</code> / <code>from</code> / <code>nonlocal</code> / <code>while</code> / <code>and</code> / <code>del</code> / <code>global</code> / <code>not</code> / <code>with</code> / <code>as</code> / <code>elif</code> / <code>if</code> / <code>or</code> / <code>yield</code> / <code>assert</code> / <code>else</code> / <code>import</code> / <code>pass</code> / <code>break</code> / <code>except</code> / <code>in</code> / <code>raise</code>\n",
    "</p>"
   ]
  },
  {
   "cell_type": "markdown",
   "metadata": {
    "editable": true,
    "slideshow": {
     "slide_type": "slide"
    },
    "tags": []
   },
   "source": [
    "# <p class=\"text\">Thank you for your time!</p>"
   ]
  }
 ],
 "metadata": {
  "kernelspec": {
   "display_name": "Python 3 (ipykernel)",
   "language": "python",
   "name": "python3"
  },
  "language_info": {
   "codemirror_mode": {
    "name": "ipython",
    "version": 3
   },
   "file_extension": ".py",
   "mimetype": "text/x-python",
   "name": "python",
   "nbconvert_exporter": "python",
   "pygments_lexer": "ipython3",
   "version": "3.11.8"
  }
 },
 "nbformat": 4,
 "nbformat_minor": 4
}

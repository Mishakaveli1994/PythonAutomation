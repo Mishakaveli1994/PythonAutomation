{
 "cells": [
  {
   "cell_type": "code",
   "execution_count": null,
   "metadata": {
    "editable": true,
    "slideshow": {
     "slide_type": "skip"
    },
    "tags": []
   },
   "outputs": [],
   "source": [
    "%%HTML\n",
    "<style>\n",
    "div.heading{\n",
    "    padding: 0 10%;\n",
    "    text-align:center;\n",
    "    }\n",
    "\n",
    "p.text{\n",
    "    text-align:center;\n",
    "    padding: 0 10%;\n",
    "\n",
    "}\n",
    "</style>"
   ]
  },
  {
   "cell_type": "markdown",
   "metadata": {
    "editable": true,
    "slideshow": {
     "slide_type": "slide"
    },
    "tags": []
   },
   "source": [
    "# <p class=\"text\">Python for Automation - Lesson 3</p> "
   ]
  },
  {
   "cell_type": "markdown",
   "metadata": {
    "editable": true,
    "slideshow": {
     "slide_type": "slide"
    },
    "tags": []
   },
   "source": [
    "<div class=\"heading\">\n",
    "    <ul style=\"list-style-type:none\">\n",
    "        <li><b>Lesson 4 Structure:</b></li>\n",
    "        <li>For Loop</li>\n",
    "        <li>While Loop</li>\n",
    "        <li>Enumeration</li>\n",
    "        <li>Slicing</li>\n",
    "        <li>Comparison, flow control and identity</li>\n",
    "    </ul>\n",
    "</div>"
   ]
  },
  {
   "cell_type": "markdown",
   "metadata": {},
   "source": [
    "## <p class=\"text\">Loops</p>\n",
    "\n",
    "<p class=\"text\"><code>for</code> loops are used when you have a block of code which you want to repeat a fixed number of times. The for-loop is always used in combination with an iterable object, like a list or a range. The Python for statement iterates over the members of a sequence in order, executing the block each time. Contrast the for statement with the <code>while</code>code> loop, used when a condition needs to be checked each iteration or to repeat a block of code forever. "
   ]
  },
  {
   "cell_type": "markdown",
   "metadata": {
    "editable": true,
    "slideshow": {
     "slide_type": "slide"
    },
    "tags": []
   },
   "source": [
    "### <p class=\"text\">Iteration</p>"
   ]
  },
  {
   "cell_type": "markdown",
   "metadata": {
    "editable": true,
    "slideshow": {
     "slide_type": "subslide"
    },
    "tags": []
   },
   "source": [
    "<p class=\"text\">An iterator is an object that contains a countable number of values, it is an object that can be iterated upon, meaning that you can traverse through all the values - this is what we call <code>iteration</code>. Everyone of the basic Python data collections and extended ones should have implemented iteration.</p>"
   ]
  },
  {
   "cell_type": "markdown",
   "metadata": {
    "editable": true,
    "slideshow": {
     "slide_type": "slide"
    },
    "tags": []
   },
   "source": [
    "### <p class=\"text\">For Loop - iterate over Lists and Tuples</p>"
   ]
  },
  {
   "cell_type": "markdown",
   "metadata": {},
   "source": [
    "<p class=\"text\">As lists and tuples use indexes on the backend (the location of an object in a list or tuple), we can iterate in one of 2 ways:</p>"
   ]
  },
  {
   "cell_type": "markdown",
   "metadata": {},
   "source": [
    "#### <p class=\"text\">By Index</p>\n",
    "<p class=\"text\">We usually use the <code>range()</code> function. It takes 3 parameters: <code>start</code>, <code>stop</code> and <code>step</code></p>"
   ]
  },
  {
   "cell_type": "code",
   "execution_count": null,
   "metadata": {
    "editable": true,
    "scrolled": true,
    "slideshow": {
     "slide_type": "fragment"
    },
    "tags": []
   },
   "outputs": [],
   "source": [
    "# By index\n",
    "list_example = [1, 2.5, \"hello\", True]\n",
    "\n",
    "# Here we find the length of the list with the len(function) and iterate through all indexes, by accessing the value from the list\n",
    "for idx in range(len(list_example)): # This is shorthand syntax for range(0, list length, 1)\n",
    "    print(list_example[idx])"
   ]
  },
  {
   "cell_type": "code",
   "execution_count": null,
   "metadata": {},
   "outputs": [],
   "source": [
    "# Tuple indexing works in the same fashion\n",
    "tuple_example = ('a', 'b', 'c', 'd')\n",
    "\n",
    "for idx in range(len(tuple_example)):\n",
    "    print(tuple_example[idx])"
   ]
  },
  {
   "cell_type": "markdown",
   "metadata": {},
   "source": [
    "<p class=\"text\">If you go out of bounds, meaning you try to retrieve an index greater than the collection length, you will get a <code>IndexError</code></p>"
   ]
  },
  {
   "cell_type": "code",
   "execution_count": null,
   "metadata": {
    "scrolled": true
   },
   "outputs": [],
   "source": [
    "# Go out of bounds\n",
    "list_example = [1, 2.5, \"hello\", True]\n",
    "\n",
    "# Here we try to get a value greater than the length of the list\n",
    "for idx in range(len(list_example) + 1):\n",
    "    print(list_example[idx])"
   ]
  },
  {
   "cell_type": "code",
   "execution_count": null,
   "metadata": {},
   "outputs": [],
   "source": [
    "# In python, you can also get elements from the right side (end) of lists and tuples if you use negative integers\n",
    "list_example = [1, 2.5, \"hello\", True]\n",
    "\n",
    "# Here we find the length of the list with the len(function) and iterate through all indexes, by accessing the value from the list\n",
    "# This approach can be useful if you try to print a collection in reverse\n",
    "for idx in range(len(list_example)):\n",
    "    print(list_example[-(idx + 1)])"
   ]
  },
  {
   "cell_type": "markdown",
   "metadata": {},
   "source": [
    "#### <p class=\"text\">By Value</p>"
   ]
  },
  {
   "cell_type": "markdown",
   "metadata": {},
   "source": [
    "<p class=\"text\">The second way to iterate over tuples and lists is by directly getting their values in a loop - Python automatically will use <code>len()</code> to determine the collection length and will automatically retrieve the value via the generated index, saving it in the iteration variable. It's a quicker way to get the same result as the above method, without needind to take care of the indexing.</p>"
   ]
  },
  {
   "cell_type": "code",
   "execution_count": null,
   "metadata": {},
   "outputs": [],
   "source": [
    "# Iterate via value\n",
    "list_example = [1, 2.5, \"hello\", True]\n",
    "\n",
    "for value in list_example:\n",
    "    print(value)"
   ]
  },
  {
   "cell_type": "markdown",
   "metadata": {},
   "source": [
    "<p class=\"text\"><code>NOTE:</code>As lists are mutable, they can be changed if used in a loop - this is called inplace change (we change the original list) and can have unforseen consequences. It is okay to change values, but try to avoid adding or removing values, as this can be unpredictable!</p>"
   ]
  },
  {
   "cell_type": "code",
   "execution_count": null,
   "metadata": {},
   "outputs": [],
   "source": [
    "# Iterate via index, but remove a value\n",
    "list_example = [1, 2.5, \"hello\", True]\n",
    "\n",
    "for idx in range(len(list_example)):\n",
    "    print(f\"Current index: {idx}, Current value: {list_example[idx]}\")\n",
    "    list_example.pop(1) # We mutate the list in place"
   ]
  },
  {
   "cell_type": "markdown",
   "metadata": {},
   "source": [
    "#### <p class=\"text\">A few useful methods when iterating lists or tuples</p>"
   ]
  },
  {
   "cell_type": "code",
   "execution_count": null,
   "metadata": {},
   "outputs": [],
   "source": [
    "# Print a list or tuple in reverse\n",
    "list_example = [1, 2.5, \"hello\", True]\n",
    "\n",
    "for idx in range(len(list_example)-1 , -1 , -1): # We remove -1 from the list length, as indexes in Python start from 0 - meaning the actual size in length - 1\n",
    "    print(list_example[idx])"
   ]
  },
  {
   "cell_type": "code",
   "execution_count": null,
   "metadata": {},
   "outputs": [],
   "source": [
    "# Print every n-th element\n",
    "list_example = [1, 2.5, \"hello\", True]\n",
    "\n",
    "for idx in range(0, len(list_example), 2): # We give it a step of 2 in this example, meaning it will iterate out every second element\n",
    "    print(list_example[idx])"
   ]
  },
  {
   "cell_type": "code",
   "execution_count": null,
   "metadata": {},
   "outputs": [],
   "source": [
    "# If you are not interested in the value of a loop variable, you can specify it with _, can also be done for standard variables\n",
    "list_example = [1, 2.5, \"hello\", True]\n",
    "\n",
    "for _ in list_example:\n",
    "    print('Something')"
   ]
  },
  {
   "cell_type": "markdown",
   "metadata": {},
   "source": [
    "### <p class=\"text\">For Loop - iterate over Dictionaries</p>"
   ]
  },
  {
   "cell_type": "markdown",
   "metadata": {},
   "source": [
    "<p class=\"text\">Dictionaries have a similar way of iterating, though as they are not indexed, you should not try to use indexing to iterate over a list. They have 3 methods that you can use for iteration: <code>keys()</code>, <code>values()</code> and <code>items()</code></p>"
   ]
  },
  {
   "cell_type": "code",
   "execution_count": null,
   "metadata": {},
   "outputs": [],
   "source": [
    "# If you try to iterate over a dictionary as you would a list or tuple, it will automatically use the .keys() and loop over all keys of the dictionary\n",
    "dict_example = {1:'a', 2:'b', 3:'c', 4:'d'}\n",
    "\n",
    "for key in dict_example: # this is equivalent to 'for key in dict_example.keys()'\n",
    "    print(key)"
   ]
  },
  {
   "cell_type": "code",
   "execution_count": null,
   "metadata": {},
   "outputs": [],
   "source": [
    "# The second way is to iterate over the dictionary's values\n",
    "dict_example = {1:'a', 2:'b', 3:'c', 4:'d'}\n",
    "\n",
    "for value in dict_example.values(): # this is equivalent to 'for key in dict_example.keys()'\n",
    "    print(value)"
   ]
  },
  {
   "cell_type": "code",
   "execution_count": null,
   "metadata": {},
   "outputs": [],
   "source": [
    "# Last, but not least - we can iterate over all items, this will return 2 iteration values - the key and the value\n",
    "\n",
    "dict_example = {1:'a', 2:'b', 3:'c', 4:'d'}\n",
    "\n",
    "for key, value in dict_example.items(): # this is equivalent to 'for key in dict_example.keys()'\n",
    "    print(f\"The current key-value pair is {key}:{value}\")"
   ]
  },
  {
   "cell_type": "markdown",
   "metadata": {},
   "source": [
    "### <p class=\"text\">While loop</p>"
   ]
  },
  {
   "cell_type": "code",
   "execution_count": null,
   "metadata": {},
   "outputs": [],
   "source": [
    "# As the name suggests, while loops are infinite by design, meaning they will never stop if there is no condition to stop it\n",
    "\n",
    "# DO NOT DO THIS \n",
    "while True:\n",
    "    print('true')\n",
    "\n",
    "# This will run forever, as there is no option or condition to stop it"
   ]
  },
  {
   "cell_type": "code",
   "execution_count": null,
   "metadata": {},
   "outputs": [],
   "source": [
    "# Stop by watching a value\n",
    "val = 0\n",
    "\n",
    "while val < 5: # We have a check here, that will stop the loop when the variable val reaches a value greater or equal to 5\n",
    "    print(val)\n",
    "    val += 1"
   ]
  },
  {
   "cell_type": "markdown",
   "metadata": {},
   "source": [
    "### <p class=\"text\">Loop control flow</p>\n",
    "<p class=\"text\">There are 2 methods specifically implemented for loops, that can control it's flow of execution: those are the <code>continue</code> and <code>break</code> statements.</p>"
   ]
  },
  {
   "cell_type": "markdown",
   "metadata": {},
   "source": [
    "#### <p class=\"text\">continue</p>\n",
    "<p class=\"text\">The continue statement directs the loop to stop further processing of the current iteration and continue with the next one.</p>"
   ]
  },
  {
   "cell_type": "code",
   "execution_count": null,
   "metadata": {},
   "outputs": [],
   "source": [
    "# Here we will skip a print, as we have a condition that if matched, will skip further processing\n",
    "l = [1, 2, 3, 4]\n",
    "\n",
    "for i in l:\n",
    "    if i == 3:\n",
    "        continue\n",
    "    print(i)"
   ]
  },
  {
   "cell_type": "markdown",
   "metadata": {},
   "source": [
    "#### <p class=\"text\">break</p>\n",
    "<p class=\"text\">The break statement \"breaks out\" of the loop, stopping any further iterations from executing.</p>"
   ]
  },
  {
   "cell_type": "code",
   "execution_count": null,
   "metadata": {},
   "outputs": [],
   "source": [
    "# Here we will skip all prints after the value 3 comes around, as we set a break statement\n",
    "l = [1, 2, 3, 4, 5, 6]\n",
    "\n",
    "for i in l:\n",
    "    print(i)\n",
    "    if i == 3:\n",
    "        break"
   ]
  },
  {
   "cell_type": "code",
   "execution_count": null,
   "metadata": {},
   "outputs": [],
   "source": [
    "# Stop a while loop by using break\n",
    "val = 0\n",
    "\n",
    "while True: # We have a check here, that will break the loop when the variable val reaches a value greater or equal to 5\n",
    "    print(val)\n",
    "    val += 1\n",
    "    if val == 5:\n",
    "        break"
   ]
  },
  {
   "cell_type": "markdown",
   "metadata": {},
   "source": [
    "### <p class=\"text\">Enumeration</p>\n",
    "<p class=\"text\">While looping a collection via values, we might want to also get the current iteration of the loop, we can do this with <code>enumerate</code></p>"
   ]
  },
  {
   "cell_type": "code",
   "execution_count": null,
   "metadata": {},
   "outputs": [],
   "source": [
    "l = ['a', 'b', 'c', 'd']\n",
    "\n",
    "for idx, value in enumerate(l): # Important - this does not per-se return the index of the collection, it's just the number of iterations the loop is performing\n",
    "    print(f\"Current iteration is {idx}, and the value is: {value}\")"
   ]
  },
  {
   "cell_type": "markdown",
   "metadata": {},
   "source": [
    "### <p class=\"text\">Slicing</p>\n",
    "<p class=\"text\">Slicing is the extraction of a part of a string, list, or tuple. It enables users to access the specific range of elements by mentioning their indices. </p>"
   ]
  },
  {
   "cell_type": "code",
   "execution_count": null,
   "metadata": {},
   "outputs": [],
   "source": [
    "# In Python, strings are evaluated as a list of characters, you can imagine the string \"Hello\" like [\"H\", \"e\", \"l\", \"l\", \"o\"]\n",
    "# With slicing, we can take only a part of either strings, lists or tuples\n",
    "example_string = \"Hello World\"\n",
    "example_list = [\"H\", \"e\", \"l\", \"l\", \"o\", \" \", \"W\", \"o\", \"r\", \"l\", \"d\"]\n",
    "example_tuple = (\"H\", \"e\", \"l\", \"l\", \"o\", \" \", \"W\", \"o\", \"r\", \"l\", \"d\")\n",
    "\n",
    "print(example_string[0:5]) # will be automatically joined\n",
    "print(example_list[0:5])\n",
    "print(example_tuple[0:5])"
   ]
  },
  {
   "cell_type": "code",
   "execution_count": null,
   "metadata": {},
   "outputs": [],
   "source": [
    "# Slicing has 3 parameters: start, end and step (same as range).\n",
    "\n",
    "# Print the first 5 elements\n",
    "print(example_list[0:5])\n",
    "\n",
    "# Print the last 5 elements\n",
    "print(example_list[-5:])\n",
    "\n",
    "# Print every second element\n",
    "print(example_list[::2])\n",
    "\n",
    "# Print in reverse (simpler than iteration)\n",
    "print(example_list[::-1])"
   ]
  },
  {
   "cell_type": "markdown",
   "metadata": {},
   "source": [
    "### <p class=\"text\">Comparison, logical operators and flow control statements</p>\n",
    "<p class=\"text\">It is fairly common for a programmer to do a specific action if a certain condition is met, we usually do that, you guessed it - with comparisons</p>"
   ]
  },
  {
   "cell_type": "code",
   "execution_count": null,
   "metadata": {},
   "outputs": [],
   "source": [
    "# Equality operator: ==\n",
    "\n",
    "value = 3\n",
    "true_comparison_value = 3\n",
    "false_comparison_value = 5\n",
    "\n",
    "print(f\"Is the value {value} equal to {true_comparison_value}: {value == true_comparison_value}\")\n",
    "print(f\"Is the value {value} equal to {false_comparison_value}: {value == false_comparison_value}\")"
   ]
  },
  {
   "cell_type": "code",
   "execution_count": null,
   "metadata": {},
   "outputs": [],
   "source": [
    "# Difference operator: !=\n",
    "\n",
    "value = 3\n",
    "true_comparison_value = 3\n",
    "false_comparison_value = 5\n",
    "\n",
    "print(f\"Is the value {value} different than {true_comparison_value}: {value != true_comparison_value}\")\n",
    "print(f\"Is the value {value} different than {false_comparison_value}: {value != false_comparison_value}\")"
   ]
  },
  {
   "cell_type": "code",
   "execution_count": null,
   "metadata": {},
   "outputs": [],
   "source": [
    "# Greater than: >\n",
    "val1 = 3\n",
    "val2 = 5\n",
    "\n",
    "print(f\"Is {val1} greater than {val2}: {val1>val2}\")"
   ]
  },
  {
   "cell_type": "code",
   "execution_count": null,
   "metadata": {},
   "outputs": [],
   "source": [
    "# Lesser than: <\n",
    "val1 = 3\n",
    "val2 = 5\n",
    "\n",
    "print(f\"Is {val1} lesser than {val2}: {val1<val2}\")"
   ]
  },
  {
   "cell_type": "code",
   "execution_count": null,
   "metadata": {},
   "outputs": [],
   "source": [
    "# Greater than or equal to: >=\n",
    "val1 = 3\n",
    "val2 = 5\n",
    "\n",
    "print(f\"Is {val1} greater than or equal to {val2}: {val1>=val2}\")"
   ]
  },
  {
   "cell_type": "code",
   "execution_count": null,
   "metadata": {},
   "outputs": [],
   "source": [
    "# Lesser than or equal to: <=\n",
    "val1 = 3\n",
    "val2 = 5\n",
    "\n",
    "print(f\"Is {val1} lesser than or equal to {val2}: {val1<val2}\")"
   ]
  },
  {
   "cell_type": "code",
   "execution_count": null,
   "metadata": {},
   "outputs": [],
   "source": [
    "# Be mindful of different data types when comparing\n",
    "\n",
    "print(3 == \"3\") # Completely different types\n",
    "print(3 == 3.0) # Similar types, Python will try to convert one of the values, in this case the integer, still try to use only same types of data"
   ]
  },
  {
   "cell_type": "markdown",
   "metadata": {},
   "source": [
    "#### <p class=\"text\">Python flow control statements: <code>if</code>, <code>elif</code> and <code>else</code></p>"
   ]
  },
  {
   "cell_type": "code",
   "execution_count": null,
   "metadata": {},
   "outputs": [],
   "source": [
    "# The if statement is used when you want some block of code to be executed if a certain condition is met\n",
    "value = 3\n",
    "value2 = 6\n",
    "\n",
    "if value == 3:\n",
    "    print('Equal')\n",
    "else:\n",
    "    print('Not equal')\n",
    "\n",
    "if value2 == 3:\n",
    "    print('Equal')\n",
    "else:\n",
    "    print('Not equal')"
   ]
  },
  {
   "cell_type": "code",
   "execution_count": null,
   "metadata": {},
   "outputs": [],
   "source": [
    "# The elif statement is used if we want to make more than 1 chained conditional statement, the execution will stop at first match\n",
    "\n",
    "value = 10\n",
    "\n",
    "if value == 5:\n",
    "    print('Equal to 5')\n",
    "elif value % 2 == 0:\n",
    "    print(\"Divisible to 2\") # We stop here as this is the first match\n",
    "elif value % 5 == 0:\n",
    "    print(\"Divisible to 5\")"
   ]
  },
  {
   "cell_type": "code",
   "execution_count": null,
   "metadata": {},
   "outputs": [],
   "source": [
    "# The else statement is triggered in our if-else block if none of the other conditions match\n",
    "\n",
    "value = 11\n",
    "\n",
    "if value == 5:\n",
    "    print('Equal to 5')\n",
    "elif value % 2 == 0:\n",
    "    print(\"Divisible to 2\")\n",
    "elif value % 5 == 0:\n",
    "    print(\"Divisible to 5\")\n",
    "else:\n",
    "    print(\"Unknown\")"
   ]
  },
  {
   "cell_type": "markdown",
   "metadata": {},
   "source": [
    "<p class=\"text\">We also have 3 logical operators we can use: <code>and</code>, <code>or</code> and <code>not</code> for extended control of conditions.</p>"
   ]
  },
  {
   "cell_type": "code",
   "execution_count": null,
   "metadata": {},
   "outputs": [],
   "source": [
    "# If we want to have multiple conditions, we can use the and operator\n",
    "\n",
    "for val in range(11):\n",
    "    if val % 2 == 0 and val % 5 == 0:\n",
    "        print(val)"
   ]
  },
  {
   "cell_type": "code",
   "execution_count": null,
   "metadata": {},
   "outputs": [],
   "source": [
    "# If we have a OR condition (can be either A or B), we can use the or operator\n",
    "for val in range(11):\n",
    "    if val % 2 == 0 or val % 5 == 0:\n",
    "        print(val)"
   ]
  },
  {
   "cell_type": "code",
   "execution_count": null,
   "metadata": {},
   "outputs": [],
   "source": [
    "# If we want to apply a action if a condition is not in place, we can use not (also used to flip boolean values)\n",
    "\n",
    "for val in range(11):\n",
    "    if not val % 2 == 0:\n",
    "        print(val)"
   ]
  },
  {
   "cell_type": "markdown",
   "metadata": {},
   "source": [
    "#### <p class=\"text\">Python identity operators: <code>is</code> and <code>is not</code></p>\n",
    "\n",
    "<p class=\"text\">This is used if you want to compare if 2 variables are pointing in the same object in memory, while <code>==</code> compares by values.</p>"
   ]
  },
  {
   "cell_type": "code",
   "execution_count": null,
   "metadata": {},
   "outputs": [],
   "source": [
    "# If we try to compare 2 lists, with the same values, this will return false\n",
    "l1 = [1,2,3]\n",
    "l2 = [1,2,3]\n",
    "\n",
    "print(f\"Does list {l1} match {l2} by values: {l1 == l2}\")\n",
    "print(f\"Do both list {l1} and {l2} point to the same list in memory: {l1 is l2}\\nMemory Addresses: l1: {hex(id(l1))} and l2: {hex(id(l2))}\")"
   ]
  },
  {
   "cell_type": "code",
   "execution_count": null,
   "metadata": {},
   "outputs": [],
   "source": [
    "# is not does the opposite\n",
    "l1 = [1,2,3]\n",
    "l2 = [1,2,3]\n",
    "\n",
    "print(f\"Does list {l1} match {l2} by values: {l1 == l2}\")\n",
    "print(f\"Are list {l1} and {l2} point different in memory: {l1 is l2}\\nMemory Addresses: l1: {hex(id(l1))} and not l2: {hex(id(l2))}\")"
   ]
  },
  {
   "cell_type": "code",
   "execution_count": null,
   "metadata": {},
   "outputs": [],
   "source": [
    "# Do not compare values with booleans or None via ==, use 'is'\n",
    "\n",
    "print(condition == True) # avoid this, even though it returns the same result\n",
    "print(condition is True) # use this, as True is a global variable"
   ]
  },
  {
   "cell_type": "code",
   "execution_count": null,
   "metadata": {},
   "outputs": [],
   "source": [
    "# BONUS: effective check if a variable is empty\n",
    "\n",
    "value = True\n",
    "\n",
    "if value == True: # Don't use this\n",
    "    print('Value is True')\n",
    "\n",
    "if value is True: # Don't use this\n",
    "    print('Value is True')\n",
    "\n",
    "if value: # Use this, this will resolve False for empty collections or None values\n",
    "    print('Value is True')\n",
    "\n",
    "populated_list = [1, 2, 3]\n",
    "empty_list = []\n",
    "\n",
    "for l in [populated_list, empty_list]: # Empty collections return False\n",
    "    if l:\n",
    "        print(\"List not empty\")\n",
    "    else:\n",
    "        print('Empty list')"
   ]
  },
  {
   "cell_type": "code",
   "execution_count": null,
   "metadata": {},
   "outputs": [],
   "source": [
    "# BONUS: Ternary operators - these are used for shorthanding simple if/else statements\n",
    "\n",
    "value = 5\n",
    "\n",
    "number_in_letters = \"Five\" if value == 5 else \"Not Five\"\n",
    "\n",
    "print(number_in_letters)"
   ]
  },
  {
   "cell_type": "markdown",
   "metadata": {
    "editable": true,
    "slideshow": {
     "slide_type": "slide"
    },
    "tags": []
   },
   "source": [
    "# <p class=\"text\">Thank you for your time!</p>"
   ]
  }
 ],
 "metadata": {
  "kernelspec": {
   "display_name": "Python 3 (ipykernel)",
   "language": "python",
   "name": "python3"
  },
  "language_info": {
   "codemirror_mode": {
    "name": "ipython",
    "version": 3
   },
   "file_extension": ".py",
   "mimetype": "text/x-python",
   "name": "python",
   "nbconvert_exporter": "python",
   "pygments_lexer": "ipython3",
   "version": "3.11.8"
  }
 },
 "nbformat": 4,
 "nbformat_minor": 4
}

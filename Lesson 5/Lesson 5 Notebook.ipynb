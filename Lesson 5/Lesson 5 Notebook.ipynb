{
 "cells": [
  {
   "cell_type": "code",
   "execution_count": null,
   "metadata": {
    "editable": true,
    "slideshow": {
     "slide_type": "skip"
    },
    "tags": []
   },
   "outputs": [],
   "source": [
    "%%HTML\n",
    "<style>\n",
    "div.heading{\n",
    "    padding: 0 10%;\n",
    "    text-align:center;\n",
    "    }\n",
    "\n",
    "p.text{\n",
    "    text-align:center;\n",
    "    padding: 0 10%;\n",
    "\n",
    "}\n",
    "</style>"
   ]
  },
  {
   "cell_type": "markdown",
   "metadata": {
    "editable": true,
    "slideshow": {
     "slide_type": "slide"
    },
    "tags": []
   },
   "source": [
    "# <p class=\"text\">Python for Automation - Lesson 5</p> "
   ]
  },
  {
   "cell_type": "markdown",
   "metadata": {
    "editable": true,
    "slideshow": {
     "slide_type": "slide"
    },
    "tags": []
   },
   "source": [
    "<div class=\"heading\">\n",
    "    <ul style=\"list-style-type:none\">\n",
    "        <li><b>Lesson 5 Structure:</b></li>\n",
    "        <li>List Comprehension</li>\n",
    "        <li>Flatten List</li>\n",
    "        <li>Dict Comprehension</li>\n",
    "        <li>Anonymous functions</li>\n",
    "        <li>Map</li>\n",
    "        <li>Filter</li>\n",
    "        <li>Sorted</li>\n",
    "        <li>Zip</li>\n",
    "    </ul>\n",
    "</div>"
   ]
  },
  {
   "cell_type": "markdown",
   "metadata": {},
   "source": [
    "## <p class=\"text\">List Comprehension</p>\n",
    "\n",
    "<p class=\"text\"><code>List comprehension</code> is an easy to read, compact, and elegant way of creating a list from any existing iterable object. Basically, it's a simpler way to create a new list from the values in a list you already have. It is generally a single line of code enclosed in square brackets.</p> "
   ]
  },
  {
   "cell_type": "code",
   "execution_count": null,
   "metadata": {},
   "outputs": [],
   "source": [
    "# Basic list comprehension\n",
    "\n",
    "l = [num for num in range(10)]\n",
    "print(l)"
   ]
  },
  {
   "cell_type": "markdown",
   "metadata": {},
   "source": [
    "<p class=\"text\">Generally most people believe it's only syntactic sugar on to of a for loop, but it actually can provide faster results when creating a list via comprehension and also in most cases where there isn't complex logic invloved, it's faster and looks cleaner in code</p>"
   ]
  },
  {
   "cell_type": "code",
   "execution_count": null,
   "metadata": {},
   "outputs": [],
   "source": [
    "from functools import wraps\n",
    "import time\n",
    "\n",
    "\n",
    "def timeit(func):\n",
    "    @wraps(func)\n",
    "    def timeit_wrapper(*args, **kwargs):\n",
    "        start_time = time.perf_counter()\n",
    "        result = func(*args, **kwargs)\n",
    "        end_time = time.perf_counter()\n",
    "        total_time = end_time - start_time\n",
    "        print(f'Function {func.__name__} took {total_time:.4f} seconds')\n",
    "        return result\n",
    "    return timeit_wrapper"
   ]
  },
  {
   "cell_type": "code",
   "execution_count": null,
   "metadata": {},
   "outputs": [],
   "source": [
    "@timeit\n",
    "def create_list_via_loop(r: int):\n",
    "    l = []\n",
    "    for i in range(r):\n",
    "        l.append(i)"
   ]
  },
  {
   "cell_type": "code",
   "execution_count": null,
   "metadata": {},
   "outputs": [],
   "source": [
    "@timeit\n",
    "def create_list_comprehension(r: int):\n",
    "    l = [i for i in range(r)]"
   ]
  },
  {
   "cell_type": "code",
   "execution_count": null,
   "metadata": {},
   "outputs": [],
   "source": [
    "elements = 10000\n",
    "for idx in range(4):\n",
    "    print(\"#\" * 60)\n",
    "    print(elements, \"elements\")\n",
    "    create_list_via_loop(elements)\n",
    "    create_list_comprehension(elements)\n",
    "    elements *= 10"
   ]
  },
  {
   "cell_type": "markdown",
   "metadata": {},
   "source": [
    "<p class=\"text\">It can also be used to change lists by using some logic and returning a new list in a effective manner</p>"
   ]
  },
  {
   "cell_type": "code",
   "execution_count": null,
   "metadata": {},
   "outputs": [],
   "source": [
    "old_l = [i for i in range(20)]\n",
    "old_l"
   ]
  },
  {
   "cell_type": "code",
   "execution_count": null,
   "metadata": {},
   "outputs": [],
   "source": [
    "# Multiply everything by 2\n",
    "mul_l = [i * 2 for i in old_l]\n",
    "mul_l"
   ]
  },
  {
   "cell_type": "markdown",
   "metadata": {},
   "source": [
    "<p class=\"text\">Or to filter values via some condition</p>"
   ]
  },
  {
   "cell_type": "code",
   "execution_count": null,
   "metadata": {},
   "outputs": [],
   "source": [
    "# Return only even numbers, by adding a if statement at the end\n",
    "even_l = [i for i in old_l if i % 2 == 0]\n",
    "even_l"
   ]
  },
  {
   "cell_type": "markdown",
   "metadata": {},
   "source": [
    "<p class=\"text\">You can also nest list comprehensions, but use this approach sparingly, as it can easily overcomplicate the code or make it borderline unreadable.</p>"
   ]
  },
  {
   "cell_type": "code",
   "execution_count": null,
   "metadata": {},
   "outputs": [],
   "source": [
    "# This is the proper way to use a nested comprehension, for easy operations like creating a matrix\n",
    "[[j for j in range(5)] for i in range(5)]"
   ]
  },
  {
   "cell_type": "code",
   "execution_count": null,
   "metadata": {},
   "outputs": [],
   "source": [
    "# Or something like this, though it might be considered less readable than if written with a for loop\n",
    "matrix = [[1, 2, 3], [4, 5, 6], [7, 8, 9]]\n",
    "\n",
    "[[el for el in row if el % 2 == 0] for row in matrix]"
   ]
  },
  {
   "cell_type": "code",
   "execution_count": null,
   "metadata": {},
   "outputs": [],
   "source": [
    "# This is a unnapropriate way to use nested comprehension, if it gets too unreadable, just use a for loop - as it can be a lot more verbose\n",
    "matrix = [['Okay', 'Not Okay', 'Bad'], ['Good', 'Bad', 'Okay'], [\n",
    "    'Not Okay', 'Bad', 'Good', 'Very Good'], ['Critical', 'Okay', 'Good']]\n",
    "\n",
    "[[el for el in row if 'Bad' in row] for row in matrix if len(row) == 3]"
   ]
  },
  {
   "cell_type": "markdown",
   "metadata": {},
   "source": [
    "## <p class=\"text\">Flatten List</p>\n",
    "\n",
    "<p class=\"text\">Sometimes, when you’re working with data, you may have the data as a list of nested lists. A common operation is to flatten this data into a one-dimensional list in Python. Flattening a list involves converting a multidimensional list, such as a matrix, into a one-dimensional list.</p>"
   ]
  },
  {
   "cell_type": "code",
   "execution_count": null,
   "metadata": {},
   "outputs": [],
   "source": [
    "#  Done with a for loop\n",
    "m = [[1, 2, 3], [4, 5, 6], [7, 8, 9]]\n",
    "\n",
    "\n",
    "def flatten_extend(matrix):\n",
    "    flat_list = []\n",
    "    for row in matrix:\n",
    "        flat_list.extend(row)\n",
    "    return flat_list\n",
    "\n",
    "\n",
    "flattened_list = flatten_extend(m)\n",
    "print(flattened_list)"
   ]
  },
  {
   "cell_type": "code",
   "execution_count": null,
   "metadata": {},
   "outputs": [],
   "source": [
    "# Done with comprehension, unfortunately, can be confusing\n",
    "m = [[1, 2, 3], [4, 5, 6], [7, 8, 9]]\n",
    "\n",
    "flattened_list = [element for row in m for element in row]\n",
    "print(flattened_list)"
   ]
  },
  {
   "cell_type": "markdown",
   "metadata": {},
   "source": [
    "## <p class=\"text\">Dictionary Comprehension</p>\n",
    "\n",
    "<p class=\"text\"><code>Dictionary comprehension</code> works almost the same as a list comprehension - it's a tool that we can use to effectively create, change or filter dictionaries.</p> "
   ]
  },
  {
   "cell_type": "code",
   "execution_count": null,
   "metadata": {},
   "outputs": [],
   "source": [
    "# This is how we can create a dictionary from unpacking a list for example\n",
    "l = [[1, 'one'], [2, 'two'], [3, 'three']]\n",
    "\n",
    "d = {i[0]: i[1] for i in l}\n",
    "print(d)"
   ]
  },
  {
   "cell_type": "code",
   "execution_count": null,
   "metadata": {},
   "outputs": [],
   "source": [
    "# Add one to each value\n",
    "d = {'first': 1, 'second': 2, 'third': 3}\n",
    "\n",
    "d = {k: v + 1 for k, v in d.items()}\n",
    "d"
   ]
  },
  {
   "cell_type": "code",
   "execution_count": null,
   "metadata": {},
   "outputs": [],
   "source": [
    "d = {'first': 1, 'second': 2, 'third': 3}\n",
    "\n",
    "filtered = {k: v for k, v in d.items() if k != 'second'}\n",
    "filtered"
   ]
  },
  {
   "cell_type": "markdown",
   "metadata": {},
   "source": [
    "<p class=\"text\">An important note is that both list and dictionary (dict) comprehensions return new lists, they DO NOT change the original object in-place.</p> "
   ]
  },
  {
   "cell_type": "markdown",
   "metadata": {},
   "source": [
    "## <p class=\"text\">Anonymous (lambda) Functions</p>\n",
    "\n",
    "<p class=\"text\">The Python lambda (anonymous) function is a no-name function declared in a single line. It can have only one expression and is used when a short-term function is required. It is defined using the lambda keyword and is similar to a regular function (defined by using the def keyword). Here is the example syntax:\n",
    "<code>lambda parameter(s) : expression</code></p> "
   ]
  },
  {
   "cell_type": "code",
   "execution_count": null,
   "metadata": {},
   "outputs": [],
   "source": [
    "# First way to initialize\n",
    "\n",
    "def add_numbers(a, b): return a + b\n",
    "\n",
    "\n",
    "print(add_numbers(2, 3))"
   ]
  },
  {
   "cell_type": "code",
   "execution_count": null,
   "metadata": {},
   "outputs": [],
   "source": [
    "# Another way to do it\n",
    "(lambda a, b: a + b)(2, 3)"
   ]
  },
  {
   "cell_type": "markdown",
   "metadata": {},
   "source": [
    "| LAMBDA FUNCTIONS  | REGULAR FUNCTIONS  |\n",
    "|---|---|\n",
    "| Defined using the lambda keyword  |  Defined using the def keyword |\n",
    "|Can be written in one line|Requires more than one line of code|\n",
    "|No return statement required\t|\tReturn statement must be defined when returning values|\n",
    "|Can be used anonymously\t\t|\tRegular functions must be given a name|"
   ]
  },
  {
   "cell_type": "markdown",
   "metadata": {},
   "source": [
    "<p class=\"text\">The best advice that I can give is - only use lambda functions when you either need a one-off really simple function or when using it with operations like <code>filter</code>, <code>map</code>, <code>sorted</code> etc. as they usually are ran once and need only a simple logic to be executed. In every other case, or if you need to perform one of the above actions multiple times - use a standard function!</p> "
   ]
  },
  {
   "cell_type": "markdown",
   "metadata": {},
   "source": [
    "## <p class=\"text\">Map</p>\n",
    "<p class=\"text\">Python’s <code>map()</code> is a built-in function that allows you to process and transform all the items in an iterable without using an explicit for loop, a technique commonly known as mapping. map() is useful when you need to apply a transformation function to each item in an iterable and transform them into a new iterable. map() is one of the tools that support a functional programming style in Python</p>"
   ]
  },
  {
   "cell_type": "markdown",
   "metadata": {},
   "source": [
    "<p class=\"text\">map() loops over the items of an input iterable (or iterables) and returns an iterator that results from applying a transformation function to every item in the original input iterable.\n",
    "According to the documentation, map() takes a function object and an iterable (or multiple iterables) as arguments and returns an iterator that yields transformed items on demand.</p>"
   ]
  },
  {
   "cell_type": "markdown",
   "metadata": {},
   "source": [
    "<p class=\"text\">map() takes 2 arguments - first a function to execute over each element of the interable and secondly the actual iterable object.</p>"
   ]
  },
  {
   "cell_type": "code",
   "execution_count": null,
   "metadata": {},
   "outputs": [],
   "source": [
    "# We can use standard functions as parameters to map\n",
    "l = [1, 2, 3, 4, 5]\n",
    "\n",
    "\n",
    "def power_of_2(num):\n",
    "    return num ** 2\n",
    "\n",
    "\n",
    "pow_of_2_map = map(power_of_2, l)  # This returns a map object (iterator), that can be iterated to extract all values\n",
    "print(f\"pow_of_2_map is {pow_of_2_map}\")\n",
    "\n",
    "pow_of_2_list = list(pow_of_2_map)\n",
    "print(pow_of_2_list)"
   ]
  },
  {
   "cell_type": "code",
   "execution_count": null,
   "metadata": {},
   "outputs": [],
   "source": [
    "# The same can be done with a lambda function\n",
    "l = [1, 2, 3, 4, 5]\n",
    "\n",
    "pow_of_2_map = map(lambda x: x ** 2, l)\n",
    "print(f\"pow_of_2_map is {pow_of_2_map}\")\n",
    "\n",
    "pow_of_2_list = list(pow_of_2_map)\n",
    "print(pow_of_2_list)"
   ]
  },
  {
   "cell_type": "markdown",
   "metadata": {},
   "source": [
    "<p class=\"text\">You can use standard functions like <code>len</code>, <code>int</code>, <code>str</code> others also - they will be applied to each element of the iterable.</p>"
   ]
  },
  {
   "cell_type": "code",
   "execution_count": null,
   "metadata": {},
   "outputs": [],
   "source": [
    "# Another use would be to convert all string ints to actual integer values\n",
    "\n",
    "list_with_string_ints = ['1', '2', '3', '4', '5']\n",
    "list_with_ints = list(map(lambda x: int(x), list_with_string_ints))\n",
    "\n",
    "print(f\"list_with_string_ints: {list_with_string_ints}\")\n",
    "print(f\"list_with_ints: {list_with_ints}\")"
   ]
  },
  {
   "cell_type": "markdown",
   "metadata": {},
   "source": [
    "## <p class=\"text\">Filtered</p>\n",
    "<p class=\"text\">The <code>filter()</code> function returns an iterator where the items are filtered through a function to test if the item is accepted or not. It takes 2 arguments, function that is used for filtering - it should return one of 2 values - True or False and an iterable. Each element will be evaluated via that function and depending on the output of it, will either be added to the new object or not.</p>"
   ]
  },
  {
   "cell_type": "code",
   "execution_count": null,
   "metadata": {},
   "outputs": [],
   "source": [
    "# Filter only even numbers\n",
    "l = [i for i in range(1, 11)]\n",
    "print(f\"Original list = {l}\")\n",
    "# This returns a filter object (iterable), that we can iterate so we can get all filtered values\n",
    "fil = filter(lambda x: x % 2 == 0, l)\n",
    "print(f\"fil is {fil}\")\n",
    "filtered_list = list(fil)\n",
    "print(f\"filtered_list = {filtered_list}\")"
   ]
  },
  {
   "cell_type": "markdown",
   "metadata": {},
   "source": [
    "## <p class=\"text\">Sorted</p>\n",
    "<p class=\"text\">The <code>sorted()</code> function returns a sorted list of the specified iterable object. It can be used on lists, tuples, dictionaries and almost every kind of iterable. It's signature is the following: <code>sorted(iterable, key, reverse=False></code> <b>NOTE:</b> There is also a <code>.sort()</code> function available only for lists, that instead of creating a new sorted object, orders the list in-place.</p>"
   ]
  },
  {
   "cell_type": "code",
   "execution_count": null,
   "metadata": {},
   "outputs": [],
   "source": [
    "# Simple use of sorted for integers\n",
    "l_of_ints = [4, 3, 2, 5, 1]\n",
    "ordered_l_of_ints = sorted(l_of_ints)\n",
    "print(ordered_l_of_ints)"
   ]
  },
  {
   "cell_type": "code",
   "execution_count": null,
   "metadata": {},
   "outputs": [],
   "source": [
    "# Simple use of sorted for strings\n",
    "l_of_strings = ['D', 'd', 'A', 'b', 'z', 'a']\n",
    "ordered_l_of_strings = sorted(l_of_strings)\n",
    "print(ordered_l_of_strings)"
   ]
  },
  {
   "cell_type": "code",
   "execution_count": null,
   "metadata": {},
   "outputs": [],
   "source": [
    "# The above does not work, as strings are evaluated via the value of the letter in the ASCII table. The proper way to do it is the following\n",
    "\n",
    "l_of_strings = ['D', 'd', 'A', 'b', 'z', 'a']\n",
    "ordered_l_of_strings = sorted(l_of_strings, key=lambda x: x.lower())\n",
    "print(ordered_l_of_strings)"
   ]
  },
  {
   "cell_type": "code",
   "execution_count": null,
   "metadata": {},
   "outputs": [],
   "source": [
    "# Comparing a list with values that are uncomparable will not work\n",
    "l_of_ints = [4, 3, 2, 'c', 5, 1]\n",
    "ordered_l_of_ints = sorted(l_of_ints)\n",
    "print(ordered_l_of_ints)"
   ]
  },
  {
   "cell_type": "code",
   "execution_count": null,
   "metadata": {},
   "outputs": [],
   "source": [
    "# The reverse argument will flip the sorting from Ascending to Descending\n",
    "l_of_strings = ['D', 'd', 'A', 'b', 'z', 'a']\n",
    "ordered_l_of_strings = sorted(l_of_strings, key=lambda x: x.lower(), reverse=True)\n",
    "print(ordered_l_of_strings)"
   ]
  },
  {
   "cell_type": "code",
   "execution_count": null,
   "metadata": {},
   "outputs": [],
   "source": [
    "# Sorting a dict by a string value\n",
    "d = {4: 'Richard', 2: 'Alysson', 3: 'Beckett', 1: 'beckett'}\n",
    "\n",
    "print(f\"Standard sort, with no arguments: {d}\")\n",
    "\n",
    "sorted_dict = {key: value for key, value in sorted(d.items(), key=lambda x: x[1].lower())}\n",
    "print(f\"Sorted properly by name: {sorted_dict}\")\n",
    "\n",
    "# Also change the key based on the new values\n",
    "sorted_dict = {idx: kv[1] for idx, kv in enumerate(sorted(d.items(), key=lambda x: x[1].lower()), 1)}\n",
    "print(f\"Sorted properly by name and updated index: {sorted_dict}\")"
   ]
  },
  {
   "cell_type": "code",
   "execution_count": null,
   "metadata": {},
   "outputs": [],
   "source": [
    "# Advanced: Sorting by 2 values\n",
    "d = {'Georgi': [14, 16], 'Rosen': [14, 19], 'Petar': [12, 13], 'Ivan': [12, 15]}\n",
    "\n",
    "print(f\"Original dict: {d}\")\n",
    "\n",
    "# Here we sort based on the first value ASC and second ASC\n",
    "first_second_asc = {key: value for key, value in sorted(d.items(), key=lambda x: (x[1][0], x[1][1]))}\n",
    "print(f\"Sorted first ASC and second ASC: {first_second_asc}\")\n",
    "\n",
    "# Here we sort on first DESC and second DESC\n",
    "first_second_desc = {key: value for key, value in sorted(d.items(), key=lambda x: (-x[1][0], -x[1][1]))}\n",
    "print(f\"Sorted first DESC and second DESC: {first_second_desc}\")"
   ]
  },
  {
   "cell_type": "code",
   "execution_count": null,
   "metadata": {},
   "outputs": [],
   "source": [
    "# If we need to order strings DESC, we need to use reverse, the \"-\" can only be used on numbers to reverse ordering\n",
    "\n",
    "d = {'Georgi': [14, 16], 'Rosen': [14, 16], 'Petar': [12, 13], 'Ivan': [12, 13]}\n",
    "print(f\"Original dict: {d}\")\n",
    "\n",
    "# Here we sort based on the first value ASC and then name ASC\n",
    "first_second_asc = {key: value for key, value in sorted(d.items(), key=lambda x: (x[1][0], x[0]))}\n",
    "print(f\"Sorted first ASC and name ASC: {first_second_asc}\")\n",
    "\n",
    "# Here we sort based on the first value ASC and then name DESC\n",
    "first_second_desc = {key: value for key, value in sorted(d.items(), key=lambda x: (-x[1][0], x[0]), reverse=True)}\n",
    "print(f\"Sorted first ASC and name ASC: {first_second_desc}\")"
   ]
  },
  {
   "cell_type": "markdown",
   "metadata": {},
   "source": [
    "## <p class=\"text\">Zip</p>\n",
    "<p class=\"text\">The <code>zip()</code> function is used in Python to iterate over 2 or iterables at once. The length of the iteration is dependent on the iterator with the least amount of items inside.</p>"
   ]
  },
  {
   "cell_type": "code",
   "execution_count": null,
   "metadata": {},
   "outputs": [],
   "source": [
    "l1 = [1, 2, 3]\n",
    "l2 = ['pie', 'cake', 'chocolate', 'ice cream']\n",
    "l3 = ['water', 'coca-cola', 'pepsi']\n",
    "\n",
    "for items in zip(l1, l2, l3):\n",
    "    print(items)"
   ]
  },
  {
   "cell_type": "code",
   "execution_count": null,
   "metadata": {},
   "outputs": [],
   "source": [
    "# You can also unpack the resulting list into separate variables\n",
    "\n",
    "l1 = [1, 2, 3]\n",
    "l2 = ['pie', 'cake', 'chocolate', 'ice cream']\n",
    "l3 = ['water', 'coca-cola', 'pepsi']\n",
    "\n",
    "for num, dessert, drink in zip(l1, l2, l3):\n",
    "    print(f\"{num} | {dessert} | {drink}\")"
   ]
  },
  {
   "cell_type": "markdown",
   "metadata": {
    "editable": true,
    "slideshow": {
     "slide_type": "slide"
    },
    "tags": []
   },
   "source": [
    "# <p class=\"text\">Thank you for your time!</p>"
   ]
  }
 ],
 "metadata": {
  "kernelspec": {
   "display_name": "Python 3 (ipykernel)",
   "language": "python",
   "name": "python3"
  },
  "language_info": {
   "codemirror_mode": {
    "name": "ipython",
    "version": 3
   },
   "file_extension": ".py",
   "mimetype": "text/x-python",
   "name": "python",
   "nbconvert_exporter": "python",
   "pygments_lexer": "ipython3",
   "version": "3.11.8"
  }
 },
 "nbformat": 4,
 "nbformat_minor": 4
}

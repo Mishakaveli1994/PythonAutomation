{
 "cells": [
  {
   "cell_type": "code",
   "execution_count": null,
   "metadata": {
    "editable": true,
    "slideshow": {
     "slide_type": "skip"
    },
    "tags": []
   },
   "outputs": [],
   "source": [
    "%%HTML\n",
    "<style>\n",
    "div.heading{\n",
    "    padding: 0 10%;\n",
    "    text-align:center;\n",
    "    }\n",
    "\n",
    "p.text{\n",
    "    text-align:center;\n",
    "    padding: 0 10%;\n",
    "\n",
    "}\n",
    "</style>"
   ]
  },
  {
   "cell_type": "markdown",
   "metadata": {
    "editable": true,
    "slideshow": {
     "slide_type": "slide"
    },
    "tags": []
   },
   "source": [
    "# <p class=\"text\">Python for Automation - Lesson 6</p> "
   ]
  },
  {
   "cell_type": "markdown",
   "metadata": {
    "editable": true,
    "slideshow": {
     "slide_type": "slide"
    },
    "tags": []
   },
   "source": [
    "<div class=\"heading\">\n",
    "    <ul style=\"list-style-type:none\">\n",
    "        <li><b>Lesson 6 Structure:</b></li>\n",
    "        <li>Working with Strings</li>\n",
    "        <li>File input/output</li>\n",
    "    </ul>\n",
    "</div>"
   ]
  },
  {
   "cell_type": "markdown",
   "metadata": {},
   "source": [
    "## <p class=\"text\">Working with Strings</p>\n",
    "\n",
    "<p class=\"text\">Strings in Python can be viewed as a list of single characters joined by a empty (\"\") in between. They can be mostly used the same like a normal list, with the exception that like tuples, they are immutable. Whenever you add a new value to a string, it copies the previously existing structure and moves it into a new place in memory, adding the new characters to the proper indexes.</p> "
   ]
  },
  {
   "cell_type": "code",
   "execution_count": null,
   "metadata": {},
   "outputs": [],
   "source": [
    "# Here I try to replace the letter and index 0 with a new one\n",
    "string = 'I like Python'\n",
    "\n",
    "string[0] = 'B'\n",
    "\n",
    "# And fail to do it, as strings are immutable."
   ]
  },
  {
   "cell_type": "code",
   "execution_count": null,
   "metadata": {},
   "outputs": [],
   "source": [
    "# Here I add a value at the end of a string by appending\n",
    "\n",
    "string = \"Hello \"\n",
    "\n",
    "print(f\"Initial string address: {hex(id(string))}\")\n",
    "\n",
    "string += \"World\"\n",
    "\n",
    "print(f\"Changed string address: {hex(id(string))}\")\n",
    "\n",
    "# Note how the values differ - that is because Python took the old string, copied it and appended the new value and moved everything to a new address in memory"
   ]
  },
  {
   "cell_type": "markdown",
   "metadata": {},
   "source": [
    "<p class=\"text\">As I believe it's important and usually not uncommon to work with Strings, I will describe some of the most used methods applying to them. <code>Important:</code>All of the methods below return new strings, they DO NOT change the initial values in-place.</p> "
   ]
  },
  {
   "cell_type": "code",
   "execution_count": null,
   "metadata": {},
   "outputs": [],
   "source": [
    "# capitalize() - Converts the first character to upper case\n",
    "\n",
    "name = 'george'\n",
    "print(name.capitalize())"
   ]
  },
  {
   "cell_type": "code",
   "execution_count": null,
   "metadata": {},
   "outputs": [],
   "source": [
    "# lower() OR casefold() - Converts string into lower case. Use lower() as it's the more commonly used one.\n",
    "name = 'GEORGE'\n",
    "print(name.lower())"
   ]
  },
  {
   "cell_type": "code",
   "execution_count": null,
   "metadata": {},
   "outputs": [],
   "source": [
    "# center(width, fillchar) - Returns a centered string\n",
    "string = 'Centering is easy'\n",
    "print(string.center(100, \"-\"))"
   ]
  },
  {
   "cell_type": "code",
   "execution_count": null,
   "metadata": {},
   "outputs": [],
   "source": [
    "# count(x, start, end) - Returns the number of times a specified value occurs in a string. Start and end are used to count the entries in a substring\n",
    "string = 'aaabbbcddd'\n",
    "print(string.count('b'))"
   ]
  },
  {
   "cell_type": "code",
   "execution_count": null,
   "metadata": {},
   "outputs": [],
   "source": [
    "# endswith(suffix, start, end) - Returns true if the string ends with the specified value.\n",
    "string1 = 'I am string one and I am your man'\n",
    "string2 = 'I am string two, unfortunately for you'\n",
    "\n",
    "print(f\"string1 ends with 'your man': {string1.endswith('your man')}\")\n",
    "print(f\"string2 ends with 'your man': {string2.endswith('your man')}\")"
   ]
  },
  {
   "cell_type": "code",
   "execution_count": null,
   "metadata": {},
   "outputs": [],
   "source": [
    "# startswith(suffix, start, end) - Returns true if the string starts with the specified value.\n",
    "string1 = 'New day dawns'\n",
    "string2 = 'Old day ends'\n",
    "\n",
    "print(f\"string1 starts with 'Old day': {string1.startswith('Old day')}\")\n",
    "print(f\"string2 starts with 'Old day': {string2.startswith('Old day')}\")"
   ]
  },
  {
   "cell_type": "code",
   "execution_count": null,
   "metadata": {},
   "outputs": [],
   "source": [
    "# find(sub, start, end) OR index(sub, start, end) - Searches the string for a specified value and returns the position of where it was found\n",
    "string = 'Did I ever tell you what the definition of insanity is? Insanity is doing the exact… same thing… over and over again, expecting… things to change.'\n",
    "\n",
    "print(f\"Location of substring 'tell' at index {string.find('tell')}\")"
   ]
  },
  {
   "cell_type": "markdown",
   "metadata": {},
   "source": [
    "<p class=\"text\">Below is a table containing methods that can be applied to string to test whether they contain a subset of specific characters:</p>\n",
    "\n",
    "| Method Name | Appropriate Regex  | Method Description  |\n",
    "|---|---|---|\n",
    "|isalnum() | a-zA-Z0-9  |  Returns True if all characters in the string are alphanumeric\n",
    "|isalpha() | a-zA-Z  |  Returns True if all characters in the string are in the alphabet\n",
    "|isascii() | ASCII  |  Returns True if all characters in the string are ascii characters\n",
    "|isdecimal() | 0-9  |  Returns True if all characters in the string are decimals\n",
    "|isdigit() | 0-9<sup>n</sup> |  Returns True if all characters in the string are digits or exponents\n",
    "|isidentifier() | a-zA-Z0-9_  |  Returns True if the string is an identifier\n",
    "|islower()| a-z  |  Returns True if all characters in the string are lower case (only checks characters, not numbers or special characters)\n",
    "|isnumeric() | 0-9<sup>n</sup>   |  Returns True if all characters in the string are numeric\n",
    "|isprintable()| Only printable characters  |  Returns True if all characters in the string are printable\n",
    "|isspace() | \\s |  Returns True if all characters in the string are whitespaces\n",
    "|istitle()| 1st letter uppercase, others lowercase  |  Returns True if the string follows the rules of a title\n",
    "|isupper() | A-Z  |  Returns True if all characters in the string are upper case (only checks characters, not numbers or special characters)"
   ]
  },
  {
   "cell_type": "code",
   "execution_count": null,
   "metadata": {},
   "outputs": [],
   "source": [
    "# join() - Converts the elements of an iterable into a string, concatenating them with a common separator\n",
    "initial_list = ['H', 'e', 'l', 'l', 'o']\n",
    "\n",
    "print(''.join(initial_list))\n",
    "print('-'.join(initial_list))"
   ]
  },
  {
   "cell_type": "code",
   "execution_count": null,
   "metadata": {},
   "outputs": [],
   "source": [
    "# upper() - Converts a string into all upper case characters\n",
    "uppercase_string = 'This string should only have Upper case Characters'\n",
    "\n",
    "print(uppercase_string.upper())"
   ]
  },
  {
   "cell_type": "code",
   "execution_count": null,
   "metadata": {},
   "outputs": [],
   "source": [
    "# replace() - Returns a string where a specified value is replaced with a specified value - ALL OCCURANCES\n",
    "initial_string = 'Is this placeholder? Yes, it is placeholder!'\n",
    "\n",
    "print(initial_string.replace('placeholder', 'Python'))"
   ]
  },
  {
   "cell_type": "code",
   "execution_count": null,
   "metadata": {},
   "outputs": [],
   "source": [
    "# split() - Splits the string at the specified separator, and returns a list\n",
    "\n",
    "initial_string = 'This is a string that needs to be separated'\n",
    "\n",
    "print(initial_string.split(' '))"
   ]
  },
  {
   "cell_type": "markdown",
   "metadata": {},
   "source": [
    "## <p class=\"text\">Reading and Writing files with Python</p>\n",
    "\n",
    "<p class=\"text\">Reading and writing files with python is a really straightforward operation. We use the <code>open()</code> method, that allows us to both read, create, append and overwrite depending on the provided parameters</p> "
   ]
  },
  {
   "cell_type": "markdown",
   "metadata": {},
   "source": [
    "### <p class=\"text\">Reading a file - basic syntax</p>"
   ]
  },
  {
   "cell_type": "code",
   "execution_count": null,
   "metadata": {},
   "outputs": [],
   "source": [
    "# Basic syntax\n",
    "import os\n",
    "\n",
    "# First we need the proper path to the file you want to read\n",
    "file_path = os.path.join(os.getcwd(), 'text.txt')\n",
    "\n",
    "# Then the bare minimum parameters we need to add to the open() command are a file path and mode\n",
    "\n",
    "f = open(file_path, 'r')\n",
    "\n",
    "# We read the whole file with the read() method\n",
    "content = f.read()\n",
    "\n",
    "content2 = f.read()\n",
    "print('content'.center(60, \"#\"))\n",
    "print(content)\n",
    "\n",
    "print('content2'.center(60, \"#\"))\n",
    "print(content2)\n",
    "# We close the connection manually\n",
    "f.close()"
   ]
  },
  {
   "cell_type": "markdown",
   "metadata": {},
   "source": [
    "<p class=\"text\">Important notes on <code>open()</code>:\n",
    "\n",
    "1. The reading by bytes actually works like a pointer, telling Python up to which byte it ended last time. There is actually a command that can reset the marker to the start of the file, if you wish to re-read it - <code>seek()</code> with an argument of 0 - this will tell Python to move the pointer at the amount of bits you provided as input (in this case 0 - the start of the file)\n",
    "    \n",
    "2. The handler used for reading can only be exhaused ONCE - meaning if you read the whole file and don't store it in a variable, you need to either close the previous or open a new connection or move the pointer to the start point/point you need in the text\n",
    "\n",
    "3. When opening a file ALWAYS close the connection if opening via the above approach, not closing a file and leaving a handle active, can cause unforseen issue - for example a process being unable to write to that same file or 2 processes that have simultanuosly opened the file can try to write inside it - which unfortunately if successful cannot guarantee that the actual sequence of writing is the proper one.\n",
    "\n",
    "\n",
    "</p> "
   ]
  },
  {
   "cell_type": "markdown",
   "metadata": {},
   "source": [
    "| Open mode symbol | Open mode meaning  | \n",
    "|---|---|\n",
    "|'r' | open for reading (default)|\n",
    "|'w' | open for writing, truncating the file first|\n",
    "|'x' | open for exclusive creation, failing if the file already exists|\n",
    "|'a' | open for writing, appending to the end of the file if it exists|\n",
    "|'b' | binary mode|\n",
    "|'t' | text mode (default)|\n",
    "|'+' | open a disk file for updating (reading and writing)|\n",
    "|'U' | universal newlines mode (for backwards compatibility; should not be used in new code)|\n",
    "\n",
    "\n",
    "<p class=\"text\">The default mode is 'r' (open for reading text, synonym of 'rt'). For binary read-write access, the mode 'w+b' opens and truncates the file to 0 bytes. 'r+b' opens the file without truncation.</p>"
   ]
  },
  {
   "cell_type": "markdown",
   "metadata": {},
   "source": [
    "### <p class=\"text\">Reading a file - context manager</p>\n",
    "<p class=\"text\">By doing it with a <code>context manager</code> (using the <code>with</code> keyword), you don't need to worry about closing the actual file connection - it will be handled automatically on exiting the scope of the context manager.</p>"
   ]
  },
  {
   "cell_type": "code",
   "execution_count": null,
   "metadata": {},
   "outputs": [],
   "source": [
    "# This is likely the more common way you will see in actual code\n",
    "import os\n",
    "\n",
    "# First we need the proper path to the file you want to read\n",
    "file_path = os.path.join(os.getcwd(), 'text.txt')\n",
    "\n",
    "with open(file_path, 'r') as f:\n",
    "    # We read the whole file with the read() method\n",
    "    content = f.read()\n",
    "    print(content)"
   ]
  },
  {
   "cell_type": "markdown",
   "metadata": {},
   "source": [
    "<p class=\"text\">In general we have 3 main ways to read from a file handler (open file connection):</p>\n",
    "\n",
    "| Method | What it does  | \n",
    "|---|---|\n",
    "|.read(size=-1) | This reads from the file based on the number of size bytes. If no argument is passed or None or -1 is passed, then the entire file is read.|\n",
    "|.readline(size=-1) | This reads at most size number of characters from the line. This continues to the end of the line and then wraps back around. If no argument is passed or None or -1 is passed, then the entire line (or rest of the line) is read.|\n",
    "|.readlines() | This reads the remaining lines from the file object and returns them as a list.|"
   ]
  },
  {
   "cell_type": "code",
   "execution_count": null,
   "metadata": {},
   "outputs": [],
   "source": [
    "# Using .read()\n",
    "print(' Reading the whole file '.center(70, \"#\"))\n",
    "with open(file_path, 'r') as f:\n",
    "    # We read the whole file with the read() method\n",
    "    content = f.read()\n",
    "    print(content)\n",
    "\n",
    "print('\\n')\n",
    "print(' Reading 50 bytes (characters) from file '.center(70, \"#\"))\n",
    "with open(file_path, 'r') as f:\n",
    "    # If using read with a value, you can read as long the given bits don't \n",
    "    # become more than the actual size of the text\n",
    "    content = f.read(50)\n",
    "    print(content)"
   ]
  },
  {
   "cell_type": "code",
   "execution_count": null,
   "metadata": {},
   "outputs": [],
   "source": [
    "# Using .readline()\n",
    "print(' Reading the whole file '.center(70, \"#\"))\n",
    "with open(file_path, 'r') as f:\n",
    "    # We read the whole file with the readline() method\n",
    "    content = f.readline()\n",
    "    print(content)\n",
    "\n",
    "print('\\n')\n",
    "print(' Reading 50 bytes (characters) from file '.center(70, \"#\"))\n",
    "with open(file_path, 'r') as f:\n",
    "    # This can be repeated, same with read()\n",
    "    print(f.readline(50))\n",
    "    print(f.readline(50))\n",
    "    print(f.readline(50))"
   ]
  },
  {
   "cell_type": "code",
   "execution_count": null,
   "metadata": {},
   "outputs": [],
   "source": [
    "# Using .readlines()\n",
    "print(' Reading the whole file line by line '.center(70, \"#\"))\n",
    "with open(file_path, 'r') as f:\n",
    "    # We read the whole file with the readline() method\n",
    "    for line in f.readlines():\n",
    "        print(f\"<{line}>\", end=\"\")\n",
    "        print(end='')"
   ]
  },
  {
   "cell_type": "markdown",
   "metadata": {},
   "source": [
    "### <p class=\"text\">Writing to a file</p>\n",
    "\n",
    "<p class=\"text\">Writing to a file is really straightforward - we use the <code>write()</code> function of the open file handler and provide the value that we need to either create, append, overwrite depending on the parameters we provided to the <code>open()</code> function.</p>"
   ]
  },
  {
   "cell_type": "code",
   "execution_count": null,
   "metadata": {},
   "outputs": [],
   "source": [
    "# Writing to a new file\n",
    "new_file_path = os.path.join(os.getcwd(), 'new_text.txt')\n",
    "\n",
    "print(' Writing text to a new file '.center(70, \"#\"))\n",
    "with open(new_file_path, 'w') as f:\n",
    "    text = 'This is new file content'\n",
    "    f.write(text)\n",
    "\n",
    "print(' Reading text from new file '.center(70, \"#\"))\n",
    "with open(new_file_path, 'r') as f:\n",
    "    content = f.read()\n",
    "    print(content)"
   ]
  },
  {
   "cell_type": "markdown",
   "metadata": {
    "editable": true,
    "jp-MarkdownHeadingCollapsed": true,
    "slideshow": {
     "slide_type": "slide"
    },
    "tags": []
   },
   "source": [
    "# <p class=\"text\">Thank you for your time!</p>"
   ]
  }
 ],
 "metadata": {
  "kernelspec": {
   "display_name": "Python 3 (ipykernel)",
   "language": "python",
   "name": "python3"
  },
  "language_info": {
   "codemirror_mode": {
    "name": "ipython",
    "version": 3
   },
   "file_extension": ".py",
   "mimetype": "text/x-python",
   "name": "python",
   "nbconvert_exporter": "python",
   "pygments_lexer": "ipython3",
   "version": "3.11.8"
  }
 },
 "nbformat": 4,
 "nbformat_minor": 4
}

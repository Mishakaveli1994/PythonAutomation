{
 "cells": [
  {
   "cell_type": "code",
   "execution_count": 1,
   "metadata": {
    "editable": true,
    "slideshow": {
     "slide_type": "skip"
    },
    "tags": []
   },
   "outputs": [
    {
     "data": {
      "text/html": [
       "<style>\n",
       "div.heading{\n",
       "    padding: 0 10%;\n",
       "    text-align:center;\n",
       "    }\n",
       "\n",
       "p.text{\n",
       "    text-align:center;\n",
       "    padding: 0 10%;\n",
       "\n",
       "}\n",
       "</style>\n"
      ],
      "text/plain": [
       "<IPython.core.display.HTML object>"
      ]
     },
     "metadata": {},
     "output_type": "display_data"
    }
   ],
   "source": [
    "%%HTML\n",
    "<style>\n",
    "div.heading{\n",
    "    padding: 0 10%;\n",
    "    text-align:center;\n",
    "    }\n",
    "\n",
    "p.text{\n",
    "    text-align:center;\n",
    "    padding: 0 10%;\n",
    "\n",
    "}\n",
    "</style>"
   ]
  },
  {
   "cell_type": "markdown",
   "metadata": {
    "editable": true,
    "slideshow": {
     "slide_type": "slide"
    },
    "tags": []
   },
   "source": [
    "# <p class=\"text\">Python for Automation - Lesson 6</p> "
   ]
  },
  {
   "cell_type": "markdown",
   "metadata": {
    "editable": true,
    "slideshow": {
     "slide_type": "slide"
    },
    "tags": []
   },
   "source": [
    "<div class=\"heading\">\n",
    "    <ul style=\"list-style-type:none\">\n",
    "        <li><b>Lesson 6 Structure:</b></li>\n",
    "        <li>Working with Strings</li>\n",
    "        <li>Parsers</li>\n",
    "        <li>File input/output</li>\n",
    "    </ul>\n",
    "</div>"
   ]
  },
  {
   "cell_type": "markdown",
   "metadata": {},
   "source": [
    "## <p class=\"text\">Working with Strings</p>\n",
    "\n",
    "<p class=\"text\">Strings in Python can be viewed as a list of single characters joined by a empty (\"\") in between. They can be mostly used the same like a normal list, with the exception that like tuples, they are immutable. Whenever you add a new value to a string, it copies the previously existing structure and moves it into a new place in memory, adding the new characters to the proper indexes.</p> "
   ]
  },
  {
   "cell_type": "code",
   "execution_count": 4,
   "metadata": {},
   "outputs": [
    {
     "ename": "TypeError",
     "evalue": "'str' object does not support item assignment",
     "output_type": "error",
     "traceback": [
      "\u001b[1;31m---------------------------------------------------------------------------\u001b[0m",
      "\u001b[1;31mTypeError\u001b[0m                                 Traceback (most recent call last)",
      "Cell \u001b[1;32mIn[4], line 4\u001b[0m\n\u001b[0;32m      1\u001b[0m \u001b[38;5;66;03m# Here I try to replace the letter and index 0 with a new one\u001b[39;00m\n\u001b[0;32m      2\u001b[0m string \u001b[38;5;241m=\u001b[39m \u001b[38;5;124m'\u001b[39m\u001b[38;5;124mI like Python\u001b[39m\u001b[38;5;124m'\u001b[39m\n\u001b[1;32m----> 4\u001b[0m \u001b[43mstring\u001b[49m\u001b[43m[\u001b[49m\u001b[38;5;241;43m0\u001b[39;49m\u001b[43m]\u001b[49m \u001b[38;5;241m=\u001b[39m \u001b[38;5;124m'\u001b[39m\u001b[38;5;124mB\u001b[39m\u001b[38;5;124m'\u001b[39m\n\u001b[0;32m      6\u001b[0m \u001b[38;5;66;03m# And fail to do it, as strings are immutable.\u001b[39;00m\n",
      "\u001b[1;31mTypeError\u001b[0m: 'str' object does not support item assignment"
     ]
    }
   ],
   "source": [
    "# Here I try to replace the letter and index 0 with a new one\n",
    "string = 'I like Python'\n",
    "\n",
    "string[0] = 'B'\n",
    "\n",
    "# And fail to do it, as strings are immutable."
   ]
  },
  {
   "cell_type": "code",
   "execution_count": 6,
   "metadata": {},
   "outputs": [
    {
     "name": "stdout",
     "output_type": "stream",
     "text": [
      "Initial string address: 0x11b1c56f6f0\n",
      "Changed string address: 0x11b1c56f330\n"
     ]
    }
   ],
   "source": [
    "# Here I add a value at the end of a string by appending\n",
    "\n",
    "string = \"Hello \"\n",
    "\n",
    "print(f\"Initial string address: {hex(id(string))}\")\n",
    "\n",
    "string += \"World\"\n",
    "\n",
    "print(f\"Changed string address: {hex(id(string))}\")\n",
    "\n",
    "# Note how the values differ - that is because Python took the old string, copied it and appended the new value and moved everything to a new address in memory"
   ]
  },
  {
   "cell_type": "markdown",
   "metadata": {},
   "source": [
    "<p class=\"text\">As I believe it's important and usually not uncommon to work with Strings, I will describe some of the most used methods applying to them. <code>Important:</code>All of the methods below return new strings, they DO NOT change the initial values in-place.</p> "
   ]
  },
  {
   "cell_type": "code",
   "execution_count": 11,
   "metadata": {},
   "outputs": [
    {
     "name": "stdout",
     "output_type": "stream",
     "text": [
      "George\n"
     ]
    }
   ],
   "source": [
    "# capitalize() - Converts the first character to upper case\n",
    "\n",
    "name = 'george'\n",
    "print(name.capitalize())"
   ]
  },
  {
   "cell_type": "code",
   "execution_count": 10,
   "metadata": {},
   "outputs": [
    {
     "name": "stdout",
     "output_type": "stream",
     "text": [
      "george\n"
     ]
    }
   ],
   "source": [
    "# lower() OR casefold() - Converts string into lower case. Use lower() as it's the more commonly used one.\n",
    "name = 'GEORGE'\n",
    "print(name.lower())"
   ]
  },
  {
   "cell_type": "code",
   "execution_count": 19,
   "metadata": {},
   "outputs": [
    {
     "name": "stdout",
     "output_type": "stream",
     "text": [
      "-----------------------------------------Centering is easy------------------------------------------\n"
     ]
    }
   ],
   "source": [
    "# center(width, fillchar) - Returns a centered string\n",
    "string = 'Centering is easy'\n",
    "print(string.center(100, \"-\"))"
   ]
  },
  {
   "cell_type": "code",
   "execution_count": 20,
   "metadata": {},
   "outputs": [
    {
     "name": "stdout",
     "output_type": "stream",
     "text": [
      "3\n"
     ]
    }
   ],
   "source": [
    "# count(x, start, end) - Returns the number of times a specified value occurs in a string. Start and end are used to count the entries in a substring\n",
    "string = 'aaabbbcddd'\n",
    "print(string.count('b'))"
   ]
  },
  {
   "cell_type": "code",
   "execution_count": 23,
   "metadata": {},
   "outputs": [
    {
     "name": "stdout",
     "output_type": "stream",
     "text": [
      "string1 ends with 'your man': True\n",
      "string2 ends with 'your man': False\n"
     ]
    }
   ],
   "source": [
    "# endswith(suffix, start, end) - Returns true if the string ends with the specified value.\n",
    "string1 = 'I am string one and I am your man'\n",
    "string2 = 'I am string two, unfortunately for you'\n",
    "\n",
    "print(f\"string1 ends with 'your man': {string1.endswith('your man')}\")\n",
    "print(f\"string2 ends with 'your man': {string2.endswith('your man')}\")"
   ]
  },
  {
   "cell_type": "code",
   "execution_count": 25,
   "metadata": {},
   "outputs": [
    {
     "name": "stdout",
     "output_type": "stream",
     "text": [
      "string1 starts with 'Old day': False\n",
      "string2 starts with 'Old day': False\n"
     ]
    }
   ],
   "source": [
    "# startswith(suffix, start, end) - Returns true if the string starts with the specified value.\n",
    "string1 = 'New day dawns'\n",
    "string2 = 'Old day ends'\n",
    "\n",
    "print(f\"string1 starts with 'Old day': {string1.startswith('Old day')}\")\n",
    "print(f\"string2 starts with 'Old day': {string2.startswith('Old day')}\")"
   ]
  },
  {
   "cell_type": "code",
   "execution_count": 28,
   "metadata": {},
   "outputs": [
    {
     "name": "stdout",
     "output_type": "stream",
     "text": [
      "Location of substring 'tell' at index 11\n"
     ]
    }
   ],
   "source": [
    "# find(sub, start, end) OR index(sub, start, end) - Searches the string for a specified value and returns the position of where it was found\n",
    "string = 'Did I ever tell you what the definition of insanity is? Insanity is doing the exact… same thing… over and over again, expecting… things to change.'\n",
    "\n",
    "print(f\"Location of substring 'tell' at index {string.find('tell')}\")"
   ]
  },
  {
   "cell_type": "code",
   "execution_count": null,
   "metadata": {},
   "outputs": [],
   "source": [
    "# The below are used to check if a string contains a specific set of characters"
   ]
  },
  {
   "cell_type": "code",
   "execution_count": null,
   "metadata": {},
   "outputs": [],
   "source": []
  },
  {
   "cell_type": "code",
   "execution_count": null,
   "metadata": {},
   "outputs": [],
   "source": []
  },
  {
   "cell_type": "markdown",
   "metadata": {
    "editable": true,
    "jp-MarkdownHeadingCollapsed": true,
    "slideshow": {
     "slide_type": "slide"
    },
    "tags": []
   },
   "source": [
    "# <p class=\"text\">Thank you for your time!</p>"
   ]
  }
 ],
 "metadata": {
  "kernelspec": {
   "display_name": "Python 3 (ipykernel)",
   "language": "python",
   "name": "python3"
  },
  "language_info": {
   "codemirror_mode": {
    "name": "ipython",
    "version": 3
   },
   "file_extension": ".py",
   "mimetype": "text/x-python",
   "name": "python",
   "nbconvert_exporter": "python",
   "pygments_lexer": "ipython3",
   "version": "3.9.7"
  }
 },
 "nbformat": 4,
 "nbformat_minor": 4
}

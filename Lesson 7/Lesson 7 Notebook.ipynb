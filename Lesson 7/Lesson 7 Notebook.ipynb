{
 "cells": [
  {
   "cell_type": "code",
   "execution_count": null,
   "metadata": {
    "editable": true,
    "slideshow": {
     "slide_type": "skip"
    },
    "tags": []
   },
   "outputs": [],
   "source": [
    "%%HTML\n",
    "<style>\n",
    "div.heading{\n",
    "    padding: 0 10%;\n",
    "    text-align:center;\n",
    "    }\n",
    "\n",
    "p.text{\n",
    "    text-align:center;\n",
    "    padding: 0 10%;\n",
    "\n",
    "}\n",
    "</style>"
   ]
  },
  {
   "cell_type": "markdown",
   "metadata": {
    "editable": true,
    "slideshow": {
     "slide_type": "slide"
    },
    "tags": []
   },
   "source": [
    "# <p class=\"text\">Python for Automation - Lesson 7</p> "
   ]
  },
  {
   "cell_type": "markdown",
   "metadata": {
    "editable": true,
    "slideshow": {
     "slide_type": "slide"
    },
    "tags": []
   },
   "source": [
    "<div class=\"heading\">\n",
    "    <ul style=\"list-style-type:none\">\n",
    "        <li><b>Lesson 7 Structure:</b></li>\n",
    "        <li>Parsing JSON</li>\n",
    "    </ul>\n",
    "</div>"
   ]
  },
  {
   "cell_type": "markdown",
   "metadata": {},
   "source": [
    "## <p class=\"text\">Parsing JSON</p>\n",
    "\n",
    "<p class=\"text\">JavaScript Object Notation (JSON) is used for parsing data interchangeably across multiple or different systems such as transferring data from a backend server to the frontend of an application or vice-versa.\n",
    "    \n",
    "Data in JSON are stored in curly braces {}, as key and value pairs, wrapped in double-quote (\"\") and separated by a colon (:) while a comma (,) is used to indicate the end of a particular key and value pair. This makes it easy to read and write by humans.</p> "
   ]
  },
  {
   "cell_type": "markdown",
   "metadata": {},
   "source": [
    "### <p class=\"text\">Example JSON</p>"
   ]
  },
  {
   "cell_type": "code",
   "execution_count": null,
   "metadata": {},
   "outputs": [],
   "source": [
    "{\n",
    "  \"squadName\": \"Super hero squad\",\n",
    "  \"homeTown\": \"Metro City\",\n",
    "  \"formed\": 2016,\n",
    "  \"secretBase\": \"Super tower\",\n",
    "  \"active\": True,\n",
    "  \"members\": [\n",
    "    {\n",
    "      \"name\": \"Molecule Man\",\n",
    "      \"age\": 29,\n",
    "      \"secretIdentity\": \"Dan Jukes\",\n",
    "      \"powers\": [\"Radiation resistance\", \"Turning tiny\", \"Radiation blast\"]\n",
    "    },\n",
    "    {\n",
    "      \"name\": \"Madame Uppercut\",\n",
    "      \"age\": 39,\n",
    "      \"secretIdentity\": \"Jane Wilson\",\n",
    "      \"powers\": [\n",
    "        \"Million tonne punch\",\n",
    "        \"Damage resistance\",\n",
    "        \"Superhuman reflexes\"\n",
    "      ]\n",
    "    },\n",
    "    {\n",
    "      \"name\": \"Eternal Flame\",\n",
    "      \"age\": 1000000,\n",
    "      \"secretIdentity\": \"Unknown\",\n",
    "      \"powers\": [\n",
    "        \"Immortality\",\n",
    "        \"Heat Immunity\",\n",
    "        \"Inferno\",\n",
    "        \"Teleportation\",\n",
    "        \"Interdimensional travel\"\n",
    "      ]\n",
    "    }\n",
    "  ]\n",
    "}"
   ]
  },
  {
   "cell_type": "markdown",
   "metadata": {},
   "source": [
    "<p class=\"text\">The process of encoding JSON is usually called <b>serialization</b>. This term refers to the transformation of data into a series of bytes (hence serial) to be stored or transmitted across a network. Naturally, <b>deserialization</b> is the reciprocal process of decoding data that has been stored or delivered in the JSON standard. Lucky for us, Python supports JSON natively - we can use the <code>json</code> module in the Python's Standard Library</p>"
   ]
  },
  {
   "cell_type": "markdown",
   "metadata": {},
   "source": [
    "## <p class=\"text\">Serialize JSON - Dump/s</p>\n",
    "<p class=\"text\">What happens after a computer processes lots of information? It needs to take a data dump. Accordingly, the json library exposes the dump() method for writing data to files. There is also a dumps() method (pronounced as “dump-s”) for writing to a Python string. Simple Python objects are translated to JSON according to a fairly intuitive conversion:</p>\n",
    "\n",
    "| Python      | JSON |\n",
    "| ----------- | ----------- |\n",
    "| dict      | object       |\n",
    "| list, tuple   | array        |\n",
    "| str   | string        |\n",
    "| int, long, float   | number        |\n",
    "| True   | true        |\n",
    "| False   | false        |\n",
    "| None   | null        |"
   ]
  },
  {
   "cell_type": "code",
   "execution_count": null,
   "metadata": {},
   "outputs": [],
   "source": [
    "example_json_as_dict = {\n",
    "  \"squadName\": \"Super hero squad\",\n",
    "  \"homeTown\": \"Metro City\",\n",
    "  \"formed\": 2016,\n",
    "  \"secretBase\": \"Super tower\",\n",
    "  \"active\": True,\n",
    "  \"members\": [\n",
    "    {\n",
    "      \"name\": \"Molecule Man\",\n",
    "      \"age\": 29,\n",
    "      \"secretIdentity\": \"Dan Jukes\",\n",
    "      \"powers\": [\"Radiation resistance\", \"Turning tiny\", \"Radiation blast\"]\n",
    "    },\n",
    "    {\n",
    "      \"name\": \"Madame Uppercut\",\n",
    "      \"age\": 39,\n",
    "      \"secretIdentity\": \"Jane Wilson\",\n",
    "      \"powers\": [\n",
    "        \"Million tonne punch\",\n",
    "        \"Damage resistance\",\n",
    "        \"Superhuman reflexes\"\n",
    "      ]\n",
    "    },\n",
    "    {\n",
    "    \"name\": \"Eternal Flame\",\n",
    "      \"age\": 1000000,\n",
    "      \"secretIdentity\": \"Unknown\",\n",
    "\"powers\": [\n",
    "        \"Immortality\",\n",
    "        \"Heat Immunity\",\n",
    "\"Inferno\",\n",
    "        \"Teleportation\",\n",
    "        \"Interdimensional travel\"\n",
    "      ]\n",
    "    }\n",
    "  ]\n",
    "}"
   ]
  },
  {
   "cell_type": "code",
   "execution_count": null,
   "metadata": {},
   "outputs": [],
   "source": [
    "# json.dump is used, when you want to write a object to a file in the JSON notation\n",
    "import json\n",
    "\n",
    "with open(\"data_file.json\", \"w\") as write_file:\n",
    "    json.dump(example_json_as_dict, write_file, indent=4)"
   ]
  },
  {
   "cell_type": "markdown",
   "metadata": {},
   "source": [
    "<p class=\"text\">Note that <code>dump()</code> takes two positional arguments: (1) the data object to be serialized, and (2) the file-like object to which the bytes will be written.</p>"
   ]
  },
  {
   "cell_type": "code",
   "execution_count": null,
   "metadata": {},
   "outputs": [],
   "source": [
    "# json.dumps on the other hand is used, if you want to convert your object to a standard Python string (dump[s]tring)\n",
    "\n",
    "json_string = json.dumps(example_json_as_dict)\n",
    "print(json_string)\n",
    "print(type(json_string))"
   ]
  },
  {
   "cell_type": "markdown",
   "metadata": {},
   "source": [
    "## <p class=\"text\">Deserializing JSON - Load/s</p>\n",
    "<p class=\"text\">This is the reverse operation of serialization - we take a string (.json formatted file) and convert it again to a standard Python type - dictionary. This is how the deserialization process maps JSON structures to Python ones:</p>\n",
    "\n",
    "| Python      | JSON |\n",
    "| ----------- | ----------- |\n",
    "| object      | dict       |\n",
    "| array   | list        |\n",
    "| string   | str        |\n",
    "| number (int)   | int        |\n",
    "| number (real)   | float        |\n",
    "| true   | True        |\n",
    "| false   | null        |\n",
    "| null   | null        |"
   ]
  },
  {
   "cell_type": "code",
   "execution_count": null,
   "metadata": {},
   "outputs": [],
   "source": [
    "# Create a Python dict from a from a JSON file string\n",
    "\n",
    "with open(\"data_file.json\", \"r\") as file:\n",
    "    json_file = file.read()\n",
    "    json_loads = json.loads(json_file)"
   ]
  },
  {
   "cell_type": "code",
   "execution_count": null,
   "metadata": {},
   "outputs": [],
   "source": [
    "print(json_file) # Print raw .json file (string)"
   ]
  },
  {
   "cell_type": "code",
   "execution_count": null,
   "metadata": {},
   "outputs": [],
   "source": [
    "print(json_loads) # Print dictionary converted from JSON string\n",
    "print(type(json_loads))"
   ]
  },
  {
   "cell_type": "code",
   "execution_count": null,
   "metadata": {},
   "outputs": [],
   "source": [
    "# Create a Python dictionary from a JSON file\n",
    "\n",
    "with open(\"data_file.json\", \"r\") as file:\n",
    "    json_load = json.load(file)\n",
    "print(json_load) # Print dictionary created straight from file (no read beforehand)\n",
    "print(type(json_load))"
   ]
  },
  {
   "cell_type": "markdown",
   "metadata": {},
   "source": [
    "## <p class=\"text\">Working with JSON - frankly, same as dicts</p>\n",
    "<p class=\"text\">Working with a dictionary converted from a .json file is really easy - you just treat it like a standard dictionary - you can loop, find and access elements.</p>"
   ]
  },
  {
   "cell_type": "code",
   "execution_count": null,
   "metadata": {},
   "outputs": [],
   "source": [
    "# Access squad name\n",
    "print(f\"Squad name is: {json_load['squadName']}\")"
   ]
  },
  {
   "cell_type": "markdown",
   "metadata": {},
   "source": [
    "## <p class=\"text\">Real life example</p>\n",
    "<p class=\"text\">There is a free rest service named SWAPI (Star Wars API), from which you can test and access working with JSON - it's completely free.</p>\n",
    "\n",
    "[Star Wars API Link](https://swapi.dev/)"
   ]
  },
  {
   "cell_type": "code",
   "execution_count": null,
   "metadata": {},
   "outputs": [],
   "source": [
    "# We import requests - the standard Python Module used to access web API's\n",
    "import requests\n",
    "\n",
    "## Available topics in SWAPI\n",
    "# root\n",
    "# people\n",
    "# films\n",
    "# starships\n",
    "# vehicles\n",
    "# species\n",
    "# planets\n",
    "\n",
    "# We create a fetch function\n",
    "def fetch_data_from_swapi(topic:str, page:int=1) -> dict:\n",
    "    \"\"\"\n",
    "    A simple function to retrieve data from SWAPI\n",
    "    : param topic: What kind of data do we want retrieved \n",
    "    : return: Result in dictionary format\n",
    "    \"\"\"\n",
    "    # We input a base url - it's a good practice as it's static - only the dynamic parts change\n",
    "    base_url = \"https://swapi.dev/api/\"\n",
    "\n",
    "    # This API provides useful statistics, like the total amount of characters available\n",
    "    response = requests.get(f\"{base_url}{topic}?page={page}\")\n",
    "    results = response.json()\n",
    "    return results\n"
   ]
  },
  {
   "cell_type": "code",
   "execution_count": null,
   "metadata": {},
   "outputs": [],
   "source": [
    "# This service always returns the first page if no page is added to the URL\n",
    "people = fetch_data_from_swapi('people')"
   ]
  },
  {
   "cell_type": "code",
   "execution_count": null,
   "metadata": {},
   "outputs": [],
   "source": [
    "# Let's iterate over all pages containing people and get the complete list, by checking if there is a next page\n",
    "star_wars_characters = {}\n",
    "page = 1\n",
    "incremental_id = 1\n",
    "while True:\n",
    "    people = fetch_data_from_swapi('people', page)\n",
    "    for person in people['results']:\n",
    "        star_wars_characters[incremental_id] = person\n",
    "        incremental_id += 1\n",
    "    print(f'Currently available characters: {len(star_wars_characters)}')\n",
    "    if people['next']:\n",
    "        page += 1\n",
    "    else:\n",
    "        break"
   ]
  },
  {
   "cell_type": "code",
   "execution_count": null,
   "metadata": {},
   "outputs": [],
   "source": [
    "# Now we have a complete list. For the sake of not executing this multiple times and loading the API, I will save it to a file\n",
    "with open(\"star_wars_characters.json\", \"w\") as write_file:\n",
    "    json.dump(star_wars_characters, write_file, indent=4)"
   ]
  },
  {
   "cell_type": "code",
   "execution_count": null,
   "metadata": {},
   "outputs": [],
   "source": [
    "# Now for example, we can take only the character names\n",
    "star_wars_character_names = [person['name'] for person in star_wars_characters.values()]"
   ]
  },
  {
   "cell_type": "code",
   "execution_count": null,
   "metadata": {},
   "outputs": [],
   "source": [
    "print(star_wars_character_names)"
   ]
  },
  {
   "cell_type": "code",
   "execution_count": null,
   "metadata": {},
   "outputs": [],
   "source": [
    "# Or we can see which movies featured all characters and on the flip side - which \n",
    "# characters appeared in most movies\n",
    "\n",
    "# Get all movie names and id's\n",
    "films = {episode['episode_id']:{\"title\": episode['title'], 'number_of_characters': len(episode['characters'])} for episode in fetch_data_from_swapi('films')['results']}"
   ]
  },
  {
   "cell_type": "code",
   "execution_count": null,
   "metadata": {},
   "outputs": [],
   "source": [
    "films"
   ]
  },
  {
   "cell_type": "code",
   "execution_count": null,
   "metadata": {},
   "outputs": [],
   "source": [
    "films_sorted = {key: value for key, value in sorted(films.items(), key=lambda x: x[1]['number_of_characters'], reverse=True)}"
   ]
  },
  {
   "cell_type": "code",
   "execution_count": null,
   "metadata": {},
   "outputs": [],
   "source": [
    "films_sorted"
   ]
  },
  {
   "cell_type": "code",
   "execution_count": null,
   "metadata": {},
   "outputs": [],
   "source": [
    "sw_character_appearances = {}\n",
    "for character in star_wars_characters.values():\n",
    "    movie_names = [films_sorted[int(movie[-2])]['title'] for movie in character['films']]\n",
    "    sw_character_appearances[character['name']] = {'total_movies': len(character['films']), 'movie_names': movie_names}"
   ]
  },
  {
   "cell_type": "code",
   "execution_count": null,
   "metadata": {},
   "outputs": [],
   "source": [
    "list(sw_character_appearances.items())[:5]"
   ]
  },
  {
   "cell_type": "code",
   "execution_count": null,
   "metadata": {},
   "outputs": [],
   "source": [
    "sw_character_appearances_sorted = {key: value for key, value in sorted(sw_character_appearances.items(), key=lambda x: x[1]['total_movies'], reverse=True)}"
   ]
  },
  {
   "cell_type": "code",
   "execution_count": null,
   "metadata": {},
   "outputs": [],
   "source": [
    "sw_character_appearances_sorted"
   ]
  },
  {
   "cell_type": "code",
   "execution_count": null,
   "metadata": {
    "scrolled": true
   },
   "outputs": [],
   "source": [
    "# Import libraries to visualize results\n",
    "import pandas \n",
    "import plotly.express as px"
   ]
  },
  {
   "cell_type": "code",
   "execution_count": null,
   "metadata": {
    "scrolled": true
   },
   "outputs": [],
   "source": [
    "list(films_sorted.items())[:5]"
   ]
  },
  {
   "cell_type": "code",
   "execution_count": null,
   "metadata": {},
   "outputs": [],
   "source": [
    "# Visualize movies dictionary\n",
    "\n",
    "films_df = pandas.DataFrame.from_dict([movie for movie in films_sorted.values()])"
   ]
  },
  {
   "cell_type": "code",
   "execution_count": null,
   "metadata": {},
   "outputs": [],
   "source": [
    "films_df"
   ]
  },
  {
   "cell_type": "code",
   "execution_count": null,
   "metadata": {},
   "outputs": [],
   "source": [
    "# Visualize movie dataframe\n",
    "fig = px.bar(films_df, x='title', y='number_of_characters', title='Appearing Characters Per Movie', labels={\n",
    "                     \"number_of_characters\": \"Number of Appearing Characters\"})\n",
    "fig.show()"
   ]
  },
  {
   "cell_type": "code",
   "execution_count": null,
   "metadata": {},
   "outputs": [],
   "source": [
    "list(sw_character_appearances_sorted.items())[:3]"
   ]
  },
  {
   "cell_type": "code",
   "execution_count": null,
   "metadata": {},
   "outputs": [],
   "source": [
    "# Visualize character appearances dictionary\n",
    "characters_list = [[name, *attributes.values()] for name, attributes in sw_character_appearances_sorted.items()]\n",
    "characters_df = pandas.DataFrame(characters_list, columns=['name', 'Number Of Appearances', 'Movie Name'])\n",
    "characters_df = characters_df.explode('Movie Name', ignore_index=False)"
   ]
  },
  {
   "cell_type": "code",
   "execution_count": null,
   "metadata": {},
   "outputs": [],
   "source": [
    "characters_df"
   ]
  },
  {
   "cell_type": "code",
   "execution_count": null,
   "metadata": {
    "scrolled": true
   },
   "outputs": [],
   "source": [
    "# Visualize character dataframe\n",
    "fig = px.bar(characters_df, x='name', y='Number Of Appearances', color='Movie Name', height=600,width=2000, \n",
    "             category_orders={\"Movie Name\": ['The Phantom Menace',\n",
    "                                             'Attack of the Clones',\n",
    "                                             'Revenge of the Sith',\n",
    "                                             'A New Hope',\n",
    "                                             'The Empire Strikes Back',\n",
    "                                             'Return of the Jedi']})\n",
    "fig.update_layout(barmode='stack', xaxis={'categoryorder': 'total descending'})\n",
    "fig.show()"
   ]
  },
  {
   "cell_type": "markdown",
   "metadata": {
    "editable": true,
    "jp-MarkdownHeadingCollapsed": true,
    "slideshow": {
     "slide_type": "slide"
    },
    "tags": []
   },
   "source": [
    "# <p class=\"text\">Thank you for your time!</p>"
   ]
  }
 ],
 "metadata": {
  "kernelspec": {
   "display_name": "Python 3 (ipykernel)",
   "language": "python",
   "name": "python3"
  },
  "language_info": {
   "codemirror_mode": {
    "name": "ipython",
    "version": 3
   },
   "file_extension": ".py",
   "mimetype": "text/x-python",
   "name": "python",
   "nbconvert_exporter": "python",
   "pygments_lexer": "ipython3",
   "version": "3.9.7"
  }
 },
 "nbformat": 4,
 "nbformat_minor": 4
}

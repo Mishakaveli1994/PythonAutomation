{
 "cells": [
  {
   "cell_type": "code",
   "execution_count": null,
   "metadata": {
    "editable": true,
    "slideshow": {
     "slide_type": "skip"
    },
    "tags": []
   },
   "outputs": [],
   "source": [
    "%%HTML\n",
    "<style>\n",
    "div.heading{\n",
    "    padding: 0 10%;\n",
    "    text-align:center;\n",
    "    }\n",
    "\n",
    "p.text{\n",
    "    text-align:center;\n",
    "    padding: 0 10%;\n",
    "\n",
    "}\n",
    "</style>"
   ]
  },
  {
   "cell_type": "markdown",
   "metadata": {
    "editable": true,
    "slideshow": {
     "slide_type": "slide"
    },
    "tags": []
   },
   "source": [
    "# <p class=\"text\">Python for Automation - Lesson 9</p> "
   ]
  },
  {
   "cell_type": "markdown",
   "metadata": {
    "editable": true,
    "slideshow": {
     "slide_type": "slide"
    },
    "tags": []
   },
   "source": [
    "<div class=\"heading\">\n",
    "    <ul style=\"list-style-type:none\">\n",
    "        <li><b>Lesson 9 Structure:</b></li>\n",
    "        <li>Error Handling</li>\n",
    "        <li>Logger</li>\n",
    "    </ul>\n",
    "</div>"
   ]
  },
  {
   "cell_type": "markdown",
   "metadata": {},
   "source": [
    "## <p class=\"text\">What is Error Handling?</p>\n",
    "\n",
    "<p class=\"text\">A Python program terminates as soon as it encounters an error. In Python, an error can be a syntax error or an runtime exception. Error handling is the process of interceping errors and controlling what happens if one is encountered.</p> "
   ]
  },
  {
   "cell_type": "markdown",
   "metadata": {},
   "source": [
    "### <p class=\"text\">Runtime exceptions and syntax errors</p>"
   ]
  },
  {
   "cell_type": "markdown",
   "metadata": {},
   "source": [
    "#### <p class=\"text\">Syntax Error</p>\n",
    "\n",
    "<p class=\"text\">Syntax errors occur when the parser detects an incorrect statement - a.k.a when you write Python code not following one of it's syntax rules</p>"
   ]
  },
  {
   "cell_type": "code",
   "execution_count": null,
   "metadata": {},
   "outputs": [],
   "source": [
    "# Example Syntax Error\n",
    "\n",
    "print(12 * 12))"
   ]
  },
  {
   "cell_type": "code",
   "execution_count": null,
   "metadata": {},
   "outputs": [],
   "source": [
    "for i range(13):\n",
    "    print('Error')"
   ]
  },
  {
   "cell_type": "code",
   "execution_count": null,
   "metadata": {},
   "outputs": [],
   "source": [
    "def no_indent_func():\n",
    "print('Hohooo')"
   ]
  },
  {
   "cell_type": "markdown",
   "metadata": {},
   "source": [
    "<p class=\"text\">Every error that does not arise from faulty logic, but from incorrect syntax, can be considered a Syntax error!</p>"
   ]
  },
  {
   "cell_type": "markdown",
   "metadata": {},
   "source": [
    "#### <p class=\"text\">Runtime Exception</p>\n",
    "\n",
    "<p class=\"text\">Runtime Exceptions are occured when you perform a logically wrong operation or use a Python object incorrectly</p>"
   ]
  },
  {
   "cell_type": "code",
   "execution_count": null,
   "metadata": {},
   "outputs": [],
   "source": [
    "# Example Syntax Error\n",
    "\n",
    "print(12, not_existing=12)"
   ]
  },
  {
   "cell_type": "code",
   "execution_count": null,
   "metadata": {},
   "outputs": [],
   "source": [
    "print(12 / 0)"
   ]
  },
  {
   "cell_type": "markdown",
   "metadata": {},
   "source": [
    "<p class=\"text\">Usually runtime exceptions can be troubleshooted easily, as Python provides a StackTrace(printed row on which the error occured) and some additional info that can help you find out what you did wrong.</p>"
   ]
  },
  {
   "cell_type": "markdown",
   "metadata": {},
   "source": [
    "### <p class=\"text\">Raising Exceptions</p>\n",
    "\n",
    "<p class=\"text\">In certain cases, we might want to stop our program gracefully on error and raise an exception, helping the user to understand why the program did not suceed.</p>"
   ]
  },
  {
   "cell_type": "code",
   "execution_count": null,
   "metadata": {},
   "outputs": [],
   "source": [
    "def printer_of_10(num:int) -> None:\n",
    "    if num != 10:\n",
    "        raise Exception('A number different than 10 was provided! Terminating...')\n",
    "    print('Ahhhh, number 10 provided. Ending successfully.')"
   ]
  },
  {
   "cell_type": "code",
   "execution_count": null,
   "metadata": {},
   "outputs": [],
   "source": [
    "printer_of_10(10)"
   ]
  },
  {
   "cell_type": "code",
   "execution_count": null,
   "metadata": {},
   "outputs": [],
   "source": [
    "printer_of_10(11)"
   ]
  },
  {
   "cell_type": "markdown",
   "metadata": {},
   "source": [
    "<p class=\"text\">If a error is raised, and not catched by a parent object, the program terminates.</p>"
   ]
  },
  {
   "cell_type": "markdown",
   "metadata": {},
   "source": [
    "<p class=\"text\"><code>Exception</code> is the parent class of all more specific exceptions, but it shouldn't be used directly as it's very general and doesn't point to the origin of the issue. There are numerous types of exceptions (all subclasses of Exception) that are existing by defauly in Python and can help enourmously when troubleshooting code.</p>"
   ]
  },
  {
   "cell_type": "code",
   "execution_count": null,
   "metadata": {},
   "outputs": [],
   "source": [
    "def delete_numbers_incorrect(num1:int, num2:int) -> None:\n",
    "    if num2 == 0:\n",
    "        raise Exception('Cannot delete by 0!')\n",
    "    print(num1 / num2)\n",
    "\n",
    "def delete_numbers_correct(num1:int, num2:int) -> None:\n",
    "    if num2 == 0:\n",
    "        raise ZeroDivisionError('Cannot delete by 0!')\n",
    "    print(num1 / num2)"
   ]
  },
  {
   "cell_type": "code",
   "execution_count": null,
   "metadata": {},
   "outputs": [],
   "source": [
    "delete_numbers_incorrect(5, 0)"
   ]
  },
  {
   "cell_type": "code",
   "execution_count": null,
   "metadata": {},
   "outputs": [],
   "source": [
    "delete_numbers_correct(5, 0)"
   ]
  },
  {
   "cell_type": "markdown",
   "metadata": {},
   "source": [
    "<p class=\"text\">By providing a named exception, you can more easily point the debugging in the right direction!</p>"
   ]
  },
  {
   "cell_type": "markdown",
   "metadata": {},
   "source": [
    "### <p class=\"text\">Creating Custom Exceptions</p>\n",
    "\n",
    "<p class=\"text\">Sometimes in your code, you might want to create a named exception for a specific use case you have, but that does not exist natively. This is done by subclassing the Exception class.</p>"
   ]
  },
  {
   "cell_type": "code",
   "execution_count": null,
   "metadata": {},
   "outputs": [],
   "source": [
    "class NumberNotEven(Exception):\n",
    "    def __init__(self, message):\n",
    "        super().__init__(message)"
   ]
  },
  {
   "cell_type": "code",
   "execution_count": null,
   "metadata": {},
   "outputs": [],
   "source": [
    "def check_if_even(num:int) -> None:\n",
    "    if num % 2 != 0:\n",
    "        raise NumberNotEven(f\"The number {num} is not even!\")\n",
    "    print(True)"
   ]
  },
  {
   "cell_type": "code",
   "execution_count": null,
   "metadata": {},
   "outputs": [],
   "source": [
    "# Successful execution\n",
    "check_if_even(10)"
   ]
  },
  {
   "cell_type": "code",
   "execution_count": null,
   "metadata": {},
   "outputs": [],
   "source": [
    "# Unsuccessful execution\n",
    "check_if_even(3)"
   ]
  },
  {
   "cell_type": "markdown",
   "metadata": {},
   "source": [
    "### <p class=\"text\">Debugging using assert</p>\n",
    "\n",
    "<p class=\"text\"><code>assert</code> is a special keyword in Python - it is used when you want to verify a value without performing a if statement and is mostly used when debugging code.</p>"
   ]
  },
  {
   "cell_type": "code",
   "execution_count": null,
   "metadata": {},
   "outputs": [],
   "source": [
    "# Check if number different than 2\n",
    "\n",
    "num = 2\n",
    "num2 = 10\n",
    "\n",
    "assert (num == 2), f\"The number should be 2. ({num=})\"\n",
    "assert (num2 == 2), f\"The number should be 2. ({num=})\""
   ]
  },
  {
   "cell_type": "markdown",
   "metadata": {},
   "source": [
    "### <p class=\"text\">Try, Except, Finally</p>\n",
    "\n",
    "<p class=\"text\">In Python, you use the <code>try</code> and except block to catch and handle exceptions. Python executes code following the try statement as a normal part of the program. The code that follows the <code>except</code> statement is the program’s response to any exceptions in the preceding try clause, and <code>finally</code> is used regardless whether the statement in try succeded or not.</p>"
   ]
  },
  {
   "cell_type": "code",
   "execution_count": null,
   "metadata": {},
   "outputs": [],
   "source": [
    "def freebsd_interaction():\n",
    "    import sys\n",
    "    if \"freebsd\" not in sys.platform:\n",
    "        raise RuntimeError(\"Function can only run on freebsd systems.\")\n",
    "    print(\"Doing freebsd things.\")"
   ]
  },
  {
   "cell_type": "code",
   "execution_count": null,
   "metadata": {},
   "outputs": [],
   "source": [
    "try: # In the try statement we put the code we want to run\n",
    "    freebsd_interaction()\n",
    "except Exception: # Here we catch if there is any error\n",
    "    print('Exception!')\n",
    "\n",
    "print('Next')"
   ]
  },
  {
   "cell_type": "markdown",
   "metadata": {},
   "source": [
    "<p class=\"text\">There are a few problems with the above code. What was the exception we encountered ? How can we take different actions depending on different errors?</p>"
   ]
  },
  {
   "cell_type": "code",
   "execution_count": null,
   "metadata": {},
   "outputs": [],
   "source": [
    "def check_for_error(func):\n",
    "    err = False\n",
    "    try: # In the try statement we put the code we want to run\n",
    "        func()\n",
    "    except RuntimeError as e: # We intercept the RuntimeError and put it in a variable named e\n",
    "        err = True\n",
    "        if str(e) == 'Function can only run on freebsd systems.': # We want to check for the exact error message\n",
    "            print('This is not a freebsd system!')\n",
    "        else: # This one catcher Runtime errors that are unknown\n",
    "            print('Unknown runtime error encountered!')\n",
    "            raise e\n",
    "    except Exception as e: # This one is for any type of other error\n",
    "        err = True\n",
    "        print('Non RuntimeError type error encountered!')\n",
    "        raise e\n",
    "    finally: # Execute regardless of function success or failure\n",
    "        print(f'Function succeeded!' if not err else 'Function Failed!')"
   ]
  },
  {
   "cell_type": "code",
   "execution_count": null,
   "metadata": {},
   "outputs": [],
   "source": [
    "# Successful execution\n",
    "\n",
    "check_for_error(print)"
   ]
  },
  {
   "cell_type": "code",
   "execution_count": null,
   "metadata": {},
   "outputs": [],
   "source": [
    "check_for_error(freebsd_interaction)"
   ]
  },
  {
   "cell_type": "code",
   "execution_count": null,
   "metadata": {},
   "outputs": [],
   "source": [
    "def different_runtime_error():\n",
    "    import sys\n",
    "    if \"apple\" not in sys.platform:\n",
    "        raise RuntimeError(\"Function can only run on apple systems.\")\n",
    "    print(\"Doing apple things.\")"
   ]
  },
  {
   "cell_type": "code",
   "execution_count": null,
   "metadata": {},
   "outputs": [],
   "source": [
    "check_for_error(different_runtime_error)"
   ]
  },
  {
   "cell_type": "code",
   "execution_count": null,
   "metadata": {},
   "outputs": [],
   "source": [
    "def type_error():\n",
    "    import sys\n",
    "    if \"apple\" not in sys.platform:\n",
    "        raise TypeError(\"Function can only run on apple systems.\")\n",
    "    print(\"Doing apple things.\")"
   ]
  },
  {
   "cell_type": "code",
   "execution_count": null,
   "metadata": {},
   "outputs": [],
   "source": [
    "check_for_error(type_error)"
   ]
  },
  {
   "cell_type": "markdown",
   "metadata": {},
   "source": [
    "## <p class=\"text\">Python Logger</p>\n",
    "\n",
    "<p class=\"text\">Logging is a very useful tool in a programmer’s toolbox. It can help you develop a better understanding of the flow of a program and discover scenarios that you might not even have thought of while developing. While <code>print</code> is probably the most common way to provide feedback to developers, a <code>logger</code> is a lot more sophisticated and thread safe.</p> "
   ]
  },
  {
   "cell_type": "code",
   "execution_count": null,
   "metadata": {},
   "outputs": [],
   "source": [
    "# Create a logger\n",
    "import logging\n",
    "\n",
    "# Create a custom format for our logger messages\n",
    "logging.basicConfig(format='%(asctime)s %(levelname)s:%(message)s', level=logging.DEBUG, datefmt='%I:%M:%S', force = True)\n",
    "\n",
    "# Note: Parameter force : True only needed in Jupyter, not needed in actual code\n",
    "\n",
    "# Create our custom logger and give him a name\n",
    "logger = logging.getLogger('CustomLogger')"
   ]
  },
  {
   "cell_type": "markdown",
   "metadata": {},
   "source": [
    "<p class=\"text\">Python's logger has 5 levels of severity, each more critical than the next:</p> \n",
    "\n",
    "<p class=\"text\"><code>debug()</code> - severity 10 - Used for debugging</p>\n",
    "<p class=\"text\"><code>info()</code> - severity 20 - Standard application messages</p>\n",
    "<p class=\"text\"><code>warning()</code> - severity 30 - A non-critical error occurance somwhere in the code, recoverable</p>\n",
    "<p class=\"text\"><code>error()</code> - severity 40 - A error occurance, recoverable</p>\n",
    "<p class=\"text\"><code>critical()</code> - severity 50 - A fatal error occured in code, non-recoverable </p>"
   ]
  },
  {
   "cell_type": "code",
   "execution_count": null,
   "metadata": {},
   "outputs": [],
   "source": [
    "# Difference between different logging levels\n",
    "\n",
    "logger.debug(\"I'm a debug message!\")\n",
    "logger.info(\"I'm a info message!\")\n",
    "logger.warning(\"I'm a warning message!\")\n",
    "logger.error(\"I'm a error message!\")\n",
    "logger.critical(\"I'm a critical message!\")"
   ]
  },
  {
   "cell_type": "code",
   "execution_count": null,
   "metadata": {},
   "outputs": [],
   "source": [
    "# You can use them between functions and classes to retain formatting\n",
    "\n",
    "class Test():\n",
    "    def __init__(self):\n",
    "        self.logger = logging.getLogger('CustomLogger')\n",
    "\n",
    "    def print_something(self):\n",
    "        self.logger.info('This is a logger message from within a class!')"
   ]
  },
  {
   "cell_type": "code",
   "execution_count": null,
   "metadata": {},
   "outputs": [],
   "source": [
    "t = Test()\n",
    "t.print_something()"
   ]
  },
  {
   "cell_type": "markdown",
   "metadata": {},
   "source": [
    "<p class=\"text\">Below is a example as to how to apply 2 different formats - one for the standard output and one for a logging file</p> "
   ]
  },
  {
   "cell_type": "code",
   "execution_count": null,
   "metadata": {},
   "outputs": [],
   "source": [
    "# Example taken from https://alexandra-zaharia.github.io/posts/make-your-own-custom-color-formatter-with-python-logging/\n",
    "\n",
    "import logging\n",
    "import datetime\n",
    "\n",
    "class CustomFormatter(logging.Formatter):\n",
    "    \"\"\"Logging colored formatter, adapted from https://stackoverflow.com/a/56944256/3638629\"\"\"\n",
    "\n",
    "    grey = '\\x1b[38;21m'\n",
    "    blue = '\\x1b[38;5;39m'\n",
    "    yellow = '\\x1b[38;5;226m'\n",
    "    red = '\\x1b[38;5;196m'\n",
    "    bold_red = '\\x1b[31;1m'\n",
    "    reset = '\\x1b[0m'\n",
    "\n",
    "    def __init__(self, fmt):\n",
    "        super().__init__()\n",
    "        self.fmt = fmt\n",
    "        self.FORMATS = {\n",
    "            logging.DEBUG: self.grey + self.fmt + self.reset,\n",
    "            logging.INFO: self.blue + self.fmt + self.reset,\n",
    "            logging.WARNING: self.yellow + self.fmt + self.reset,\n",
    "            logging.ERROR: self.red + self.fmt + self.reset,\n",
    "            logging.CRITICAL: self.bold_red + self.fmt + self.reset\n",
    "        }\n",
    "\n",
    "    def format(self, record):\n",
    "        log_fmt = self.FORMATS.get(record.levelno)\n",
    "        formatter = logging.Formatter(log_fmt)\n",
    "        return formatter.format(record)\n",
    "\n",
    "# Create custom logger logging all five levels\n",
    "logger = logging.getLogger(__name__)\n",
    "logger.setLevel(logging.DEBUG)\n",
    "\n",
    "# Define format for logs\n",
    "fmt = '%(asctime)s | %(levelname)8s | %(message)s'\n",
    "\n",
    "# Create stdout handler for logging to the console (logs all five levels)\n",
    "stdout_handler = logging.StreamHandler()\n",
    "stdout_handler.setLevel(logging.DEBUG)\n",
    "stdout_handler.setFormatter(CustomFormatter('%(asctime)s %(levelname)s:%(message)s'))\n",
    "\n",
    "# Create file handler for logging to a file (logs all five levels)\n",
    "today = datetime.date.today()\n",
    "file_handler = logging.FileHandler('course_{}.log'.format(today.strftime('%Y_%m_%d')))\n",
    "file_handler.setLevel(logging.DEBUG)\n",
    "file_handler.setFormatter(logging.Formatter(fmt))\n",
    "\n",
    "# Add both handlers to the logger\n",
    "logger.addHandler(stdout_handler)\n",
    "logger.addHandler(file_handler)"
   ]
  },
  {
   "cell_type": "code",
   "execution_count": null,
   "metadata": {},
   "outputs": [],
   "source": [
    "logger.debug('Example message')\n",
    "logger.info('Example message')\n",
    "logger.warning('Example message')\n",
    "logger.error('Example message')\n",
    "logger.critical('Example message')"
   ]
  },
  {
   "cell_type": "code",
   "execution_count": null,
   "metadata": {},
   "outputs": [],
   "source": [
    "# Bonus: Create multiple loggers with different formats of string\n",
    "import logging \n",
    "\n",
    "class FormatManager:\n",
    "\n",
    "    def __init__(self, formatters, default_formatter):\n",
    "        self._formatters = formatters\n",
    "        self._default_formatter = default_formatter\n",
    "\n",
    "    def format(self, record):\n",
    "        formatter = self._formatters.get(record.name, self._default_formatter)\n",
    "        return formatter.format(record)\n",
    "\n",
    "\n",
    "handler = logging.StreamHandler()\n",
    "handler.setFormatter(FormatManager({\n",
    "        'CAR': logging.Formatter('CAR: %(message)s'),\n",
    "        'JEEP': logging.Formatter('JEEP: %(asctime)s %(levelname)s:%(message)s'),\n",
    "    },\n",
    "    logging.Formatter('%(message)s'),\n",
    "))\n",
    "logging.getLogger().addHandler(handler)"
   ]
  },
  {
   "cell_type": "code",
   "execution_count": null,
   "metadata": {},
   "outputs": [],
   "source": [
    "logging.getLogger('CAR').error('Log from CAR')\n",
    "logging.getLogger('JEEP').error('Log from JEEP')\n",
    "logging.getLogger('CAT').error('Log from CAT')"
   ]
  },
  {
   "cell_type": "markdown",
   "metadata": {
    "editable": true,
    "slideshow": {
     "slide_type": "slide"
    },
    "tags": []
   },
   "source": [
    "# <p class=\"text\">Thank you for your time!</p>"
   ]
  }
 ],
 "metadata": {
  "kernelspec": {
   "display_name": "Python 3 (ipykernel)",
   "language": "python",
   "name": "python3"
  },
  "language_info": {
   "codemirror_mode": {
    "name": "ipython",
    "version": 3
   },
   "file_extension": ".py",
   "mimetype": "text/x-python",
   "name": "python",
   "nbconvert_exporter": "python",
   "pygments_lexer": "ipython3",
   "version": "3.9.7"
  }
 },
 "nbformat": 4,
 "nbformat_minor": 4
}

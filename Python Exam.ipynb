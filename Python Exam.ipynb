{
 "cells": [
  {
   "cell_type": "markdown",
   "id": "d5c62429-69e7-47a2-a96d-e71249bb93c7",
   "metadata": {},
   "source": [
    "# <center>Theoretical Questions</center>"
   ]
  },
  {
   "cell_type": "markdown",
   "id": "6dea6458-f73f-4dfe-bd00-2ce178f16820",
   "metadata": {},
   "source": [
    "### What are the benefits of using Python language as a language, what are it's drawbacks?"
   ]
  },
  {
   "cell_type": "markdown",
   "id": "3799274c-c5d5-4f9b-ad5f-b35ccf5c61e4",
   "metadata": {},
   "source": [
    "### What is the difference between a Tuple and List in Python?"
   ]
  },
  {
   "cell_type": "markdown",
   "id": "d52a1fc8-d812-4797-8df8-ccb6c0783d3d",
   "metadata": {},
   "source": [
    "### Is Indentation Required in Python?"
   ]
  },
  {
   "cell_type": "markdown",
   "id": "284d92eb-17e8-4ca6-9b9b-142c6cc12a3b",
   "metadata": {},
   "source": [
    "### Difference between for loop and while loop in Python."
   ]
  },
  {
   "cell_type": "markdown",
   "id": "676dd0af-ac2d-4388-9631-61d740400e10",
   "metadata": {},
   "source": [
    "### What is List Comprehension, why do we need it and is it faster than a loop for list creation? Give an Example."
   ]
  },
  {
   "cell_type": "markdown",
   "id": "76b21ee3-49db-4c84-9e47-4c1f31a6b4c8",
   "metadata": {},
   "source": [
    "### What are unit tests in Python?"
   ]
  },
  {
   "cell_type": "markdown",
   "id": "f559255c-c141-4dd2-9d3b-a2369af71e8e",
   "metadata": {},
   "source": [
    "### What is the difference between a shallow copy and a deep copy?"
   ]
  },
  {
   "cell_type": "markdown",
   "id": "731fe73d-0be4-474f-b463-02b114d68f39",
   "metadata": {},
   "source": [
    "### What are Decorators?"
   ]
  },
  {
   "cell_type": "markdown",
   "id": "6c05ff1f-9b21-4ad7-a3fe-63325bcd27e4",
   "metadata": {},
   "source": [
    "### When a parameter is passed to a function, is it by value (copy) or reference (pointer) ?"
   ]
  },
  {
   "cell_type": "markdown",
   "id": "9b827fa7-9de4-4d1b-8dd6-4426c9271656",
   "metadata": {},
   "source": [
    "### Does Python support multiple Inheritance (OOP)?"
   ]
  },
  {
   "cell_type": "markdown",
   "id": "fe19a740-a58e-49e2-9dfb-8629bb73a5d4",
   "metadata": {},
   "source": [
    "# <center>Practical Tasks</center>"
   ]
  },
  {
   "cell_type": "markdown",
   "id": "69d5d347-05f5-4573-9e62-5911073bac3d",
   "metadata": {
    "editable": true,
    "slideshow": {
     "slide_type": ""
    },
    "tags": []
   },
   "source": [
    "# Task 1: Number Manipulation\n",
    "\n",
    "`Description`: Write a Python program to calculate the factorial of a given number.\n",
    "\n",
    "`Input`: A non-negative integer.\n",
    "\n",
    "`Output`: The factorial of the input number.\n",
    "\n",
    "`Example`: Input: 5, Output: 120\n",
    "\n",
    "`Hint`:\n",
    "A factorial is the product of all positive integers less than or equal to a given positive integer and denoted by that integer and an exclamation point.\n",
    "In the example above it's calculated like: 1 x 2 x 3 x 4 x 5"
   ]
  },
  {
   "cell_type": "markdown",
   "id": "68a1461f-2dac-4695-a8dd-f9de0c19ad5a",
   "metadata": {},
   "source": [
    "# Task 2:  String Formatting\n",
    "\n",
    "`Description`: Write a Python program to accept a first name, last name, and a sum of money (as a float). Print a formatted string in the following form: \"Hello [first_name] [last_name], you have $[amount] in your account.\"\n",
    "\n",
    "`Input`: A first name (string), last name (string), and amount (float).\n",
    "\n",
    "`Output`: The formatted string.\n",
    "\n",
    "`Example`: Input: \"John\", \"Doe\", 523.78, Output: \"Hello John Doe, you have $523.78 in your account.\""
   ]
  },
  {
   "cell_type": "markdown",
   "id": "d976acfb-26e5-4f3e-bf6d-a1414a508044",
   "metadata": {},
   "source": [
    "# Task 3:  List Operations\n",
    "\n",
    "`Description`: Create a list of even numbers from 1 to 20. Then, remove all numbers divisible by 5.\n",
    "\n",
    "`Input`: None (the list is generated within the code).\n",
    "\n",
    "`Output`: The modified list containing only the remaining even numbers.\n",
    "\n",
    "`Example`: Original list: [2, 4, 6, 8, 10, 12, 14, 16, 18, 20], Output: [2, 4, 6, 8, 12, 14, 16, 18]"
   ]
  },
  {
   "cell_type": "markdown",
   "id": "74d4b567-40e0-4aaf-8c97-a1130977621f",
   "metadata": {},
   "source": [
    "# Task 4: Student Average Grade\n",
    "\n",
    "`Description`: Create a dictionary to store the grades of students in a class (keys: student names, values: grades). Write a function to calculate the average grade of the class.\n",
    "\n",
    "`Input`: A dictionary with student names and grades.\n",
    "\n",
    "`Output`: The average grade (as a float).\n",
    "\n",
    "`Example`: Input: {\"Alice\": 85, \"Bob\": 75, \"Charlie\": 90}, Output: 83.33"
   ]
  },
  {
   "cell_type": "markdown",
   "id": "e1201ebc-235d-4326-9af4-5652d9de5b09",
   "metadata": {},
   "source": [
    "# Task 5: File Processing\n",
    "\n",
    "`Description`: Write a Python function to read a text file (\"text.txt\") and count how many times each word appears in the file, afterwards print first by occurance times and then in alphabetic order of letters for words that have the same number of occurances.\n",
    "\n",
    "`Input`: A text file named \"text.txt\".\n",
    "\n",
    "`Output`: The count of occurrences of every word\n",
    "\n",
    "`Example`: If \"text.txt\" contains the line \"Who is that and what is he doing\", the output should be:\n",
    "\n",
    "```\n",
    "is : 2\n",
    "and : 1\n",
    "doing : 1\n",
    "he : 1\n",
    "that : 1\n",
    "what : 1\n",
    "Who : 1\n",
    "```"
   ]
  },
  {
   "cell_type": "markdown",
   "id": "7732cb59-6e75-48bc-85da-b069b3a72177",
   "metadata": {},
   "source": [
    "# Task 6: Function with Parameters and Return\n",
    "\n",
    "`Description`: Define a function calculate_area that accepts the type of shape (\"circle\", \"rectangle\"), and the necessary dimensions (e.g., radius for a circle, length and width for a rectangle). It should calculate the area and return it.\n",
    "\n",
    "`Input`: Shape type (string), and the relevant dimensions (numbers).\n",
    "\n",
    "`Output`: The calculated area (float)."
   ]
  },
  {
   "cell_type": "markdown",
   "id": "a31154ef-be94-44e9-ad03-82d2de615f22",
   "metadata": {},
   "source": [
    "# Task 7: Student Management System\n",
    "\n",
    "`Description`: Write a program to build a simple Student Management System using Python.\n",
    "You will need 2 classes: Student(first_name:str, last_name:str, student_id:int, age:str) and a class to contain all students - StudentManagement, which needs to have a way to keep record of all students and has the following methods:\n",
    "\n",
    "1. accept - add Student to class only if the student_id is not already taken, if it is, return - \"Student with id {id} already exists.\"\n",
    "   \n",
    "3. display - a method that takes a student_id and prints the message \"{first_name} {last_name} is {age}-years old and has an id of {id}.\". If there is no student with this id, return \"Student with id {id} does not exist.\"\n",
    "   \n",
    "5. search - a method that finds the student by passing his ID, this method needs to be used with display, search and delete to internally find students\n",
    "   \n",
    "7. delete - delete a student from the StudentManagement class. If successful, return 'Student with id {id} removed.', otherwise return \"Student with id {id} does not exist.\"\n",
    "\n",
    "Run the below code to verify that the classes are implemented correctly."
   ]
  },
  {
   "cell_type": "markdown",
   "id": "7ef18c8b-146d-48df-bdd5-aeae1119caad",
   "metadata": {},
   "source": [
    "```\n",
    "student1 = Student(\"John\", \"Doe\", 1, 18)\n",
    "student2 = Student(\"Peter\", \"Oswell\", 1, 15)\n",
    "student3 = Student(\"Lilliam\", \"Pumpernickle\", 2, 22)\n",
    "\n",
    "student_management = StudentManagement()\n",
    "student_management.accept(student1)\n",
    "student_management.accept(student2)\n",
    "student_management.accept(student3)\n",
    "student_management.display(3)\n",
    "student_management.display(2)\n",
    "student_management.delete(1)\n",
    "student_management.display(1)\n",
    "```"
   ]
  },
  {
   "cell_type": "markdown",
   "id": "54af24d1-4a9b-4264-85a4-b0c60f370f57",
   "metadata": {},
   "source": [
    "You should receive the following output:\n",
    "```\n",
    "Student with id 1 already exists.\n",
    "Student with id 3 does not exist.\n",
    "Lilliam Pumpernickle is 22-years old and has an id of 2.\n",
    "Student with id 1 removed.\n",
    "Student with id 1 does not exist.\n",
    "```"
   ]
  },
  {
   "cell_type": "markdown",
   "id": "a53bf5ed-a738-4261-91de-7f67408054da",
   "metadata": {},
   "source": [
    "# Task 8: Correct email matcher\n",
    "\n",
    "`Description`: Define the function phone_matcher, which takes a string as it's parameter, and check if the string is a valid phone number. The valid formats are +000 000000000 (can be any digit) OR 0000000000. If there is an invalid character or the phone is invalid, print \"Invalid phone number!\"\n",
    "\n",
    "`Input`: String representing a phone number\n",
    "\n",
    "`Output`: \"Valid phone number!\" if it is one of the above formats or \"Invalid phone number!\" if it's invalid."
   ]
  },
  {
   "cell_type": "markdown",
   "id": "0826ff8b-1701-44cd-bb08-42572c6a64e2",
   "metadata": {},
   "source": [
    "Example Input:\n",
    "\n",
    "```\n",
    "phone_matcher('+359 887605061')\n",
    "phone_matcher('0887582381')\n",
    "phone_matcher('+3529 887605061')\n",
    "phone_matcher('08873582381')\n",
    "phone_matcher('+35288760061')\n",
    "phone_matcher('088582381')\n",
    "```\n",
    "\n",
    "Example Output:\n",
    "\n",
    "```\n",
    "Valid phone number!\n",
    "Valid phone number!\n",
    "Invalid phone number!\n",
    "Invalid phone number!\n",
    "Invalid phone number!\n",
    "Invalid phone number!\n",
    "```"
   ]
  },
  {
   "cell_type": "markdown",
   "id": "55e909e5-71ee-4930-9d9d-c75f7801f41d",
   "metadata": {},
   "source": [
    "# Task 9: Old phone\n",
    "\n",
    "`Description`: Define a function named old_phone, that takes a string that contains either 1, 2 or 3 of the same digits (\"1\", \"22\", \"555\") and convert it to how our old flip-phones worked. 1 is A, 11 is B, 111 is C, 2 is D and so on.\n",
    "\n",
    "`Input`: A string containing 1, 2, or 3 identical numbers\n",
    "\n",
    "`Output`: Print the letter that the numbers would equal to OR if different numbers are passed (\"456\") or the string is empty, print out \"Incorrect string!\""
   ]
  },
  {
   "cell_type": "markdown",
   "id": "e8749f2c-1e2b-465c-a2f7-5758de347f6a",
   "metadata": {},
   "source": [
    "Example Input:\n",
    "\n",
    "```\n",
    "old_phone('34')\n",
    "old_phone('2')\n",
    "old_phone('555')\n",
    "old_phone('')\n",
    "```\n",
    "\n",
    "Example Output:\n",
    "\n",
    "```\n",
    "Incorrect string!\n",
    "D\n",
    "O\n",
    "Incorrect string!\n",
    "```"
   ]
  },
  {
   "cell_type": "markdown",
   "id": "f85c89a0-4ac2-4d36-ae14-676afe886880",
   "metadata": {},
   "source": [
    "# Task 10: Fix test file\n",
    "\n",
    "`Description`: Define a function named xml_automation, that reads the `test-suite.xml` file in this folder and adds to the description tag the string \"(Automated)\" (example: `\"Tests basic subtraction functionality\"` becomes `\"(Automated) Tests basic subtraction functionality\"`), but only for the tests with tag subclass `Recovery`, and then writes it to a new file named test-automated.xml.\n",
    "\n",
    "`Input`: A .xml file named test-suite.xml\n",
    "\n",
    "`Output`: The amended file named test-automated.xml"
   ]
  },
  {
   "cell_type": "code",
   "execution_count": null,
   "id": "0a7ecd9b-6118-41da-806c-b867cf7f890f",
   "metadata": {},
   "outputs": [],
   "source": []
  }
 ],
 "metadata": {
  "kernelspec": {
   "display_name": "Python 3 (ipykernel)",
   "language": "python",
   "name": "python3"
  },
  "language_info": {
   "codemirror_mode": {
    "name": "ipython",
    "version": 3
   },
   "file_extension": ".py",
   "mimetype": "text/x-python",
   "name": "python",
   "nbconvert_exporter": "python",
   "pygments_lexer": "ipython3",
   "version": "3.9.7"
  }
 },
 "nbformat": 4,
 "nbformat_minor": 5
}
